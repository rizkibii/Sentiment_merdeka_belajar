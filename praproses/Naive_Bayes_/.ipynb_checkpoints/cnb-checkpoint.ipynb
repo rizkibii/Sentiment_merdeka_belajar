{
 "cells": [
  {
   "cell_type": "code",
   "execution_count": 2,
   "metadata": {},
   "outputs": [],
   "source": [
    "import numpy as np\n",
    "from sklearn.feature_extraction.text import CountVectorizer\n",
    "from collections import Counter\n",
    "import operator\n",
    "import math\n",
    "pi_ = math.pi\n"
   ]
  },
  {
   "cell_type": "code",
   "execution_count": 1,
   "metadata": {},
   "outputs": [],
   "source": [
    "def data_separate(y, complement=False):\n",
    "    kelas = sorted(set(y))\n",
    "    \n",
    "    dict_index = dict()\n",
    "    for c in kelas:\n",
    "        index = list()\n",
    "        for ix, c_ in enumerate(y):\n",
    "            if complement==False and c==c_:\n",
    "                index.append(ix)\n",
    "            elif complement==True and c!=c_:\n",
    "                index.append(ix)\n",
    "        dict_index.update({c:index})\n",
    "    return dict_index\n",
    "\n",
    "def prior_(y):\n",
    "    unik = sorted(set(y))\n",
    "    dict_p = dict()\n",
    "    for c in unik:\n",
    "        count = y.tolist().count(c)\n",
    "        dict_p.update({c:count/len(y)})\n",
    "    return dict_p \n",
    "\n",
    "class MultinominalNaiveBayes:\n",
    "    def __init__(self, alpha=1):\n",
    "        self.alpha = alpha\n",
    "        self.dict_nb = 0\n",
    "        \n",
    "    def train(self, X, y):\n",
    "        self.class_ = sorted(set(y))\n",
    "        self.prior = prior_(y)\n",
    "        index_data = data_separate(y, complement=True) #complement=False\n",
    "        self.an = len(X.A[0])\n",
    "        self.X = X\n",
    "        \n",
    "        self.dict_nb = dict()\n",
    "        for c in self.class_:\n",
    "            n_yi = np.sum(self.X[index_data[c]].A, axis=0)\n",
    "            n_y = self.X[index_data[c]].A.sum()\n",
    "            self.dict_nb.update({c:{}})\n",
    "            hat_theta = n_yi/(n_y+self.an)\n",
    "#             self.dict_nb[c]['hat_theta'] = hat_theta\n",
    "            w_ci = np.log(hat_theta)\n",
    "            abs_sum_wci= np.sum(np.abs(w_ci))\n",
    "            norm_wci = w_ci/abs_sum_wci\n",
    "            self.dict_nb[c]['w_ci'] = norm_wci\n",
    "            self.dict_nb[c][\"n_y\"] = n_y\n",
    "            \n",
    "    def predict(self, X):\n",
    "        self.X = X\n",
    "        result = list()\n",
    "        for i in self.X.A:\n",
    "            list_pst = list()\n",
    "            for c in self.class_:\n",
    "                laplace = self.alpha/(self.dict_nb[c][\"n_y\"]+self.an)\n",
    "                x = self.dict_nb[c][\"hat_theta\"]+laplace\n",
    "                posterior = np.prod(x**i)*self.prior[c]\n",
    "                list_pst.append(posterior)\n",
    "            result.append(self.class_[list_pst.index(min(list_pst))])\n",
    "        return result\n"
   ]
  },
  {
   "cell_type": "code",
   "execution_count": 7,
   "metadata": {},
   "outputs": [
    {
     "data": {
      "text/plain": [
       "4.1588830833596715"
      ]
     },
     "execution_count": 7,
     "metadata": {},
     "output_type": "execute_result"
    }
   ],
   "source": [
    "np.sum(np.abs(np.log(np.array([0.25,0.25,0.25]))))"
   ]
  },
  {
   "cell_type": "code",
   "execution_count": null,
   "metadata": {},
   "outputs": [],
   "source": []
  }
 ],
 "metadata": {
  "kernelspec": {
   "display_name": "Python 3",
   "language": "python",
   "name": "python3"
  },
  "language_info": {
   "codemirror_mode": {
    "name": "ipython",
    "version": 3
   },
   "file_extension": ".py",
   "mimetype": "text/x-python",
   "name": "python",
   "nbconvert_exporter": "python",
   "pygments_lexer": "ipython3",
   "version": "3.7.4"
  }
 },
 "nbformat": 4,
 "nbformat_minor": 2
}
