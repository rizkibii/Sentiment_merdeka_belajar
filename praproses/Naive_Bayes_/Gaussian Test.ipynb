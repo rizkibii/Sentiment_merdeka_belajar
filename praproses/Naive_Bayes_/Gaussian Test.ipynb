{
 "cells": [
  {
   "cell_type": "code",
   "execution_count": 1,
   "metadata": {},
   "outputs": [],
   "source": [
    "import naive_bayes as nb\n",
    "import numpy as np\n",
    "import pandas as pd"
   ]
  },
  {
   "cell_type": "code",
   "execution_count": 2,
   "metadata": {},
   "outputs": [],
   "source": [
    "foo = pd.read_excel(\"Book1.xlsx\")\n",
    "label = np.array(foo.label.tolist())\n",
    "komentar = np.array(foo.komentar.tolist())"
   ]
  },
  {
   "cell_type": "code",
   "execution_count": 3,
   "metadata": {},
   "outputs": [
    {
     "name": "stdout",
     "output_type": "stream",
     "text": [
      "['add', 'betul', 'dana', 'glowing', 'harga', 'herbal', 'ideal', 'ingin', 'ini', 'kasih', 'konsultasi', 'kulit', 'langsing', 'langsung', 'mantap', 'mantul', 'mau', 'murah', 'nanti', 'obat', 'pak', 'pintu', 'punya', 'putih', 'satu', 'sehat', 'siluman', 'terima', 'terus', 'tetap']\n",
      "(7, 30)\n"
     ]
    }
   ],
   "source": [
    "# from sklearn.feature_extraction.text import TfidfVectorizer as w\n",
    "from sklearn.feature_extraction.text import CountVectorizer as w\n",
    "corpus = komentar\n",
    "vectorizer = w()\n",
    "X = vectorizer.fit_transform(corpus)\n",
    "print(vectorizer.get_feature_names())\n",
    "\n",
    "print(X.shape)"
   ]
  },
  {
   "cell_type": "code",
   "execution_count": 4,
   "metadata": {},
   "outputs": [
    {
     "name": "stdout",
     "output_type": "stream",
     "text": [
      "0.0009\n"
     ]
    },
    {
     "data": {
      "text/plain": [
       "['spam', 'spam', 'spam', 'non spam', 'non spam', 'non spam', 'non spam']"
      ]
     },
     "execution_count": 4,
     "metadata": {},
     "output_type": "execute_result"
    }
   ],
   "source": [
    "model = nb.GaussianNaiveBayes()\n",
    "model.train(X,label)\n",
    "print(model.var_smoothing)\n",
    "model.predict(X)"
   ]
  },
  {
   "cell_type": "code",
   "execution_count": 6,
   "metadata": {},
   "outputs": [
    {
     "data": {
      "text/plain": [
       "{'non spam': {'stdev': array([0.        , 0.5       , 0.5       , 0.        , 0.        ,\n",
       "         0.        , 0.        , 0.        , 0.5       , 0.5       ,\n",
       "         0.        , 0.        , 0.        , 0.        , 0.57735027,\n",
       "         0.5       , 0.        , 0.        , 0.5       , 0.        ,\n",
       "         0.5       , 0.5       , 0.        , 0.        , 0.5       ,\n",
       "         0.5       , 0.5       , 0.5       , 0.5       , 0.5       ]),\n",
       "  'mean': array([0.  , 0.25, 0.25, 0.  , 0.  , 0.  , 0.  , 0.  , 0.25, 0.25, 0.  ,\n",
       "         0.  , 0.  , 0.  , 0.5 , 0.25, 0.  , 0.  , 0.25, 0.  , 0.75, 0.25,\n",
       "         0.  , 0.  , 0.25, 0.25, 0.25, 0.25, 0.25, 0.25])},\n",
       " 'spam': {'stdev': array([0.57735027, 0.        , 0.        , 0.57735027, 0.57735027,\n",
       "         0.57735027, 0.57735027, 0.57735027, 0.        , 0.        ,\n",
       "         0.57735027, 1.15470054, 0.57735027, 0.57735027, 0.        ,\n",
       "         0.        , 0.57735027, 0.57735027, 0.        , 0.57735027,\n",
       "         0.        , 0.        , 0.57735027, 1.        , 0.        ,\n",
       "         0.57735027, 0.        , 0.        , 0.        , 0.        ]),\n",
       "  'mean': array([0.33333333, 0.        , 0.        , 0.33333333, 0.33333333,\n",
       "         0.33333333, 0.33333333, 0.33333333, 0.        , 0.        ,\n",
       "         0.33333333, 0.66666667, 0.33333333, 0.33333333, 0.        ,\n",
       "         0.        , 0.33333333, 0.66666667, 0.        , 0.33333333,\n",
       "         0.        , 0.        , 0.33333333, 1.        , 0.        ,\n",
       "         0.33333333, 0.        , 0.        , 0.        , 0.        ])}}"
      ]
     },
     "execution_count": 6,
     "metadata": {},
     "output_type": "execute_result"
    }
   ],
   "source": [
    "model.nb_dict"
   ]
  },
  {
   "cell_type": "code",
   "execution_count": null,
   "metadata": {},
   "outputs": [],
   "source": []
  }
 ],
 "metadata": {
  "kernelspec": {
   "display_name": "Python 3",
   "language": "python",
   "name": "python3"
  },
  "language_info": {
   "codemirror_mode": {
    "name": "ipython",
    "version": 3
   },
   "file_extension": ".py",
   "mimetype": "text/x-python",
   "name": "python",
   "nbconvert_exporter": "python",
   "pygments_lexer": "ipython3",
   "version": "3.7.3"
  }
 },
 "nbformat": 4,
 "nbformat_minor": 2
}
