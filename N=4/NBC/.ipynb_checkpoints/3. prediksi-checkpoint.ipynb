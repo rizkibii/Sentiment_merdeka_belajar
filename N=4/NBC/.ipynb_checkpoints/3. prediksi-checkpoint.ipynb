{
 "cells": [
  {
   "cell_type": "code",
   "execution_count": 4,
   "metadata": {},
   "outputs": [],
   "source": [
    "import joblib\n",
    "import sys\n",
    "import os\n",
    "alamat = \"/\".join(os.getcwd().split(\"\\\\\")[:-2])\n",
    "sys.path.append(alamat+'/praproses')\n",
    "import ngrams as ng\n",
    "from normalisasi import normalisasi as nrm\n",
    "import token as tkn\n",
    "import stemming as stm\n",
    "import cleansing\n",
    "import stemming\n",
    "import seleksi_kata as sk\n",
    "import pandas as pd\n",
    "import isDigit as isd"
   ]
  },
  {
   "cell_type": "code",
   "execution_count": 5,
   "metadata": {},
   "outputs": [],
   "source": [
    "# tdidf = joblib.load(\"model/tdidf.w\")\n",
    "naive_bayes = joblib.load(\"model/naive_bayes.m\")"
   ]
  },
  {
   "cell_type": "code",
   "execution_count": 6,
   "metadata": {},
   "outputs": [],
   "source": [
    "def praproses(twt, n=3):\n",
    "    twt = sk.seleksi(twt)\n",
    "    twt = cleansing.cleaning(twt)\n",
    "    twt = isd.remove_digit(twt)\n",
    "    twt = nrm.slangword(twt)\n",
    "    twt = stm.stemming(twt)\n",
    "    twt = stm.StopWordRemover(twt)\n",
    "    twt = ng.ngramku(twt, n=n)['string']\n",
    "    return twt"
   ]
  },
  {
   "cell_type": "code",
   "execution_count": 7,
   "metadata": {},
   "outputs": [
    {
     "data": {
      "text/plain": [
       "'tuju banget'"
      ]
     },
     "execution_count": 7,
     "metadata": {},
     "output_type": "execute_result"
    }
   ],
   "source": [
    "praproses(\"RT @hpsetyawan: @afiadi @Gerindra @prabowo setuju bgt\", n=1)"
   ]
  },
  {
   "cell_type": "code",
   "execution_count": 8,
   "metadata": {},
   "outputs": [
    {
     "data": {
      "text/plain": [
       "'positive'"
      ]
     },
     "execution_count": 8,
     "metadata": {},
     "output_type": "execute_result"
    }
   ],
   "source": [
    "kalimat = \"RT @hpsetyawan: @afiadi @Gerindra @prabowo setuju bgt\"\n",
    "# print(praproses(kalimat))\n",
    "naive_bayes.predict([praproses(kalimat)])[0]\n",
    "#memprediksi kalimat di preproses, kemudian di transform menjadi vector,diprediksi menggunakan NB"
   ]
  },
  {
   "cell_type": "markdown",
   "metadata": {},
   "source": [
    "# Prediksi data uji [1]"
   ]
  },
  {
   "cell_type": "code",
   "execution_count": 10,
   "metadata": {},
   "outputs": [
    {
     "name": "stdout",
     "output_type": "stream",
     "text": [
      "              precision    recall  f1-score   support\n",
      "\n",
      "    negative       0.50      0.73      0.59        15\n",
      "    positive       0.95      0.87      0.91        85\n",
      "\n",
      "    accuracy                           0.85       100\n",
      "   macro avg       0.72      0.80      0.75       100\n",
      "weighted avg       0.88      0.85      0.86       100\n",
      "\n"
     ]
    }
   ],
   "source": [
    "df = pd.read_excel(\"../../data_uji/100 data jan-maret jokowi.xlsx\")\n",
    "twet_uji = df.message.tolist()\n",
    "label_asli = df.label.tolist()\n",
    "twet_uji_bersih = list()\n",
    "\n",
    "for ix, t in enumerate(twet_uji):\n",
    "    twet_uji_bersih.append(praproses(t))\n",
    "#     print(ix)\n",
    "prediksi = naive_bayes.predict(twet_uji_bersih)\n",
    "\n",
    "from sklearn.metrics import classification_report\n",
    "y_true = label_asli\n",
    "y_pred = prediksi\n",
    "target_names = ['negative', 'positive',]\n",
    "print(classification_report(y_true, y_pred, target_names=target_names))"
   ]
  },
  {
   "cell_type": "code",
   "execution_count": 11,
   "metadata": {
    "scrolled": true
   },
   "outputs": [
    {
     "name": "stdout",
     "output_type": "stream",
     "text": [
      "1\n",
      "Prediksi: positive\n",
      "asli    : negative\n",
      "     RT @basukids: @Gerindra @jokowi Anuuu... pemahamannya kurang eh..\n",
      "#PrabowoBentengNKRI\n",
      "====================================================================================================\n",
      "5\n",
      "Prediksi: negative\n",
      "asli    : positive\n",
      "     RT @xLoneWoIf: Inilah konsep kerjasama Indo-Pasifik. Nggak usah takut bakal makin banyak persaingan, krn @jokowi telah menyusun berbagai strategi\n",
      "====================================================================================================\n",
      "9\n",
      "Prediksi: positive\n",
      "asli    : negative\n",
      "     RT @gw_eilo: Malam Pak @jokowi Pak @prabowo saya izin tidur ya Pak, ngantuk, debatnya membosankan.\n",
      "====================================================================================================\n",
      "13\n",
      "Prediksi: negative\n",
      "asli    : positive\n",
      "     RT @CNNIDdaily: Capres nomor urut 01, @jokowi: Tapi masalah tuduh-menuduh saya kan juga banyak dituduh pak.\n",
      "\n",
      "#DebatCapres2019\n",
      "#DebatKeempat…\n",
      "====================================================================================================\n",
      "26\n",
      "Prediksi: positive\n",
      "asli    : negative\n",
      "     RT @unknownzoel_: Saya lihat pak @prabowo tidak percaya oleh TNI kita , \n",
      "\"Quotes from @jokowi 2019\"\n",
      "\n",
      "#prabowotidakpercaya\n",
      "#DebatAsyikJokowi…\n",
      "====================================================================================================\n",
      "32\n",
      "Prediksi: negative\n",
      "asli    : positive\n",
      "     RT @AdaCeuceu: emang bangsad sih kalo ada yang masih meragukan keisalaman doi, wong @jokowi masuk kdalam track 50 muslim berpengaruh.\n",
      "====================================================================================================\n",
      "39\n",
      "Prediksi: negative\n",
      "asli    : positive\n",
      "     RT @trenzsolo: \"Pak Prabowo ini tidak percaya pada TNI kita !!\" Kick telak @jokowi atas pernyataan Prabowo soal pertahananan RI\n",
      "====================================================================================================\n",
      "41\n",
      "Prediksi: positive\n",
      "asli    : negative\n",
      "     RT @milenial_kaum: @kangdede78 @jokowi #PemerintahanDILAN makin mempermudah warganya, tidak seperti bapak sombong yang selalu mengulang masa lalu\n",
      "====================================================================================================\n",
      "44\n",
      "Prediksi: negative\n",
      "asli    : positive\n",
      "     RT @bseptian15: @TeddyGusnaidi @prabowo @Gerindra Sekarang berani tidak pak @Jokowi menolak pak Yusril masuk ke kubunya\n",
      "====================================================================================================\n",
      "50\n",
      "Prediksi: negative\n",
      "asli    : positive\n",
      "     RT @densha_foxtrot: Pakdhe @jokowi kalo pakdhe punya program pengadaan rudal balistik ogut dukung pakdhe lahir batin\n",
      "====================================================================================================\n",
      "59\n",
      "Prediksi: negative\n",
      "asli    : positive\n",
      "     RT @RumahJokowi: Semua masalah bisa diatasi, dan tidak semuanya hrs tergantung pemerintah. Krn orang Indonesia itu tangguh.\n",
      "====================================================================================================\n",
      "60\n",
      "Prediksi: negative\n",
      "asli    : positive\n",
      "     RT @1blackcoffee888: #DebatAsyikJokowi \n",
      "Utk membangun kekuatan pertahanan RI, @jokowi telah membangun postur &amp; memodernkan alutsista TNI\n",
      "====================================================================================================\n",
      "81\n",
      "Prediksi: negative\n",
      "asli    : positive\n",
      "     RT @ClarissaInd: Sudah terbukti bapak @jokowi  hanya korban fitnah. Politik jangan gitu-gitu amat. Malu tau 😬😬😬\n",
      "@woelannnn @BiLLRaY_\n",
      "====================================================================================================\n",
      "90\n",
      "Prediksi: negative\n",
      "asli    : positive\n",
      "     RT @teresaracel: JOKOWI GOQIL \n",
      "ini perbandingan foto pak @Jokowi dan presiden sebelumnya yang menentukan kekuatan hubungan internasional.\n",
      "====================================================================================================\n",
      "97\n",
      "Prediksi: negative\n",
      "asli    : positive\n",
      "     RT @akuratco: .@jokowi ke @prabowo: Tidak saling menghujat, menghina, meremehkan, menjelekkan.Yg itu sekarang ini kita lihat.\n",
      "====================================================================================================\n"
     ]
    }
   ],
   "source": [
    "ix = 0\n",
    "for twet, asli, pred in zip(twet_uji, label_asli,prediksi):\n",
    "    if pred!= asli:\n",
    "        print(ix)\n",
    "        print(\"Prediksi:\",pred)\n",
    "        print(\"asli    :\",asli)\n",
    "        print(\"    \",twet)\n",
    "        print(\"=\"*100)\n",
    "    ix+=1"
   ]
  },
  {
   "cell_type": "markdown",
   "metadata": {},
   "source": [
    "# Prediksi data uji [2]"
   ]
  },
  {
   "cell_type": "code",
   "execution_count": 12,
   "metadata": {},
   "outputs": [
    {
     "name": "stdout",
     "output_type": "stream",
     "text": [
      "              precision    recall  f1-score   support\n",
      "\n",
      "    negative       0.65      0.83      0.73        36\n",
      "    positive       0.89      0.75      0.81        64\n",
      "\n",
      "    accuracy                           0.78       100\n",
      "   macro avg       0.77      0.79      0.77       100\n",
      "weighted avg       0.80      0.78      0.78       100\n",
      "\n"
     ]
    }
   ],
   "source": [
    "df = pd.read_excel(\"../../data_uji/100 data jan-maret prabowo.xlsx\")\n",
    "twet_uji = df.message.tolist()\n",
    "label_asli = df.label.tolist()\n",
    "twet_uji_bersih = list()\n",
    "for t in twet_uji:\n",
    "    twet_uji_bersih.append(praproses(t))\n",
    "prediksi = naive_bayes.predict(twet_uji_bersih)\n",
    "\n",
    "from sklearn.metrics import classification_report\n",
    "y_true = label_asli\n",
    "y_pred = prediksi\n",
    "target_names = ['negative', 'positive',]\n",
    "print(classification_report(y_true, y_pred, target_names=target_names))"
   ]
  },
  {
   "cell_type": "code",
   "execution_count": 13,
   "metadata": {},
   "outputs": [
    {
     "name": "stdout",
     "output_type": "stream",
     "text": [
      "3\n",
      "Prediksi: positive\n",
      "asli    : negative\n",
      "     RT @gw_eilo: Malam Pak @jokowi Pak @prabowo saya izin tidur ya Pak, ngantuk, debatnya membosankan...\n",
      "====================================================================================================\n",
      "7\n",
      "Prediksi: negative\n",
      "asli    : positive\n",
      "     RT @AudiiK__: Pak @prabowo seneng banget ngomongin kekayaan Indonesia banyak mengalir ke luar negeri dan dengan bangganya ingin menaikan pajak\n",
      "====================================================================================================\n",
      "12\n",
      "Prediksi: negative\n",
      "asli    : positive\n",
      "     RT @Anak_Garundang: Saya paling suka cara pak @prabowo skak mat si mukio itu. \n",
      "Langsung keringat dingin dan lap air mata. \n",
      "Jangan kasih ampun\n",
      "====================================================================================================\n",
      "13\n",
      "Prediksi: negative\n",
      "asli    : positive\n",
      "     RT @WiwisMbecak: Masih demen ya nyebut2 Cak J? Sudahlah. Lupain Cak J.\n",
      "Sekarang musim @prabowo dan @sandiuno ! \n",
      "\n",
      "Lambungkan terus\n",
      "#PrabowoB…\n",
      "====================================================================================================\n",
      "17\n",
      "Prediksi: positive\n",
      "asli    : negative\n",
      "     RT @unknownzoel_: Saya lihat pak @prabowo tidak percaya oleh TNI kita , \n",
      "\"Quotes from @jokowi 2019\"\n",
      "\n",
      "#prabowotidakpercaya\n",
      "#DebatAsyikJokowi…\n",
      "====================================================================================================\n",
      "23\n",
      "Prediksi: negative\n",
      "asli    : positive\n",
      "     RT @RajaGuguk14: @JackVardan @Zumpio Lupa bilang, si cebong diam dan mlongo. Rasanya berhasil saya ngegetok kepalanya. @prabowo itu bersih!\n",
      "====================================================================================================\n",
      "25\n",
      "Prediksi: positive\n",
      "asli    : negative\n",
      "     RT @LaskarCikeas: admin @Gerindra tolong dong dibilangin ke ketumlo @prabowo ini debat bukan lagi ngobrol di warung kopi, \n",
      "====================================================================================================\n",
      "26\n",
      "Prediksi: negative\n",
      "asli    : positive\n",
      "     RT @AgusKodri: Sesi ke-3, @prabowo luar biasa berikan jawaban yg sangat tepat bagaimana memoderenkan persenjataan utk menjaga pertahanan dari asing\n",
      "====================================================================================================\n",
      "33\n",
      "Prediksi: positive\n",
      "asli    : negative\n",
      "     RT @Prasyudyo: Sebagai pekerja digital, gw sih ogah diajakin ke teknologi lama ama pak @prabowo maaf Pak, jika tidak mampu mengikuti perkembangan gak usah ngajakin\n",
      "====================================================================================================\n",
      "36\n",
      "Prediksi: negative\n",
      "asli    : positive\n",
      "     RT @KompasTV: \"Kalau ada yang mau mengubah Pancasila, akan saya hadapi dengan semua kekuatan yang ada pada diri saya.\" -@prabowo \n",
      "====================================================================================================\n",
      "38\n",
      "Prediksi: negative\n",
      "asli    : positive\n",
      "     RT @TAMPICO1994: @wendy_diana @prabowo betul👏👏berapi api,pertahankan pak @prabowo \n",
      "#01CapresPendustaAbadi\n",
      "====================================================================================================\n",
      "45\n",
      "Prediksi: negative\n",
      "asli    : positive\n",
      "     RT @kompascom: \"Kalau ada yang mau mengubah Pancasila, akan saya hadapi dengan semua kekuatan yang ada pada diri saya.\" - @Prabowo \n",
      "====================================================================================================\n",
      "57\n",
      "Prediksi: negative\n",
      "asli    : positive\n",
      "     RT @AnomAnomsuratno: @JackVardan Betul pak @prabowo, teknologi tinggi uangnya hilang, mending simpen di bawah bantal. Aman.\n",
      "====================================================================================================\n",
      "58\n",
      "Prediksi: negative\n",
      "asli    : positive\n",
      "     RT @AlfatihRama: Ini yg saya tunggu pak @prabowo lantang menyerang namun santun,\n",
      "\n",
      "Bring back the tiger of asia's\n",
      "\n",
      "#PrabowoBentengNKRI\n",
      "====================================================================================================\n",
      "61\n",
      "Prediksi: positive\n",
      "asli    : negative\n",
      "     RT @Lidabasah: Fixx @prabowo Jadi Capres abadi.\n",
      "\n",
      "Kenapa?\n",
      "\n",
      "Krna Ideologi dri ormas2 Pendukungnya tak sejalan dengan PANCASILA \n",
      "====================================================================================================\n",
      "77\n",
      "Prediksi: negative\n",
      "asli    : positive\n",
      "     RT @PSD_313: Gw demen klo om @prabowo tegas gini 😂😂 mengkeret tuh boneka 😂\n",
      "\n",
      "#01CapresPendustaAbadi\n",
      "====================================================================================================\n",
      "79\n",
      "Prediksi: negative\n",
      "asli    : positive\n",
      "     RT @puthandini: gmn nih pak @prabowo milih metode lama? masa menolak perkembangan ekonomi untuk lebih maju lagi? dikasih yang mudah ko malah gak mau\n",
      "====================================================================================================\n",
      "81\n",
      "Prediksi: positive\n",
      "asli    : negative\n",
      "     RT @Herrreza: Semua program Prabowo ttg Ideologi Pancasila tidak Pantas dipercaya. @prabowo Tidak hapal Pancasila https://t.co/0cWlKe9i2i\n",
      "====================================================================================================\n",
      "86\n",
      "Prediksi: negative\n",
      "asli    : positive\n",
      "     RT @EV220622: Astagfirullah.. \n",
      "Knapa kalian jegal trus.. \n",
      "Knapa kalian ketakutan... \n",
      "\n",
      "Tdk pantas kalian halangi Pak @prabowo\n",
      "====================================================================================================\n",
      "88\n",
      "Prediksi: negative\n",
      "asli    : positive\n",
      "     RT @blontankpoer: perbandingan visi-misi @jokowi dan @prabowo menurut catatan @BBCIndonesia. Pak Jokowi lebih berpandangan jauh ke depan.\n",
      "====================================================================================================\n",
      "89\n",
      "Prediksi: negative\n",
      "asli    : positive\n",
      "     RT @sipahutaru: Pancasila sudah final. Kalau ada yg mau mengubah pancasila, akan saya hadapi dgn kekuatan yang ada. @prabowo Subianto.\n",
      "====================================================================================================\n",
      "95\n",
      "Prediksi: negative\n",
      "asli    : positive\n",
      "     RT @gandrasta: \"Saya lahir dari rahim seorang Nasrani, bagaimana saya bisa membela khilafah?\"~Pak @prabowo\n",
      "\n",
      "\"Saya percaya Pak\"~@jokowi\n",
      "====================================================================================================\n"
     ]
    }
   ],
   "source": [
    "ix = 0\n",
    "for twet, asli, pred in zip(twet_uji, label_asli,prediksi):\n",
    "    if pred!= asli:\n",
    "        print(ix)\n",
    "        print(\"Prediksi:\",pred)\n",
    "        print(\"asli    :\",asli)\n",
    "        print(\"    \",twet)\n",
    "        print(\"=\"*100)\n",
    "    ix+=1"
   ]
  },
  {
   "cell_type": "code",
   "execution_count": null,
   "metadata": {},
   "outputs": [],
   "source": []
  }
 ],
 "metadata": {
  "kernelspec": {
   "display_name": "Python 3",
   "language": "python",
   "name": "python3"
  },
  "language_info": {
   "codemirror_mode": {
    "name": "ipython",
    "version": 3
   },
   "file_extension": ".py",
   "mimetype": "text/x-python",
   "name": "python",
   "nbconvert_exporter": "python",
   "pygments_lexer": "ipython3",
   "version": "3.7.4"
  }
 },
 "nbformat": 4,
 "nbformat_minor": 2
}
