{
 "cells": [
  {
   "cell_type": "code",
   "execution_count": 1,
   "metadata": {},
   "outputs": [],
   "source": [
    "import joblib\n",
    "import sys\n",
    "import os\n",
    "alamat = \"/\".join(os.getcwd().split(\"\\\\\")[:-2])\n",
    "sys.path.append(alamat+'/praproses')\n",
    "import ngrams as ng\n",
    "from normalisasi import normalisasi as nrm\n",
    "import token as tkn\n",
    "import stemming as stm\n",
    "import cleansing\n",
    "import stemming\n",
    "import seleksi_kata as sk\n",
    "import pandas as pd\n",
    "import isDigit as isd"
   ]
  },
  {
   "cell_type": "code",
   "execution_count": 2,
   "metadata": {},
   "outputs": [],
   "source": [
    "tdidf = joblib.load(\"model/tdidf.w\")\n",
    "naive_bayes = joblib.load(\"model/naive_bayes.m\")"
   ]
  },
  {
   "cell_type": "code",
   "execution_count": 3,
   "metadata": {},
   "outputs": [],
   "source": [
    "def praproses(twt, n=3):\n",
    "    twt = sk.seleksi(twt)\n",
    "    twt = cleansing.cleaning(twt)\n",
    "    twt = isd.remove_digit(twt)\n",
    "    twt = nrm.slangword(twt)\n",
    "    twt = stm.stemming(twt)\n",
    "    twt = stm.StopWordRemover(twt)\n",
    "    twt = ng.ngramku(twt, n=n)['string']\n",
    "    return twt"
   ]
  },
  {
   "cell_type": "code",
   "execution_count": 4,
   "metadata": {},
   "outputs": [
    {
     "data": {
      "text/plain": [
       "'tuju banget'"
      ]
     },
     "execution_count": 4,
     "metadata": {},
     "output_type": "execute_result"
    }
   ],
   "source": [
    "praproses(\"RT @hpsetyawan: @afiadi @Gerindra @prabowo setuju bgt\", n=3)"
   ]
  },
  {
   "cell_type": "code",
   "execution_count": 6,
   "metadata": {},
   "outputs": [
    {
     "data": {
      "text/plain": [
       "'positive'"
      ]
     },
     "execution_count": 6,
     "metadata": {},
     "output_type": "execute_result"
    }
   ],
   "source": [
    "kalimat = \"RT @hpsetyawan: @afiadi @Gerindra @prabowo setuju bgt\"\n",
    "# print(praproses(kalimat))\n",
    "naive_bayes.predict(tdidf.transform([praproses(kalimat)]))[0]\n",
    "#memprediksi kalimat di preproses, kemudian di transform menjadi vector,diprediksi menggunakan NB"
   ]
  },
  {
   "cell_type": "markdown",
   "metadata": {},
   "source": [
    "# Prediksi data uji [1]"
   ]
  },
  {
   "cell_type": "code",
   "execution_count": 7,
   "metadata": {},
   "outputs": [
    {
     "name": "stdout",
     "output_type": "stream",
     "text": [
      "              precision    recall  f1-score   support\n",
      "\n",
      "    negative       0.71      0.80      0.75        15\n",
      "    positive       0.96      0.94      0.95        85\n",
      "\n",
      "    accuracy                           0.92       100\n",
      "   macro avg       0.83      0.87      0.85       100\n",
      "weighted avg       0.93      0.92      0.92       100\n",
      "\n"
     ]
    }
   ],
   "source": [
    "df = pd.read_excel(\"../data_uji/100 data jan-maret jokowi.xlsx\")\n",
    "twet_uji = df.message.tolist()\n",
    "label_asli = df.label.tolist()\n",
    "twet_uji_bersih = list()\n",
    "\n",
    "for ix, t in enumerate(twet_uji):\n",
    "    twet_uji_bersih.append(praproses(t))\n",
    "#     print(ix)\n",
    "prediksi = naive_bayes.predict(tdidf.transform(twet_uji_bersih))\n",
    "\n",
    "from sklearn.metrics import classification_report\n",
    "y_true = label_asli\n",
    "y_pred = prediksi\n",
    "target_names = ['negative', 'positive',]\n",
    "print(classification_report(y_true, y_pred, target_names=target_names))"
   ]
  },
  {
   "cell_type": "code",
   "execution_count": 8,
   "metadata": {
    "scrolled": true
   },
   "outputs": [
    {
     "name": "stdout",
     "output_type": "stream",
     "text": [
      "1\n",
      "Prediksi: positive\n",
      "asli    : negative\n",
      "     RT @basukids: @Gerindra @jokowi Anuuu... pemahamannya kurang eh..\n",
      "#PrabowoBentengNKRI\n",
      "====================================================================================================\n",
      "9\n",
      "Prediksi: positive\n",
      "asli    : negative\n",
      "     RT @gw_eilo: Malam Pak @jokowi Pak @prabowo saya izin tidur ya Pak, ngantuk, debatnya membosankan.\n",
      "====================================================================================================\n",
      "13\n",
      "Prediksi: negative\n",
      "asli    : positive\n",
      "     RT @CNNIDdaily: Capres nomor urut 01, @jokowi: Tapi masalah tuduh-menuduh saya kan juga banyak dituduh pak.\n",
      "\n",
      "#DebatCapres2019\n",
      "#DebatKeempat…\n",
      "====================================================================================================\n",
      "26\n",
      "Prediksi: positive\n",
      "asli    : negative\n",
      "     RT @unknownzoel_: Saya lihat pak @prabowo tidak percaya oleh TNI kita , \n",
      "\"Quotes from @jokowi 2019\"\n",
      "\n",
      "#prabowotidakpercaya\n",
      "#DebatAsyikJokowi…\n",
      "====================================================================================================\n",
      "39\n",
      "Prediksi: negative\n",
      "asli    : positive\n",
      "     RT @trenzsolo: \"Pak Prabowo ini tidak percaya pada TNI kita !!\" Kick telak @jokowi atas pernyataan Prabowo soal pertahananan RI\n",
      "====================================================================================================\n",
      "44\n",
      "Prediksi: negative\n",
      "asli    : positive\n",
      "     RT @bseptian15: @TeddyGusnaidi @prabowo @Gerindra Sekarang berani tidak pak @Jokowi menolak pak Yusril masuk ke kubunya\n",
      "====================================================================================================\n",
      "90\n",
      "Prediksi: negative\n",
      "asli    : positive\n",
      "     RT @teresaracel: JOKOWI GOQIL \n",
      "ini perbandingan foto pak @Jokowi dan presiden sebelumnya yang menentukan kekuatan hubungan internasional.\n",
      "====================================================================================================\n",
      "97\n",
      "Prediksi: negative\n",
      "asli    : positive\n",
      "     RT @akuratco: .@jokowi ke @prabowo: Tidak saling menghujat, menghina, meremehkan, menjelekkan.Yg itu sekarang ini kita lihat.\n",
      "====================================================================================================\n"
     ]
    }
   ],
   "source": [
    "ix = 0\n",
    "for twet, asli, pred in zip(twet_uji, label_asli,prediksi):\n",
    "    if pred!= asli:\n",
    "        print(ix)\n",
    "        print(\"Prediksi:\",pred)\n",
    "        print(\"asli    :\",asli)\n",
    "        print(\"    \",twet)\n",
    "        print(\"=\"*100)\n",
    "    ix+=1"
   ]
  },
  {
   "cell_type": "markdown",
   "metadata": {},
   "source": [
    "# Prediksi data uji [2]"
   ]
  },
  {
   "cell_type": "code",
   "execution_count": 9,
   "metadata": {},
   "outputs": [
    {
     "name": "stdout",
     "output_type": "stream",
     "text": [
      "              precision    recall  f1-score   support\n",
      "\n",
      "    negative       0.63      0.86      0.73        36\n",
      "    positive       0.90      0.72      0.80        64\n",
      "\n",
      "    accuracy                           0.77       100\n",
      "   macro avg       0.77      0.79      0.76       100\n",
      "weighted avg       0.81      0.77      0.77       100\n",
      "\n"
     ]
    }
   ],
   "source": [
    "df = pd.read_excel(\"../data_uji/100 data jan-maret prabowo.xlsx\")\n",
    "twet_uji = df.message.tolist()\n",
    "label_asli = df.label.tolist()\n",
    "twet_uji_bersih = list()\n",
    "for t in twet_uji:\n",
    "    twet_uji_bersih.append(praproses(t))\n",
    "prediksi = naive_bayes.predict(tdidf.transform(twet_uji_bersih))\n",
    "\n",
    "from sklearn.metrics import classification_report\n",
    "y_true = label_asli\n",
    "y_pred = prediksi\n",
    "target_names = ['negative', 'positive',]\n",
    "print(classification_report(y_true, y_pred, target_names=target_names))"
   ]
  },
  {
   "cell_type": "code",
   "execution_count": 10,
   "metadata": {},
   "outputs": [
    {
     "name": "stdout",
     "output_type": "stream",
     "text": [
      "3\n",
      "Prediksi: positive\n",
      "asli    : negative\n",
      "     RT @gw_eilo: Malam Pak @jokowi Pak @prabowo saya izin tidur ya Pak, ngantuk, debatnya membosankan...\n",
      "====================================================================================================\n",
      "4\n",
      "Prediksi: negative\n",
      "asli    : positive\n",
      "     RT @Anak_Garundang: Bahasa inggris nya keren pak @prabowo \n",
      "Pasti 01 tambah pucat grogi. \n",
      "#PrabowoBentengNKRI \n",
      "#PrabowoBentengNKRI \n",
      "====================================================================================================\n",
      "7\n",
      "Prediksi: negative\n",
      "asli    : positive\n",
      "     RT @AudiiK__: Pak @prabowo seneng banget ngomongin kekayaan Indonesia banyak mengalir ke luar negeri dan dengan bangganya ingin menaikan pajak\n",
      "====================================================================================================\n",
      "12\n",
      "Prediksi: negative\n",
      "asli    : positive\n",
      "     RT @Anak_Garundang: Saya paling suka cara pak @prabowo skak mat si mukio itu. \n",
      "Langsung keringat dingin dan lap air mata. \n",
      "Jangan kasih ampun\n",
      "====================================================================================================\n",
      "17\n",
      "Prediksi: positive\n",
      "asli    : negative\n",
      "     RT @unknownzoel_: Saya lihat pak @prabowo tidak percaya oleh TNI kita , \n",
      "\"Quotes from @jokowi 2019\"\n",
      "\n",
      "#prabowotidakpercaya\n",
      "#DebatAsyikJokowi…\n",
      "====================================================================================================\n",
      "23\n",
      "Prediksi: negative\n",
      "asli    : positive\n",
      "     RT @RajaGuguk14: @JackVardan @Zumpio Lupa bilang, si cebong diam dan mlongo. Rasanya berhasil saya ngegetok kepalanya. @prabowo itu bersih!\n",
      "====================================================================================================\n",
      "28\n",
      "Prediksi: negative\n",
      "asli    : positive\n",
      "     RT @RudiyanaAbie: Semoga langkah ringan kita RT ini, menjadi gabungan langkah kuat menuju hadirnya bapak @prabowo dan bapak @sandiaga\n",
      "====================================================================================================\n",
      "33\n",
      "Prediksi: positive\n",
      "asli    : negative\n",
      "     RT @Prasyudyo: Sebagai pekerja digital, gw sih ogah diajakin ke teknologi lama ama pak @prabowo maaf Pak, jika tidak mampu mengikuti perkembangan gak usah ngajakin\n",
      "====================================================================================================\n",
      "35\n",
      "Prediksi: negative\n",
      "asli    : positive\n",
      "     RT @El_legolas1899: @Dennysiregar7 @prabowo @sandiuno Narasi tolol emang dikata pendukung Prabowo-Sandi itu muslim doang??\n",
      "====================================================================================================\n",
      "38\n",
      "Prediksi: negative\n",
      "asli    : positive\n",
      "     RT @TAMPICO1994: @wendy_diana @prabowo betul👏👏berapi api,pertahankan pak @prabowo \n",
      "#01CapresPendustaAbadi\n",
      "====================================================================================================\n",
      "49\n",
      "Prediksi: negative\n",
      "asli    : positive\n",
      "     RT @finka_laras: Ini baru @prabowo aslinya tegas lugas di debat malam ini\n",
      "Cc @zarazettirazr \n",
      "@Dahnilanzar @HeraLoebs\n",
      "====================================================================================================\n",
      "57\n",
      "Prediksi: negative\n",
      "asli    : positive\n",
      "     RT @AnomAnomsuratno: @JackVardan Betul pak @prabowo, teknologi tinggi uangnya hilang, mending simpen di bawah bantal. Aman.\n",
      "====================================================================================================\n",
      "58\n",
      "Prediksi: negative\n",
      "asli    : positive\n",
      "     RT @AlfatihRama: Ini yg saya tunggu pak @prabowo lantang menyerang namun santun,\n",
      "\n",
      "Bring back the tiger of asia's\n",
      "\n",
      "#PrabowoBentengNKRI\n",
      "====================================================================================================\n",
      "61\n",
      "Prediksi: positive\n",
      "asli    : negative\n",
      "     RT @Lidabasah: Fixx @prabowo Jadi Capres abadi.\n",
      "\n",
      "Kenapa?\n",
      "\n",
      "Krna Ideologi dri ormas2 Pendukungnya tak sejalan dengan PANCASILA \n",
      "====================================================================================================\n",
      "65\n",
      "Prediksi: negative\n",
      "asli    : positive\n",
      "     RT @Summ3rMist: Sudah bayar iuran tapi berobat juga masih susah begitu curhatan rakyat terkait BPJS \n",
      " #PrabowoMenangDebat @prabowo\n",
      "====================================================================================================\n",
      "71\n",
      "Prediksi: negative\n",
      "asli    : positive\n",
      "     RT @NurlelySiregar: Pak @Prabowo terus2an membahas pemberantasan korupsi dan juga peningkatan kesejahteraan rakyat.\n",
      "====================================================================================================\n",
      "76\n",
      "Prediksi: negative\n",
      "asli    : positive\n",
      "     RT @kenshinov: Mas @inisifani jab pak @prabowo bikin petahana susah nafas\n",
      "====================================================================================================\n",
      "77\n",
      "Prediksi: negative\n",
      "asli    : positive\n",
      "     RT @PSD_313: Gw demen klo om @prabowo tegas gini 😂😂 mengkeret tuh boneka 😂\n",
      "\n",
      "#01CapresPendustaAbadi\n",
      "====================================================================================================\n",
      "81\n",
      "Prediksi: positive\n",
      "asli    : negative\n",
      "     RT @Herrreza: Semua program Prabowo ttg Ideologi Pancasila tidak Pantas dipercaya. @prabowo Tidak hapal Pancasila https://t.co/0cWlKe9i2i\n",
      "====================================================================================================\n",
      "88\n",
      "Prediksi: negative\n",
      "asli    : positive\n",
      "     RT @blontankpoer: perbandingan visi-misi @jokowi dan @prabowo menurut catatan @BBCIndonesia. Pak Jokowi lebih berpandangan jauh ke depan.\n",
      "====================================================================================================\n",
      "94\n",
      "Prediksi: negative\n",
      "asli    : positive\n",
      "     RT @erlyy66: @putrabanten80 Saya puas dg jawaban bapa @prabowo .. love you pa 😍😍😍\n",
      "====================================================================================================\n",
      "97\n",
      "Prediksi: negative\n",
      "asli    : positive\n",
      "     RT @hartantowelas: Bendera sudah berkibar dengan beberapa warna. Inilah tanda bahwa kemenangan @prabowo @sandiuno sudah terbuka. \n",
      "====================================================================================================\n",
      "99\n",
      "Prediksi: negative\n",
      "asli    : positive\n",
      "     RT @Martono92511495: @ZAEffendy @prabowo @sandiuno Mdah Mdahan Prabo wo sehat agar bisa menghadiri pelantikan Jokowi di pilpres nanti. Amin\n",
      "====================================================================================================\n"
     ]
    }
   ],
   "source": [
    "ix = 0\n",
    "for twet, asli, pred in zip(twet_uji, label_asli,prediksi):\n",
    "    if pred!= asli:\n",
    "        print(ix)\n",
    "        print(\"Prediksi:\",pred)\n",
    "        print(\"asli    :\",asli)\n",
    "        print(\"    \",twet)\n",
    "        print(\"=\"*100)\n",
    "    ix+=1"
   ]
  },
  {
   "cell_type": "code",
   "execution_count": null,
   "metadata": {},
   "outputs": [],
   "source": []
  }
 ],
 "metadata": {
  "kernelspec": {
   "display_name": "Python 3",
   "language": "python",
   "name": "python3"
  },
  "language_info": {
   "codemirror_mode": {
    "name": "ipython",
    "version": 3
   },
   "file_extension": ".py",
   "mimetype": "text/x-python",
   "name": "python",
   "nbconvert_exporter": "python",
   "pygments_lexer": "ipython3",
   "version": "3.7.4"
  }
 },
 "nbformat": 4,
 "nbformat_minor": 2
}
