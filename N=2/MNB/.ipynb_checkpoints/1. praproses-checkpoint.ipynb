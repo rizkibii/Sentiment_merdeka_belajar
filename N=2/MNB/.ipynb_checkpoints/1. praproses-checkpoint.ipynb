{
 "cells": [
  {
   "cell_type": "code",
   "execution_count": 1,
   "metadata": {},
   "outputs": [],
   "source": [
    "import sys\n",
    "\n",
    "import os\n",
    "alamat = \"/\".join(os.getcwd().split(\"\\\\\")[:-2])\n",
    "sys.path.append(alamat+'/praproses')\n",
    "import ngrams as ng\n",
    "from normalisasi import normalisasi as nrm\n",
    "import token as tkn\n",
    "import stemming as stm\n",
    "import cleansing\n",
    "import isDigit as isd\n",
    "# import stemming\n",
    "import seleksi_kata as sk\n",
    "\n",
    "import pandas as pd"
   ]
  },
  {
   "cell_type": "code",
   "execution_count": 2,
   "metadata": {},
   "outputs": [
    {
     "data": {
      "text/plain": [
       "'a b c f g h i j k ab bc cf fg gh hi ij jk'"
      ]
     },
     "execution_count": 2,
     "metadata": {},
     "output_type": "execute_result"
    }
   ],
   "source": [
    "ng.ngramku(\"a b c f g h i j k\", n=2)['string'] #testing"
   ]
  },
  {
   "cell_type": "code",
   "execution_count": 3,
   "metadata": {},
   "outputs": [],
   "source": [
    "# nrm.slangword(\"gw itu\")"
   ]
  },
  {
   "cell_type": "code",
   "execution_count": 4,
   "metadata": {},
   "outputs": [],
   "source": [
    "# isd.remove_digit(\"2019 tahun baru\")"
   ]
  },
  {
   "cell_type": "code",
   "execution_count": 5,
   "metadata": {},
   "outputs": [
    {
     "name": "stdout",
     "output_type": "stream",
     "text": [
      "1000\n"
     ]
    },
    {
     "data": {
      "text/html": [
       "<div>\n",
       "<style scoped>\n",
       "    .dataframe tbody tr th:only-of-type {\n",
       "        vertical-align: middle;\n",
       "    }\n",
       "\n",
       "    .dataframe tbody tr th {\n",
       "        vertical-align: top;\n",
       "    }\n",
       "\n",
       "    .dataframe thead th {\n",
       "        text-align: right;\n",
       "    }\n",
       "</style>\n",
       "<table border=\"1\" class=\"dataframe\">\n",
       "  <thead>\n",
       "    <tr style=\"text-align: right;\">\n",
       "      <th></th>\n",
       "      <th>created</th>\n",
       "      <th>user.screen_name</th>\n",
       "      <th>message</th>\n",
       "      <th>retweeted_status.screen_name</th>\n",
       "      <th>label</th>\n",
       "    </tr>\n",
       "  </thead>\n",
       "  <tbody>\n",
       "    <tr>\n",
       "      <th>0</th>\n",
       "      <td>Mar 30, 2019 @ 16:59:59.000</td>\n",
       "      <td>swarajuang08</td>\n",
       "      <td>RT @hanumrais: Pembukaan visi misi yang begitu...</td>\n",
       "      <td>hanumrais</td>\n",
       "      <td>positive</td>\n",
       "    </tr>\n",
       "    <tr>\n",
       "      <th>2</th>\n",
       "      <td>Mar 30, 2019 @ 16:59:59.000</td>\n",
       "      <td>Herry_satria02</td>\n",
       "      <td>RT @Gerindra: Prabowo: Saya lebih baik pakai t...</td>\n",
       "      <td>Gerindra</td>\n",
       "      <td>positive</td>\n",
       "    </tr>\n",
       "    <tr>\n",
       "      <th>6</th>\n",
       "      <td>Mar 30, 2019 @ 16:59:59.000</td>\n",
       "      <td>flameygurl</td>\n",
       "      <td>RT @slthnrafi: Prabowo Jokowi kok bisa arguing...</td>\n",
       "      <td>slthnrafi</td>\n",
       "      <td>positive</td>\n",
       "    </tr>\n",
       "    <tr>\n",
       "      <th>7</th>\n",
       "      <td>Mar 30, 2019 @ 16:59:59.000</td>\n",
       "      <td>PSangsaiya</td>\n",
       "      <td>RT @Gerindra: Prabowo: Dalam menjalankan polit...</td>\n",
       "      <td>Gerindra</td>\n",
       "      <td>positive</td>\n",
       "    </tr>\n",
       "    <tr>\n",
       "      <th>10</th>\n",
       "      <td>Mar 30, 2019 @ 16:59:59.000</td>\n",
       "      <td>Ony_anwar</td>\n",
       "      <td>RT @panca66: Kesampaian juga fans @prabowo mel...</td>\n",
       "      <td>panca66</td>\n",
       "      <td>negative</td>\n",
       "    </tr>\n",
       "  </tbody>\n",
       "</table>\n",
       "</div>"
      ],
      "text/plain": [
       "                        created user.screen_name  \\\n",
       "0   Mar 30, 2019 @ 16:59:59.000     swarajuang08   \n",
       "2   Mar 30, 2019 @ 16:59:59.000   Herry_satria02   \n",
       "6   Mar 30, 2019 @ 16:59:59.000       flameygurl   \n",
       "7   Mar 30, 2019 @ 16:59:59.000       PSangsaiya   \n",
       "10  Mar 30, 2019 @ 16:59:59.000        Ony_anwar   \n",
       "\n",
       "                                              message  \\\n",
       "0   RT @hanumrais: Pembukaan visi misi yang begitu...   \n",
       "2   RT @Gerindra: Prabowo: Saya lebih baik pakai t...   \n",
       "6   RT @slthnrafi: Prabowo Jokowi kok bisa arguing...   \n",
       "7   RT @Gerindra: Prabowo: Dalam menjalankan polit...   \n",
       "10  RT @panca66: Kesampaian juga fans @prabowo mel...   \n",
       "\n",
       "   retweeted_status.screen_name     label  \n",
       "0                     hanumrais  positive  \n",
       "2                      Gerindra  positive  \n",
       "6                     slthnrafi  positive  \n",
       "7                      Gerindra  positive  \n",
       "10                      panca66  negative  "
      ]
     },
     "execution_count": 5,
     "metadata": {},
     "output_type": "execute_result"
    }
   ],
   "source": [
    "df = pd.read_excel(alamat+\"/data/1000 twitt data latih pos-neg 50-50.xlsx\")\n",
    "tweet = df.message.tolist()\n",
    "label = df.label.tolist()\n",
    "print(len(df))\n",
    "df.head()"
   ]
  },
  {
   "cell_type": "markdown",
   "metadata": {},
   "source": [
    "# Praproses"
   ]
  },
  {
   "cell_type": "code",
   "execution_count": 6,
   "metadata": {},
   "outputs": [
    {
     "name": "stdout",
     "output_type": "stream",
     "text": [
      "...................................................................................................100\n",
      "...................................................................................................200\n",
      "...................................................................................................300\n",
      "...................................................................................................400\n",
      "...................................................................................................500\n",
      "...................................................................................................600\n",
      "...................................................................................................700\n",
      "...................................................................................................800\n",
      "...................................................................................................900\n",
      "...................................................................................................1000\n"
     ]
    }
   ],
   "source": [
    "n_tweet = list()\n",
    "for ix, twt in enumerate(tweet):\n",
    "    twt = sk.seleksi(twt)\n",
    "    twt = cleansing.cleaning(twt)\n",
    "    twt = isd.remove_digit(twt)\n",
    "    twt = nrm.slangword(twt)\n",
    "    twt = stm.stemming(twt)\n",
    "    twt = stm.StopWordRemover(twt)\n",
    "    twt = ng.ngramku(twt, n=2)['string']\n",
    "    if (ix+1) %100 == 0:\n",
    "        print(ix+1)\n",
    "    else:\n",
    "        print(\".\", end=\"\")\n",
    "    n_tweet.append(twt)"
   ]
  },
  {
   "cell_type": "code",
   "execution_count": 7,
   "metadata": {},
   "outputs": [],
   "source": [
    "dict_ = {\n",
    "    \"tweet\":n_tweet,\n",
    "    \"label\":label\n",
    "}\n",
    "df2 = pd.DataFrame.from_dict(dict_)\n",
    "df2.to_excel(\"data/tweet_bersih_100.xlsx\")"
   ]
  },
  {
   "cell_type": "code",
   "execution_count": null,
   "metadata": {},
   "outputs": [],
   "source": []
  }
 ],
 "metadata": {
  "kernelspec": {
   "display_name": "Python 3",
   "language": "python",
   "name": "python3"
  },
  "language_info": {
   "codemirror_mode": {
    "name": "ipython",
    "version": 3
   },
   "file_extension": ".py",
   "mimetype": "text/x-python",
   "name": "python",
   "nbconvert_exporter": "python",
   "pygments_lexer": "ipython3",
   "version": "3.6.5"
  }
 },
 "nbformat": 4,
 "nbformat_minor": 2
}
