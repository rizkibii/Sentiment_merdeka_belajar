{
 "cells": [
  {
   "cell_type": "code",
   "execution_count": 1,
   "metadata": {},
   "outputs": [],
   "source": [
    "import joblib\n",
    "import sys\n",
    "import os\n",
    "alamat = \"/\".join(os.getcwd().split(\"\\\\\")[:-2])\n",
    "sys.path.append(alamat+'/praproses')\n",
    "import ngrams as ng\n",
    "from normalisasi import normalisasi as nrm\n",
    "import token as tkn\n",
    "import stemming as stm\n",
    "import cleansing\n",
    "import stemming\n",
    "import seleksi_kata as sk\n",
    "import pandas as pd\n",
    "import isDigit as isd"
   ]
  },
  {
   "cell_type": "code",
   "execution_count": 2,
   "metadata": {},
   "outputs": [],
   "source": [
    "tdidf = joblib.load(\"model/tdidf.w\")\n",
    "naive_bayes = joblib.load(\"model/naive_bayes.m\")"
   ]
  },
  {
   "cell_type": "code",
   "execution_count": 3,
   "metadata": {},
   "outputs": [],
   "source": [
    "def praproses(twt, n=2):\n",
    "    twt = sk.seleksi(twt)\n",
    "    twt = cleansing.cleaning(twt)\n",
    "    twt = isd.remove_digit(twt)\n",
    "    twt = nrm.slangword(twt)\n",
    "    twt = stm.stemming(twt)\n",
    "    twt = stm.StopWordRemover(twt)\n",
    "    twt = ng.ngramku(twt, n=n)['string']\n",
    "    return twt"
   ]
  },
  {
   "cell_type": "code",
   "execution_count": 4,
   "metadata": {},
   "outputs": [
    {
     "data": {
      "text/plain": [
       "'tuju banget'"
      ]
     },
     "execution_count": 4,
     "metadata": {},
     "output_type": "execute_result"
    }
   ],
   "source": [
    "praproses(\"RT @hpsetyawan: @afiadi setuju bgt\", n=1)"
   ]
  },
  {
   "cell_type": "code",
   "execution_count": 5,
   "metadata": {},
   "outputs": [
    {
     "data": {
      "text/plain": [
       "'positive'"
      ]
     },
     "execution_count": 5,
     "metadata": {},
     "output_type": "execute_result"
    }
   ],
   "source": [
    "kalimat = \"RT @hpsetyawan: @afiadi setuju bgt\"\n",
    "# print(praproses(kalimat))\n",
    "naive_bayes.predict(tdidf.transform([praproses(kalimat)]))[0]\n",
    "#memprediksi kalimat di preproses, kemudian di transform menjadi vector,diprediksi menggunakan NB"
   ]
  },
  {
   "cell_type": "code",
   "execution_count": 6,
   "metadata": {},
   "outputs": [
    {
     "data": {
      "text/plain": [
       "'G:\\\\Kuliah\\\\THESIS\\\\PORGRAM_MERDEKA\\\\Sentiment_merdeka_belajar\\\\N=2\\\\MNB'"
      ]
     },
     "execution_count": 6,
     "metadata": {},
     "output_type": "execute_result"
    }
   ],
   "source": [
    "pwd"
   ]
  },
  {
   "cell_type": "markdown",
   "metadata": {},
   "source": [
    "# Prediksi data uji"
   ]
  },
  {
   "cell_type": "code",
   "execution_count": 7,
   "metadata": {},
   "outputs": [
    {
     "ename": "AttributeError",
     "evalue": "'float' object has no attribute 'lower'",
     "output_type": "error",
     "traceback": [
      "\u001b[1;31m---------------------------------------------------------------------------\u001b[0m",
      "\u001b[1;31mAttributeError\u001b[0m                            Traceback (most recent call last)",
      "\u001b[1;32m<ipython-input-7-a710eba057c0>\u001b[0m in \u001b[0;36m<module>\u001b[1;34m\u001b[0m\n\u001b[0;32m      5\u001b[0m \u001b[1;33m\u001b[0m\u001b[0m\n\u001b[0;32m      6\u001b[0m \u001b[1;32mfor\u001b[0m \u001b[0mix\u001b[0m\u001b[1;33m,\u001b[0m \u001b[0mt\u001b[0m \u001b[1;32min\u001b[0m \u001b[0menumerate\u001b[0m\u001b[1;33m(\u001b[0m\u001b[0mtwet_uji\u001b[0m\u001b[1;33m)\u001b[0m\u001b[1;33m:\u001b[0m\u001b[1;33m\u001b[0m\u001b[1;33m\u001b[0m\u001b[0m\n\u001b[1;32m----> 7\u001b[1;33m     \u001b[0mtwet_uji_bersih\u001b[0m\u001b[1;33m.\u001b[0m\u001b[0mappend\u001b[0m\u001b[1;33m(\u001b[0m\u001b[0mpraproses\u001b[0m\u001b[1;33m(\u001b[0m\u001b[0mt\u001b[0m\u001b[1;33m)\u001b[0m\u001b[1;33m)\u001b[0m\u001b[1;33m\u001b[0m\u001b[1;33m\u001b[0m\u001b[0m\n\u001b[0m\u001b[0;32m      8\u001b[0m \u001b[1;31m#     print(ix)\u001b[0m\u001b[1;33m\u001b[0m\u001b[1;33m\u001b[0m\u001b[1;33m\u001b[0m\u001b[0m\n\u001b[0;32m      9\u001b[0m \u001b[0mprediksi\u001b[0m \u001b[1;33m=\u001b[0m \u001b[0mnaive_bayes\u001b[0m\u001b[1;33m.\u001b[0m\u001b[0mpredict\u001b[0m\u001b[1;33m(\u001b[0m\u001b[0mtdidf\u001b[0m\u001b[1;33m.\u001b[0m\u001b[0mtransform\u001b[0m\u001b[1;33m(\u001b[0m\u001b[0mtwet_uji_bersih\u001b[0m\u001b[1;33m)\u001b[0m\u001b[1;33m)\u001b[0m\u001b[1;33m\u001b[0m\u001b[1;33m\u001b[0m\u001b[0m\n",
      "\u001b[1;32m<ipython-input-3-5e1547f21625>\u001b[0m in \u001b[0;36mpraproses\u001b[1;34m(twt, n)\u001b[0m\n\u001b[0;32m      1\u001b[0m \u001b[1;32mdef\u001b[0m \u001b[0mpraproses\u001b[0m\u001b[1;33m(\u001b[0m\u001b[0mtwt\u001b[0m\u001b[1;33m,\u001b[0m \u001b[0mn\u001b[0m\u001b[1;33m=\u001b[0m\u001b[1;36m2\u001b[0m\u001b[1;33m)\u001b[0m\u001b[1;33m:\u001b[0m\u001b[1;33m\u001b[0m\u001b[1;33m\u001b[0m\u001b[0m\n\u001b[1;32m----> 2\u001b[1;33m     \u001b[0mtwt\u001b[0m \u001b[1;33m=\u001b[0m \u001b[0msk\u001b[0m\u001b[1;33m.\u001b[0m\u001b[0mseleksi\u001b[0m\u001b[1;33m(\u001b[0m\u001b[0mtwt\u001b[0m\u001b[1;33m)\u001b[0m\u001b[1;33m\u001b[0m\u001b[1;33m\u001b[0m\u001b[0m\n\u001b[0m\u001b[0;32m      3\u001b[0m     \u001b[0mtwt\u001b[0m \u001b[1;33m=\u001b[0m \u001b[0mcleansing\u001b[0m\u001b[1;33m.\u001b[0m\u001b[0mcleaning\u001b[0m\u001b[1;33m(\u001b[0m\u001b[0mtwt\u001b[0m\u001b[1;33m)\u001b[0m\u001b[1;33m\u001b[0m\u001b[1;33m\u001b[0m\u001b[0m\n\u001b[0;32m      4\u001b[0m     \u001b[0mtwt\u001b[0m \u001b[1;33m=\u001b[0m \u001b[0misd\u001b[0m\u001b[1;33m.\u001b[0m\u001b[0mremove_digit\u001b[0m\u001b[1;33m(\u001b[0m\u001b[0mtwt\u001b[0m\u001b[1;33m)\u001b[0m\u001b[1;33m\u001b[0m\u001b[1;33m\u001b[0m\u001b[0m\n\u001b[0;32m      5\u001b[0m     \u001b[0mtwt\u001b[0m \u001b[1;33m=\u001b[0m \u001b[0mnrm\u001b[0m\u001b[1;33m.\u001b[0m\u001b[0mslangword\u001b[0m\u001b[1;33m(\u001b[0m\u001b[0mtwt\u001b[0m\u001b[1;33m)\u001b[0m\u001b[1;33m\u001b[0m\u001b[1;33m\u001b[0m\u001b[0m\n",
      "\u001b[1;32mG:/Kuliah/THESIS/PORGRAM_MERDEKA/Sentiment_merdeka_belajar/praproses\\seleksi_kata.py\u001b[0m in \u001b[0;36mseleksi\u001b[1;34m(kalimat, corpus)\u001b[0m\n\u001b[0;32m      6\u001b[0m \u001b[1;33m\u001b[0m\u001b[0m\n\u001b[0;32m      7\u001b[0m \u001b[1;32mdef\u001b[0m \u001b[0mseleksi\u001b[0m\u001b[1;33m(\u001b[0m\u001b[0mkalimat\u001b[0m\u001b[1;33m,\u001b[0m \u001b[0mcorpus\u001b[0m \u001b[1;33m=\u001b[0m \u001b[1;33m[\u001b[0m\u001b[1;34m\"prabowo\"\u001b[0m\u001b[1;33m,\u001b[0m \u001b[1;34m\"jokowi\"\u001b[0m\u001b[1;33m,\u001b[0m \u001b[1;34m\"joko\"\u001b[0m\u001b[1;33m,\u001b[0m\u001b[1;34m\"widodo\"\u001b[0m\u001b[1;33m,\u001b[0m\u001b[1;34m\"sandiaga\"\u001b[0m\u001b[1;33m]\u001b[0m\u001b[1;33m)\u001b[0m\u001b[1;33m:\u001b[0m\u001b[1;33m\u001b[0m\u001b[1;33m\u001b[0m\u001b[0m\n\u001b[1;32m----> 8\u001b[1;33m     \u001b[0mkalimat\u001b[0m \u001b[1;33m=\u001b[0m \u001b[0mtokenisasi\u001b[0m\u001b[1;33m(\u001b[0m\u001b[0mkalimat\u001b[0m\u001b[1;33m.\u001b[0m\u001b[0mlower\u001b[0m\u001b[1;33m(\u001b[0m\u001b[1;33m)\u001b[0m\u001b[1;33m)\u001b[0m\u001b[1;33m\u001b[0m\u001b[1;33m\u001b[0m\u001b[0m\n\u001b[0m\u001b[0;32m      9\u001b[0m     \u001b[0mkalimat\u001b[0m \u001b[1;33m=\u001b[0m \u001b[0mkalimat\u001b[0m\u001b[1;33m[\u001b[0m\u001b[1;36m2\u001b[0m\u001b[1;33m:\u001b[0m\u001b[1;33m]\u001b[0m\u001b[1;33m\u001b[0m\u001b[1;33m\u001b[0m\u001b[0m\n\u001b[0;32m     10\u001b[0m     \u001b[1;32mfor\u001b[0m \u001b[0mix\u001b[0m\u001b[1;33m,\u001b[0m \u001b[0mkata_\u001b[0m \u001b[1;32min\u001b[0m \u001b[0menumerate\u001b[0m\u001b[1;33m(\u001b[0m\u001b[0mkalimat\u001b[0m\u001b[1;33m)\u001b[0m\u001b[1;33m:\u001b[0m\u001b[1;33m\u001b[0m\u001b[1;33m\u001b[0m\u001b[0m\n",
      "\u001b[1;31mAttributeError\u001b[0m: 'float' object has no attribute 'lower'"
     ]
    }
   ],
   "source": [
    "df = pd.read_excel(\"../../data_uji/PPDB ZONASI.xlsx\")\n",
    "twet_uji = df.Twit.tolist()\n",
    "label_asli = df.label.tolist()\n",
    "twet_uji_bersih = list()\n",
    "\n",
    "for ix, t in enumerate(twet_uji):\n",
    "    twet_uji_bersih.append(praproses(t))\n",
    "#     print(ix)\n",
    "prediksi = naive_bayes.predict(tdidf.transform(twet_uji_bersih))\n",
    "\n",
    "from sklearn.metrics import classification_report\n",
    "y_true = label_asli\n",
    "y_pred = prediksi\n",
    "target_names = ['negative', 'positive',]\n",
    "print(classification_report(y_true, y_pred, target_names=target_names))"
   ]
  },
  {
   "cell_type": "code",
   "execution_count": null,
   "metadata": {
    "scrolled": true
   },
   "outputs": [],
   "source": [
    "ix = 0\n",
    "#for twet, asli, pred in zip(twet_uji, label_asli,prediksi):\n",
    "   # if pred!= asli:\n",
    "      #  print(ix)\n",
    "       # print(\"Prediksi:\",pred)\n",
    "      #  print(\"asli    :\",asli)\n",
    "      #  print(\"    \",twet)\n",
    "      #  print(\"=\"*100)\n",
    "  #  ix+=1"
   ]
  },
  {
   "cell_type": "code",
   "execution_count": null,
   "metadata": {},
   "outputs": [],
   "source": []
  },
  {
   "cell_type": "code",
   "execution_count": null,
   "metadata": {},
   "outputs": [],
   "source": []
  }
 ],
 "metadata": {
  "kernelspec": {
   "display_name": "Python 3",
   "language": "python",
   "name": "python3"
  },
  "language_info": {
   "codemirror_mode": {
    "name": "ipython",
    "version": 3
   },
   "file_extension": ".py",
   "mimetype": "text/x-python",
   "name": "python",
   "nbconvert_exporter": "python",
   "pygments_lexer": "ipython3",
   "version": "3.7.4"
  }
 },
 "nbformat": 4,
 "nbformat_minor": 2
}
