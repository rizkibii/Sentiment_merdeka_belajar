{
 "cells": [
  {
   "cell_type": "code",
   "execution_count": 1,
   "metadata": {},
   "outputs": [],
   "source": [
    "import pandas as pd\n",
    "import joblib\n",
    "\n",
    "import os\n",
    "import sys\n",
    "alamat = \"/\".join(os.getcwd().split(\"\\\\\")[:-2])\n",
    "sys.path.append(alamat+'/praproses')\n",
    "from sklearn.metrics import accuracy_score"
   ]
  },
  {
   "cell_type": "code",
   "execution_count": 2,
   "metadata": {},
   "outputs": [],
   "source": [
    "df = pd.read_excel(\"data/tweet_bersih_100.xlsx\") #data latih yang digunakan tweet_bersih_100.xlsx\n",
    "twet = df.tweet.tolist()\n",
    "label = df.label.tolist()\n",
    "#df.head() #menampilkan lima teraatas dari data bersih"
   ]
  },
  {
   "cell_type": "code",
   "execution_count": 3,
   "metadata": {},
   "outputs": [
    {
     "name": "stdout",
     "output_type": "stream",
     "text": [
      "negative    500\n",
      "positive    500\n",
      "Name: label, dtype: int64\n"
     ]
    }
   ],
   "source": [
    "pd.value_counts(df['label']).plot.bar(title='Data Sentimen')\n",
    "print(pd.value_counts(df['label']))"
   ]
  },
  {
   "cell_type": "code",
   "execution_count": 4,
   "metadata": {},
   "outputs": [],
   "source": [
    "import numpy as np\n",
    "from sklearn.model_selection import KFold\n",
    "from Naive_Bayes_ import naive_bayes_ as nb\n",
    "X = np.array(twet)\n",
    "y = np.array(label)"
   ]
  },
  {
   "cell_type": "code",
   "execution_count": 5,
   "metadata": {
    "scrolled": true
   },
   "outputs": [
    {
     "name": "stdout",
     "output_type": "stream",
     "text": [
      "0.1..........0.7710000000000001\n",
      "0.2..........0.767\n",
      "0.30000000000000004..........0.769\n",
      "0.4..........0.7739999999999999\n",
      "0.5..........0.775\n",
      "0.6..........0.771\n",
      "0.7000000000000001..........0.77\n",
      "0.8..........0.77\n",
      "0.9..........0.772\n",
      "1.0..........0.7710000000000001\n",
      "1.1..........0.7700000000000001\n",
      "1.2000000000000002..........0.7659999999999998\n",
      "1.3000000000000003..........0.767\n",
      "1.4000000000000001..........0.7659999999999998\n",
      "1.5000000000000002..........0.7629999999999999\n",
      "1.6..........0.7649999999999999\n",
      "1.7000000000000002..........0.7639999999999999\n",
      "1.8000000000000003..........0.7639999999999999\n",
      "1.9000000000000001..........0.7629999999999999\n",
      "2.0..........0.7609999999999999\n",
      "2.1..........0.76\n",
      "2.2..........0.76\n",
      "2.3000000000000003..........0.756\n",
      "2.4000000000000004..........0.754\n",
      "2.5000000000000004..........0.754\n",
      "2.6..........0.753\n",
      "2.7..........0.753\n",
      "2.8000000000000003..........0.753\n",
      "2.9000000000000004..........0.752\n",
      "3.0000000000000004..........0.752\n",
      "3.1..........0.753\n",
      "3.2..........0.7529999999999999\n",
      "3.3000000000000003..........0.7529999999999999\n",
      "3.4000000000000004..........0.752\n",
      "3.5000000000000004..........0.7529999999999999\n",
      "3.6..........0.752\n",
      "3.7..........0.751\n",
      "3.8000000000000003..........0.751\n",
      "3.9000000000000004..........0.75\n",
      "4.0..........0.748\n",
      "4.1..........0.7449999999999999\n",
      "4.2..........0.7449999999999999\n",
      "4.3..........0.744\n",
      "4.3999999999999995..........0.745\n",
      "4.5..........0.746\n",
      "4.6..........0.744\n",
      "4.7..........0.745\n",
      "4.8..........0.746\n",
      "4.9..........0.746\n",
      "5.0..........0.746\n",
      "5.1..........0.746\n",
      "5.2..........0.746\n",
      "5.3..........0.7470000000000001\n",
      "5.4..........0.7450000000000001\n",
      "5.5..........0.7440000000000001\n",
      "5.6..........0.7440000000000001\n",
      "5.7..........0.7440000000000001\n",
      "5.8..........0.7440000000000001\n",
      "5.9..........0.7430000000000001\n",
      "6.0..........0.7430000000000001\n",
      "6.1..........0.742\n",
      "6.2..........0.742\n",
      "6.3..........0.743\n",
      "6.4..........0.743\n",
      "6.5..........0.743\n",
      "6.6..........0.743\n",
      "6.7..........0.743\n",
      "6.8..........0.742\n",
      "6.9..........0.742\n",
      "7.0..........0.741\n",
      "7.1..........0.741\n",
      "7.2..........0.74\n",
      "7.3..........0.74\n",
      "7.4..........0.74\n",
      "7.5..........0.7380000000000001\n",
      "7.6..........0.7380000000000001\n",
      "7.7..........0.737\n",
      "7.8..........0.737\n",
      "7.9..........0.738\n",
      "8.0..........0.738\n",
      "8.1..........0.738\n",
      "8.2..........0.738\n",
      "8.3..........0.7369999999999999\n",
      "8.4..........0.7369999999999999\n",
      "8.5..........0.7369999999999999\n",
      "8.6..........0.738\n",
      "8.7..........0.738\n",
      "8.8..........0.738\n",
      "8.9..........0.738\n",
      "9.0..........0.7369999999999999\n",
      "9.1..........0.7369999999999999\n",
      "9.2..........0.7369999999999999\n",
      "9.3..........0.736\n",
      "9.4..........0.736\n",
      "9.5..........0.735\n",
      "9.6..........0.734\n",
      "9.700000000000001..........0.734\n",
      "9.8..........0.733\n",
      "9.9..........0.733\n",
      "10.0..........0.733\n"
     ]
    },
    {
     "data": {
      "text/html": [
       "<div>\n",
       "<style scoped>\n",
       "    .dataframe tbody tr th:only-of-type {\n",
       "        vertical-align: middle;\n",
       "    }\n",
       "\n",
       "    .dataframe tbody tr th {\n",
       "        vertical-align: top;\n",
       "    }\n",
       "\n",
       "    .dataframe thead th {\n",
       "        text-align: right;\n",
       "    }\n",
       "</style>\n",
       "<table border=\"1\" class=\"dataframe\">\n",
       "  <thead>\n",
       "    <tr style=\"text-align: right;\">\n",
       "      <th></th>\n",
       "      <th>alpha</th>\n",
       "      <th>score</th>\n",
       "    </tr>\n",
       "  </thead>\n",
       "  <tbody>\n",
       "    <tr>\n",
       "      <td>4</td>\n",
       "      <td>0.5</td>\n",
       "      <td>0.775</td>\n",
       "    </tr>\n",
       "    <tr>\n",
       "      <td>3</td>\n",
       "      <td>0.4</td>\n",
       "      <td>0.774</td>\n",
       "    </tr>\n",
       "    <tr>\n",
       "      <td>8</td>\n",
       "      <td>0.9</td>\n",
       "      <td>0.772</td>\n",
       "    </tr>\n",
       "    <tr>\n",
       "      <td>0</td>\n",
       "      <td>0.1</td>\n",
       "      <td>0.771</td>\n",
       "    </tr>\n",
       "    <tr>\n",
       "      <td>9</td>\n",
       "      <td>1.0</td>\n",
       "      <td>0.771</td>\n",
       "    </tr>\n",
       "  </tbody>\n",
       "</table>\n",
       "</div>"
      ],
      "text/plain": [
       "   alpha  score\n",
       "4    0.5  0.775\n",
       "3    0.4  0.774\n",
       "8    0.9  0.772\n",
       "0    0.1  0.771\n",
       "9    1.0  0.771"
      ]
     },
     "execution_count": 5,
     "metadata": {},
     "output_type": "execute_result"
    }
   ],
   "source": [
    "k = 10\n",
    "y = np.array(label)\n",
    "kf = KFold(n_splits=k) #membuat model kfold sejumlah k\n",
    "kf.get_n_splits(X)\n",
    "\n",
    "\n",
    "# print(kf)\n",
    "alpah_list = np.arange(0.1, 10+.1, .1)\n",
    "rerata = list()\n",
    "for alpha in alpah_list:\n",
    "    print(str(alpha), end= \"\")\n",
    "    clf = nb.NaiveBayesClassifier(alpha = alpha)\n",
    "    sc_10 = list()\n",
    "    for train_index, test_index in kf.split(X):\n",
    "        print(\".\", end=\"\")\n",
    "    #     print(\"TRAIN:\", train_index, \"TEST:\", test_index)\n",
    "        X_train, X_test = X[train_index], X[test_index]\n",
    "        y_train, y_test = y[train_index], y[test_index]\n",
    "        clf.train(X_train, y_train)\n",
    "\n",
    "        \n",
    "        y_pred = clf.predict(X_test)\n",
    "        y_true = y_test\n",
    "        \n",
    "        sc = accuracy_score(y_true, y_pred)\n",
    "        sc_10.append(sc)\n",
    "#     print( sum(sc_10)/k, \"|\", alpha)\n",
    "    rerata.append(sum(sc_10)/k)\n",
    "    print(sum(sc_10)/k)\n",
    "dict_ = {\n",
    "    \"alpha\":alpah_list,\n",
    "    \"score\":rerata\n",
    "}\n",
    "df_hasil = pd.DataFrame.from_dict(dict_)\n",
    "sorted_ = df_hasil.sort_values(\"score\", axis = 0, ascending = False)\n",
    "sorted_.head()"
   ]
  },
  {
   "cell_type": "code",
   "execution_count": 6,
   "metadata": {},
   "outputs": [
    {
     "data": {
      "text/plain": [
       "0.5"
      ]
     },
     "execution_count": 6,
     "metadata": {},
     "output_type": "execute_result"
    }
   ],
   "source": [
    "sorted_.alpha.tolist()[0]"
   ]
  },
  {
   "cell_type": "code",
   "execution_count": 7,
   "metadata": {},
   "outputs": [
    {
     "data": {
      "text/plain": [
       "['model/naive_bayes.m']"
      ]
     },
     "execution_count": 7,
     "metadata": {},
     "output_type": "execute_result"
    }
   ],
   "source": [
    "clf = nb.NaiveBayesClassifier(alpha = sorted_.alpha.tolist()[0])\n",
    "clf.train(X, y) \n",
    "joblib.dump(clf,\"model/naive_bayes.m\")"
   ]
  },
  {
   "cell_type": "code",
   "execution_count": null,
   "metadata": {},
   "outputs": [],
   "source": []
  },
  {
   "cell_type": "code",
   "execution_count": 8,
   "metadata": {},
   "outputs": [],
   "source": [
    "x = clf.predict(X)"
   ]
  },
  {
   "cell_type": "code",
   "execution_count": 3,
   "metadata": {},
   "outputs": [],
   "source": [
    "ixx = 0\n",
    "labelA = list()\n",
    "labelP= list()\n",
    "\n",
    "#for i, j in zip(label, x):\n",
    "   #if i !=j:\n",
    "      #  print(ixx)\n",
    "      #  print(j)\n",
    "      #  print(\"label asli\",i)\n",
    "      #  print(twet[ixx])\n",
    "      #  print()\n",
    "  #  ixx+=1"
   ]
  },
  {
   "cell_type": "code",
   "execution_count": null,
   "metadata": {},
   "outputs": [],
   "source": []
  }
 ],
 "metadata": {
  "kernelspec": {
   "display_name": "Python 3",
   "language": "python",
   "name": "python3"
  },
  "language_info": {
   "codemirror_mode": {
    "name": "ipython",
    "version": 3
   },
   "file_extension": ".py",
   "mimetype": "text/x-python",
   "name": "python",
   "nbconvert_exporter": "python",
   "pygments_lexer": "ipython3",
   "version": "3.7.4"
  }
 },
 "nbformat": 4,
 "nbformat_minor": 2
}
