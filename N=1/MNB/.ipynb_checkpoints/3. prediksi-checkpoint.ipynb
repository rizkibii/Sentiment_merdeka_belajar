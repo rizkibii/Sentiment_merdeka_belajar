{
 "cells": [
  {
   "cell_type": "code",
   "execution_count": 13,
   "metadata": {},
   "outputs": [],
   "source": [
    "import joblib\n",
    "import sys\n",
    "import os\n",
    "alamat = \"/\".join(os.getcwd().split(\"\\\\\")[:-2])\n",
    "sys.path.append(alamat+'/praproses')\n",
    "import ngrams as ng\n",
    "from normalisasi import normalisasi as nrm\n",
    "import token as tkn\n",
    "import stemming as stm\n",
    "import cleansing\n",
    "import stemming\n",
    "import seleksi_kata as sk\n",
    "import pandas as pd\n",
    "import isDigit as isd"
   ]
  },
  {
   "cell_type": "code",
   "execution_count": 14,
   "metadata": {},
   "outputs": [],
   "source": [
    "tdidf = joblib.load(\"model/tdidf.w\")\n",
    "naive_bayes = joblib.load(\"model/naive_bayes.m\")"
   ]
  },
  {
   "cell_type": "code",
   "execution_count": 15,
   "metadata": {},
   "outputs": [
    {
     "data": {
      "text/html": [
       "<div>\n",
       "<style scoped>\n",
       "    .dataframe tbody tr th:only-of-type {\n",
       "        vertical-align: middle;\n",
       "    }\n",
       "\n",
       "    .dataframe tbody tr th {\n",
       "        vertical-align: top;\n",
       "    }\n",
       "\n",
       "    .dataframe thead th {\n",
       "        text-align: right;\n",
       "    }\n",
       "</style>\n",
       "<table border=\"1\" class=\"dataframe\">\n",
       "  <thead>\n",
       "    <tr style=\"text-align: right;\">\n",
       "      <th></th>\n",
       "      <th>positive</th>\n",
       "      <th>negative</th>\n",
       "    </tr>\n",
       "  </thead>\n",
       "  <tbody>\n",
       "    <tr>\n",
       "      <td>0</td>\n",
       "      <td>-7.733685</td>\n",
       "      <td>-9.460691</td>\n",
       "    </tr>\n",
       "    <tr>\n",
       "      <td>1</td>\n",
       "      <td>-8.128291</td>\n",
       "      <td>-7.132576</td>\n",
       "    </tr>\n",
       "    <tr>\n",
       "      <td>2</td>\n",
       "      <td>-8.232101</td>\n",
       "      <td>-9.460691</td>\n",
       "    </tr>\n",
       "    <tr>\n",
       "      <td>3</td>\n",
       "      <td>-8.018842</td>\n",
       "      <td>-9.460691</td>\n",
       "    </tr>\n",
       "    <tr>\n",
       "      <td>4</td>\n",
       "      <td>-5.897480</td>\n",
       "      <td>-7.291395</td>\n",
       "    </tr>\n",
       "    <tr>\n",
       "      <td>...</td>\n",
       "      <td>...</td>\n",
       "      <td>...</td>\n",
       "    </tr>\n",
       "    <tr>\n",
       "      <td>2371</td>\n",
       "      <td>-9.442547</td>\n",
       "      <td>-7.846073</td>\n",
       "    </tr>\n",
       "    <tr>\n",
       "      <td>2372</td>\n",
       "      <td>-8.226094</td>\n",
       "      <td>-9.460691</td>\n",
       "    </tr>\n",
       "    <tr>\n",
       "      <td>2373</td>\n",
       "      <td>-8.291441</td>\n",
       "      <td>-9.460691</td>\n",
       "    </tr>\n",
       "    <tr>\n",
       "      <td>2374</td>\n",
       "      <td>-8.028081</td>\n",
       "      <td>-9.460691</td>\n",
       "    </tr>\n",
       "    <tr>\n",
       "      <td>2375</td>\n",
       "      <td>-9.442547</td>\n",
       "      <td>-8.278196</td>\n",
       "    </tr>\n",
       "  </tbody>\n",
       "</table>\n",
       "<p>2376 rows × 2 columns</p>\n",
       "</div>"
      ],
      "text/plain": [
       "      positive  negative\n",
       "0    -7.733685 -9.460691\n",
       "1    -8.128291 -7.132576\n",
       "2    -8.232101 -9.460691\n",
       "3    -8.018842 -9.460691\n",
       "4    -5.897480 -7.291395\n",
       "...        ...       ...\n",
       "2371 -9.442547 -7.846073\n",
       "2372 -8.226094 -9.460691\n",
       "2373 -8.291441 -9.460691\n",
       "2374 -8.028081 -9.460691\n",
       "2375 -9.442547 -8.278196\n",
       "\n",
       "[2376 rows x 2 columns]"
      ]
     },
     "execution_count": 15,
     "metadata": {},
     "output_type": "execute_result"
    }
   ],
   "source": [
    "fitur = tdidf.get_feature_names()\n",
    "kelas  = naive_bayes.classes_\n",
    "kelas\n",
    "postif = naive_bayes.feature_log_prob_ [1]\n",
    "negatif = naive_bayes.feature_log_prob_ [0]\n",
    "dict_ = {\n",
    "    #'features':fitur,\n",
    "    'positive':postif,\n",
    "    'negative':negatif,\n",
    "}\n",
    "df_bobot = pd.DataFrame.from_dict(dict_)\n",
    "df_bobot.to_excel(\"hasil_training.xlsx\")\n",
    "df_bobot"
   ]
  },
  {
   "cell_type": "code",
   "execution_count": 16,
   "metadata": {},
   "outputs": [],
   "source": [
    "def praproses(twt, n=1):\n",
    "    twt = sk.seleksi(twt)\n",
    "    twt = cleansing.cleaning(twt)\n",
    "    twt = isd.remove_digit(twt)\n",
    "    twt = nrm.slangword(twt)\n",
    "    twt = stm.stemming(twt)\n",
    "    twt = stm.StopWordRemover(twt)\n",
    "    twt = ng.ngramku(twt, n=n)['string']\n",
    "    return twt"
   ]
  },
  {
   "cell_type": "code",
   "execution_count": 17,
   "metadata": {},
   "outputs": [
    {
     "data": {
      "text/plain": [
       "'tuju banget'"
      ]
     },
     "execution_count": 17,
     "metadata": {},
     "output_type": "execute_result"
    }
   ],
   "source": [
    "praproses(\"RT @hpsetyawan: @afiadi setuju bgt\", n=1)"
   ]
  },
  {
   "cell_type": "code",
   "execution_count": 18,
   "metadata": {},
   "outputs": [
    {
     "data": {
      "text/plain": [
       "'positive'"
      ]
     },
     "execution_count": 18,
     "metadata": {},
     "output_type": "execute_result"
    }
   ],
   "source": [
    "kalimat = \"RT @hpsetyawan: setuju bgt\"\n",
    "# print(praproses(kalimat))\n",
    "naive_bayes.predict(tdidf.transform([praproses(kalimat)]))[0]\n",
    "#memprediksi kalimat di preproses, kemudian di transform menjadi vector,diprediksi menggunakan NB"
   ]
  },
  {
   "cell_type": "code",
   "execution_count": 19,
   "metadata": {},
   "outputs": [],
   "source": [
    "# pwd"
   ]
  },
  {
   "cell_type": "markdown",
   "metadata": {},
   "source": [
    "# Prediksi data uji [Merdeka Belajar]"
   ]
  },
  {
   "cell_type": "code",
   "execution_count": 20,
   "metadata": {},
   "outputs": [
    {
     "name": "stdout",
     "output_type": "stream",
     "text": [
      "[[45  5]\n",
      " [ 3 47]]\n",
      "              precision    recall  f1-score   support\n",
      "\n",
      "    negative       0.90      0.94      0.92        50\n",
      "    positive       0.94      0.90      0.92        50\n",
      "\n",
      "    accuracy                           0.92       100\n",
      "   macro avg       0.92      0.92      0.92       100\n",
      "weighted avg       0.92      0.92      0.92       100\n",
      "\n"
     ]
    }
   ],
   "source": [
    "df = pd.read_excel(\"../../data_uji/PPDB ZONASI.xlsx\")\n",
    "twet_uji = df.Twit.tolist()\n",
    "label_asli = df.label.tolist()\n",
    "twet_uji_bersih = list()\n",
    "\n",
    "for ix, t in enumerate(twet_uji):\n",
    "    if type(t) is float: #koding tambahan\n",
    "        print(ix)       #koding tambahan\n",
    "        t=\" - \"         #koding tambahan\n",
    "        \n",
    "    twet_uji_bersih.append(praproses(t))\n",
    "    #print(ix)\n",
    "prediksi = naive_bayes.predict(tdidf.transform(twet_uji_bersih))\n",
    "\n",
    "from sklearn.metrics import classification_report\n",
    "y_true = label_asli\n",
    "y_pred = prediksi\n",
    "target_names = ['negative', 'positive',]\n",
    "\n",
    "from sklearn.metrics import confusion_matrix\n",
    "print(confusion_matrix(y_true, y_pred,labels=[\"positive\", \"negative\"]))\n",
    "print(classification_report(y_true, y_pred, target_names=target_names))"
   ]
  },
  {
   "cell_type": "code",
   "execution_count": 21,
   "metadata": {
    "scrolled": false
   },
   "outputs": [
    {
     "name": "stdout",
     "output_type": "stream",
     "text": [
      "1\n",
      "Prediksi: positive\n",
      "asli    : negative\n",
      "     RT @bagas: Anuuu... pemahamannya kurang eh.. #merdekabelajar\n",
      "====================================================================================================\n",
      "9\n",
      "Prediksi: positive\n",
      "asli    : negative\n",
      "     RT @gw_eilo: Malam Pak @nadiem saya izin tidur ya Pak, ngantuk, bosan sama kebijakan. #merdekabelajar\n",
      "====================================================================================================\n",
      "13\n",
      "Prediksi: negative\n",
      "asli    : positive\n",
      "     RT @CNNIDdaily: Tapi masalah nomor zonasi jadi masalah urutan tuduh-menuduh saya kan juga banyak dituduh pak.\n",
      "====================================================================================================\n",
      "26\n",
      "Prediksi: positive\n",
      "asli    : negative\n",
      "     RT @unknownzoel_: Saya lihat pak @nadiem percaya oleh guru mampu memajukan memberikan yang terbaik\n",
      "====================================================================================================\n",
      "39\n",
      "Prediksi: negative\n",
      "asli    : positive\n",
      "     RT @trenzsolo: \"Pak nadiem ini tidak percaya pada guru kita !!\" Kick telak atas pernyataan \n",
      "====================================================================================================\n",
      "44\n",
      "Prediksi: negative\n",
      "asli    : positive\n",
      "     RT @bseptian15: @TeddyGusnaidi Sekarang berani tidak pak @nadiem menolak skripsi dan tesis masuk \n",
      "====================================================================================================\n",
      "55\n",
      "Prediksi: negative\n",
      "asli    : positive\n",
      "     RT @BagusStefanus: Ketika @nadiem tukang tipu dan korup tapi tetap dijadikan menteri\n",
      "====================================================================================================\n",
      "97\n",
      "Prediksi: negative\n",
      "asli    : positive\n",
      "     RT @akuratco: Tidak saling menghujat, menghina, meremehkan, menjelekkan.Yg itu sekarang ini kita lihat. #merdekabelajar\n",
      "====================================================================================================\n"
     ]
    }
   ],
   "source": [
    "ix = 0\n",
    "for twet, asli, pred in zip(twet_uji, label_asli,prediksi):\n",
    "    if pred!= asli:\n",
    "        print(ix)\n",
    "        print(\"Prediksi:\",pred)\n",
    "        print(\"asli    :\",asli)\n",
    "        print(\"    \",twet)\n",
    "        print(\"=\"*100)\n",
    "    ix+=1"
   ]
  },
  {
   "cell_type": "code",
   "execution_count": 11,
   "metadata": {},
   "outputs": [],
   "source": [
    "import numpy as np"
   ]
  },
  {
   "cell_type": "code",
   "execution_count": 12,
   "metadata": {},
   "outputs": [
    {
     "data": {
      "text/plain": [
       "-3.912023005428146"
      ]
     },
     "execution_count": 12,
     "metadata": {},
     "output_type": "execute_result"
    }
   ],
   "source": [
    "np.log(0.02)"
   ]
  },
  {
   "cell_type": "code",
   "execution_count": null,
   "metadata": {},
   "outputs": [],
   "source": []
  },
  {
   "cell_type": "code",
   "execution_count": null,
   "metadata": {},
   "outputs": [],
   "source": []
  }
 ],
 "metadata": {
  "kernelspec": {
   "display_name": "Python 3",
   "language": "python",
   "name": "python3"
  },
  "language_info": {
   "codemirror_mode": {
    "name": "ipython",
    "version": 3
   },
   "file_extension": ".py",
   "mimetype": "text/x-python",
   "name": "python",
   "nbconvert_exporter": "python",
   "pygments_lexer": "ipython3",
   "version": "3.7.4"
  }
 },
 "nbformat": 4,
 "nbformat_minor": 2
}
