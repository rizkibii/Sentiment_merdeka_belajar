{
 "cells": [
  {
   "cell_type": "code",
   "execution_count": 8,
   "metadata": {},
   "outputs": [],
   "source": [
    "import joblib\n",
    "import sys\n",
    "import os\n",
    "alamat = \"/\".join(os.getcwd().split(\"\\\\\")[:-2])\n",
    "sys.path.append(alamat+'/praproses')\n",
    "import ngrams as ng\n",
    "from normalisasi import normalisasi as nrm\n",
    "import token as tkn\n",
    "import stemming as stm\n",
    "import cleansing\n",
    "import stemming\n",
    "import seleksi_kata as sk\n",
    "import pandas as pd\n",
    "import isDigit as isd"
   ]
  },
  {
   "cell_type": "code",
   "execution_count": 9,
   "metadata": {},
   "outputs": [],
   "source": [
    "# tdidf = joblib.load(\"model/tdidf.w\")\n",
    "naive_bayes = joblib.load(\"model/naive_bayes.m\")"
   ]
  },
  {
   "cell_type": "code",
   "execution_count": 10,
   "metadata": {},
   "outputs": [],
   "source": [
    "def praproses(twt, n=1):\n",
    "    twt = sk.seleksi(twt)\n",
    "    twt = cleansing.cleaning(twt)\n",
    "    twt = isd.remove_digit(twt)\n",
    "    twt = nrm.slangword(twt)\n",
    "    twt = stm.stemming(twt)\n",
    "    twt = stm.StopWordRemover(twt)\n",
    "    twt = ng.ngramku(twt, n=n)['string']\n",
    "    return twt"
   ]
  },
  {
   "cell_type": "code",
   "execution_count": 11,
   "metadata": {},
   "outputs": [
    {
     "data": {
      "text/plain": [
       "'tuju banget'"
      ]
     },
     "execution_count": 11,
     "metadata": {},
     "output_type": "execute_result"
    }
   ],
   "source": [
    "praproses(\"RT @hpsetyawan: @afiadi @Gerindra @prabowo setuju bgt\", n=1)"
   ]
  },
  {
   "cell_type": "code",
   "execution_count": 12,
   "metadata": {},
   "outputs": [
    {
     "data": {
      "text/plain": [
       "'positive'"
      ]
     },
     "execution_count": 12,
     "metadata": {},
     "output_type": "execute_result"
    }
   ],
   "source": [
    "kalimat = \"RT @hpsetyawan: @afiadi @Gerindra @prabowo setuju bgt\"\n",
    "# print(praproses(kalimat))\n",
    "naive_bayes.predict([praproses(kalimat)])[0]\n",
    "#memprediksi kalimat di preproses, kemudian di transform menjadi vector,diprediksi menggunakan NB"
   ]
  },
  {
   "cell_type": "markdown",
   "metadata": {},
   "source": [
    "# Prediksi data uji [MerdekaBelajar]"
   ]
  },
  {
   "cell_type": "code",
   "execution_count": 13,
   "metadata": {},
   "outputs": [
    {
     "name": "stdout",
     "output_type": "stream",
     "text": [
      "              precision    recall  f1-score   support\n",
      "\n",
      "    negative       0.50      0.73      0.59        15\n",
      "    positive       0.95      0.87      0.91        85\n",
      "\n",
      "    accuracy                           0.85       100\n",
      "   macro avg       0.72      0.80      0.75       100\n",
      "weighted avg       0.88      0.85      0.86       100\n",
      "\n"
     ]
    }
   ],
   "source": [
    "df = pd.read_excel(\"../../data_uji/PPDB ZONASI.xlsx\")\n",
    "twet_uji = df.Twit.tolist()\n",
    "label_asli = df.label.tolist()\n",
    "twet_uji_bersih = list()\n",
    "\n",
    "for ix, t in enumerate(twet_uji):\n",
    "    twet_uji_bersih.append(praproses(t))\n",
    "#     print(ix)\n",
    "prediksi = naive_bayes.predict(twet_uji_bersih)\n",
    "\n",
    "from sklearn.metrics import classification_report\n",
    "y_true = label_asli\n",
    "y_pred = prediksi\n",
    "target_names = ['negative', 'positive',]\n",
    "print(classification_report(y_true, y_pred, target_names=target_names))"
   ]
  },
  {
   "cell_type": "code",
   "execution_count": 14,
   "metadata": {
    "scrolled": true
   },
   "outputs": [
    {
     "name": "stdout",
     "output_type": "stream",
     "text": [
      "1\n",
      "Prediksi: positive\n",
      "asli    : negative\n",
      "     RT @basukids: @Gerindra @jokowi Anuuu... pemahamannya kurang eh..\n",
      "#PrabowoBentengNKRI\n",
      "====================================================================================================\n",
      "5\n",
      "Prediksi: negative\n",
      "asli    : positive\n",
      "     RT @xLoneWoIf: Inilah konsep kerjasama Indo-Pasifik. Nggak usah takut bakal makin banyak persaingan, krn @jokowi telah menyusun berbagai strategi\n",
      "====================================================================================================\n",
      "9\n",
      "Prediksi: positive\n",
      "asli    : negative\n",
      "     RT @gw_eilo: Malam Pak @jokowi Pak @prabowo saya izin tidur ya Pak, ngantuk, debatnya membosankan.\n",
      "====================================================================================================\n",
      "13\n",
      "Prediksi: negative\n",
      "asli    : positive\n",
      "     RT @CNNIDdaily: Capres nomor urut 01, @jokowi: Tapi masalah tuduh-menuduh saya kan juga banyak dituduh pak.\n",
      "\n",
      "#DebatCapres2019\n",
      "#DebatKeempat…\n",
      "====================================================================================================\n",
      "26\n",
      "Prediksi: positive\n",
      "asli    : negative\n",
      "     RT @unknownzoel_: Saya lihat pak @prabowo tidak percaya oleh TNI kita , \n",
      "\"Quotes from @jokowi 2019\"\n",
      "\n",
      "#prabowotidakpercaya\n",
      "#DebatAsyikJokowi…\n",
      "====================================================================================================\n",
      "32\n",
      "Prediksi: negative\n",
      "asli    : positive\n",
      "     RT @AdaCeuceu: emang bangsad sih kalo ada yang masih meragukan keisalaman doi, wong @jokowi masuk kdalam track 50 muslim berpengaruh.\n",
      "====================================================================================================\n",
      "39\n",
      "Prediksi: negative\n",
      "asli    : positive\n",
      "     RT @trenzsolo: \"Pak Prabowo ini tidak percaya pada TNI kita !!\" Kick telak @jokowi atas pernyataan Prabowo soal pertahananan RI\n",
      "====================================================================================================\n",
      "41\n",
      "Prediksi: positive\n",
      "asli    : negative\n",
      "     RT @milenial_kaum: @kangdede78 @jokowi #PemerintahanDILAN makin mempermudah warganya, tidak seperti bapak sombong yang selalu mengulang masa lalu\n",
      "====================================================================================================\n",
      "44\n",
      "Prediksi: negative\n",
      "asli    : positive\n",
      "     RT @bseptian15: @TeddyGusnaidi @prabowo @Gerindra Sekarang berani tidak pak @Jokowi menolak pak Yusril masuk ke kubunya\n",
      "====================================================================================================\n",
      "50\n",
      "Prediksi: negative\n",
      "asli    : positive\n",
      "     RT @densha_foxtrot: Pakdhe @jokowi kalo pakdhe punya program pengadaan rudal balistik ogut dukung pakdhe lahir batin\n",
      "====================================================================================================\n",
      "59\n",
      "Prediksi: negative\n",
      "asli    : positive\n",
      "     RT @RumahJokowi: Semua masalah bisa diatasi, dan tidak semuanya hrs tergantung pemerintah. Krn orang Indonesia itu tangguh.\n",
      "====================================================================================================\n",
      "60\n",
      "Prediksi: negative\n",
      "asli    : positive\n",
      "     RT @1blackcoffee888: #DebatAsyikJokowi \n",
      "Utk membangun kekuatan pertahanan RI, @jokowi telah membangun postur &amp; memodernkan alutsista TNI\n",
      "====================================================================================================\n",
      "81\n",
      "Prediksi: negative\n",
      "asli    : positive\n",
      "     RT @ClarissaInd: Sudah terbukti bapak @jokowi  hanya korban fitnah. Politik jangan gitu-gitu amat. Malu tau 😬😬😬\n",
      "@woelannnn @BiLLRaY_\n",
      "====================================================================================================\n",
      "90\n",
      "Prediksi: negative\n",
      "asli    : positive\n",
      "     RT @teresaracel: JOKOWI GOQIL \n",
      "ini perbandingan foto pak @Jokowi dan presiden sebelumnya yang menentukan kekuatan hubungan internasional.\n",
      "====================================================================================================\n",
      "97\n",
      "Prediksi: negative\n",
      "asli    : positive\n",
      "     RT @akuratco: .@jokowi ke @prabowo: Tidak saling menghujat, menghina, meremehkan, menjelekkan.Yg itu sekarang ini kita lihat.\n",
      "====================================================================================================\n"
     ]
    }
   ],
   "source": [
    "ix = 0\n",
    "for twet, asli, pred in zip(twet_uji, label_asli,prediksi):\n",
    "    if pred!= asli:\n",
    "        print(ix)\n",
    "        print(\"Prediksi:\",pred)\n",
    "        print(\"asli    :\",asli)\n",
    "        print(\"    \",twet)\n",
    "        print(\"=\"*100)\n",
    "    ix+=1"
   ]
  },
  {
   "cell_type": "code",
   "execution_count": null,
   "metadata": {},
   "outputs": [],
   "source": []
  },
  {
   "cell_type": "code",
   "execution_count": null,
   "metadata": {},
   "outputs": [],
   "source": []
  }
 ],
 "metadata": {
  "kernelspec": {
   "display_name": "Python 3",
   "language": "python",
   "name": "python3"
  },
  "language_info": {
   "codemirror_mode": {
    "name": "ipython",
    "version": 3
   },
   "file_extension": ".py",
   "mimetype": "text/x-python",
   "name": "python",
   "nbconvert_exporter": "python",
   "pygments_lexer": "ipython3",
   "version": "3.7.4"
  }
 },
 "nbformat": 4,
 "nbformat_minor": 2
}
