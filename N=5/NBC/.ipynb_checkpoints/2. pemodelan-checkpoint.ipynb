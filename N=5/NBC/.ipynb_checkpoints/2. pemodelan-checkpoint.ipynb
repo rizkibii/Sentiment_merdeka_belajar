{
 "cells": [
  {
   "cell_type": "code",
   "execution_count": 1,
   "metadata": {},
   "outputs": [],
   "source": [
    "import pandas as pd\n",
    "import joblib\n",
    "\n",
    "import os\n",
    "import sys\n",
    "alamat = \"/\".join(os.getcwd().split(\"\\\\\")[:-2])\n",
    "sys.path.append(alamat+'/praproses')\n",
    "from sklearn.metrics import accuracy_score"
   ]
  },
  {
   "cell_type": "code",
   "execution_count": 2,
   "metadata": {},
   "outputs": [
    {
     "data": {
      "text/html": [
       "<div>\n",
       "<style scoped>\n",
       "    .dataframe tbody tr th:only-of-type {\n",
       "        vertical-align: middle;\n",
       "    }\n",
       "\n",
       "    .dataframe tbody tr th {\n",
       "        vertical-align: top;\n",
       "    }\n",
       "\n",
       "    .dataframe thead th {\n",
       "        text-align: right;\n",
       "    }\n",
       "</style>\n",
       "<table border=\"1\" class=\"dataframe\">\n",
       "  <thead>\n",
       "    <tr style=\"text-align: right;\">\n",
       "      <th></th>\n",
       "      <th>Unnamed: 0</th>\n",
       "      <th>tweet</th>\n",
       "      <th>label</th>\n",
       "    </tr>\n",
       "  </thead>\n",
       "  <tbody>\n",
       "    <tr>\n",
       "      <td>0</td>\n",
       "      <td>0</td>\n",
       "      <td>buka visi misi begitu pukau sehingga buat pres...</td>\n",
       "      <td>positive</td>\n",
       "    </tr>\n",
       "    <tr>\n",
       "      <td>1</td>\n",
       "      <td>1</td>\n",
       "      <td>lebih baik pakai teknologi lama kaya negara in...</td>\n",
       "      <td>positive</td>\n",
       "    </tr>\n",
       "    <tr>\n",
       "      <td>2</td>\n",
       "      <td>2</td>\n",
       "      <td>kok arguing without menang kokarguing arguingw...</td>\n",
       "      <td>positive</td>\n",
       "    </tr>\n",
       "    <tr>\n",
       "      <td>3</td>\n",
       "      <td>3</td>\n",
       "      <td>jalan politik politik satu bukan politik pecah...</td>\n",
       "      <td>positive</td>\n",
       "    </tr>\n",
       "    <tr>\n",
       "      <td>4</td>\n",
       "      <td>4</td>\n",
       "      <td>juga fans lihat tampil serang hahaha jugafans ...</td>\n",
       "      <td>negative</td>\n",
       "    </tr>\n",
       "  </tbody>\n",
       "</table>\n",
       "</div>"
      ],
      "text/plain": [
       "   Unnamed: 0                                              tweet     label\n",
       "0           0  buka visi misi begitu pukau sehingga buat pres...  positive\n",
       "1           1  lebih baik pakai teknologi lama kaya negara in...  positive\n",
       "2           2  kok arguing without menang kokarguing arguingw...  positive\n",
       "3           3  jalan politik politik satu bukan politik pecah...  positive\n",
       "4           4  juga fans lihat tampil serang hahaha jugafans ...  negative"
      ]
     },
     "execution_count": 2,
     "metadata": {},
     "output_type": "execute_result"
    }
   ],
   "source": [
    "df = pd.read_excel(\"data/tweet_bersih_100.xlsx\") #data latih yang digunakan tweet_bersih_100.xlsx\n",
    "twet = df.tweet.tolist()\n",
    "label = df.label.tolist()\n",
    "df.head() #menampilkan lima teraatas dari data bersih"
   ]
  },
  {
   "cell_type": "code",
   "execution_count": 3,
   "metadata": {},
   "outputs": [
    {
     "name": "stdout",
     "output_type": "stream",
     "text": [
      "negative    500\n",
      "positive    500\n",
      "Name: label, dtype: int64\n"
     ]
    }
   ],
   "source": [
    "pd.value_counts(df['label']).plot.bar(title='Data Sentimen')\n",
    "print(pd.value_counts(df['label']))"
   ]
  },
  {
   "cell_type": "code",
   "execution_count": 4,
   "metadata": {},
   "outputs": [],
   "source": [
    "import numpy as np\n",
    "from sklearn.model_selection import KFold\n",
    "from Naive_Bayes_ import naive_bayes_ as nb\n",
    "X = np.array(twet)\n",
    "y = np.array(label)"
   ]
  },
  {
   "cell_type": "code",
   "execution_count": 5,
   "metadata": {
    "scrolled": true
   },
   "outputs": [
    {
     "name": "stdout",
     "output_type": "stream",
     "text": [
      "0.1..........0.767\n",
      "0.2..........0.7690000000000001\n",
      "0.30000000000000004..........0.77\n",
      "0.4..........0.777\n",
      "0.5..........0.7749999999999999\n",
      "0.6..........0.7739999999999999\n",
      "0.7000000000000001..........0.7739999999999999\n",
      "0.8..........0.7749999999999999\n",
      "0.9..........0.776\n",
      "1.0..........0.7769999999999999\n",
      "1.1..........0.7769999999999999\n",
      "1.2000000000000002..........0.776\n",
      "1.3000000000000003..........0.774\n",
      "1.4000000000000001..........0.775\n",
      "1.5000000000000002..........0.772\n",
      "1.6..........0.772\n",
      "1.7000000000000002..........0.772\n",
      "1.8000000000000003..........0.772\n",
      "1.9000000000000001..........0.7699999999999999\n",
      "2.0..........0.7699999999999999\n",
      "2.1..........0.7699999999999999\n",
      "2.2..........0.7689999999999999\n",
      "2.3000000000000003..........0.767\n",
      "2.4000000000000004..........0.765\n",
      "2.5000000000000004..........0.765\n",
      "2.6..........0.765\n",
      "2.7..........0.763\n",
      "2.8000000000000003..........0.7619999999999999\n",
      "2.9000000000000004..........0.7619999999999999\n",
      "3.0000000000000004..........0.7609999999999999\n",
      "3.1..........0.7609999999999999\n",
      "3.2..........0.7619999999999999\n",
      "3.3000000000000003..........0.7609999999999999\n",
      "3.4000000000000004..........0.76\n",
      "3.5000000000000004..........0.76\n",
      "3.6..........0.76\n",
      "3.7..........0.76\n",
      "3.8000000000000003..........0.76\n",
      "3.9000000000000004..........0.7569999999999999\n",
      "4.0..........0.7569999999999999\n",
      "4.1..........0.7559999999999999\n",
      "4.2..........0.7559999999999999\n",
      "4.3..........0.7549999999999999\n",
      "4.3999999999999995..........0.7549999999999999\n",
      "4.5..........0.7549999999999999\n",
      "4.6..........0.7549999999999999\n",
      "4.7..........0.7549999999999999\n",
      "4.8..........0.7559999999999999\n",
      "4.9..........0.7549999999999999\n",
      "5.0..........0.7549999999999999\n",
      "5.1..........0.7539999999999999\n",
      "5.2..........0.7539999999999999\n",
      "5.3..........0.7549999999999999\n",
      "5.4..........0.7549999999999999\n",
      "5.5..........0.7549999999999999\n",
      "5.6..........0.7559999999999999\n",
      "5.7..........0.7549999999999999\n",
      "5.8..........0.7549999999999999\n",
      "5.9..........0.7549999999999999\n",
      "6.0..........0.755\n",
      "6.1..........0.755\n",
      "6.2..........0.755\n",
      "6.3..........0.755\n",
      "6.4..........0.755\n",
      "6.5..........0.754\n",
      "6.6..........0.754\n",
      "6.7..........0.754\n",
      "6.8..........0.754\n",
      "6.9..........0.754\n",
      "7.0..........0.7529999999999999\n",
      "7.1..........0.7529999999999999\n",
      "7.2..........0.7529999999999999\n",
      "7.3..........0.7529999999999999\n",
      "7.4..........0.7529999999999999\n",
      "7.5..........0.7529999999999999\n",
      "7.6..........0.752\n",
      "7.7..........0.752\n",
      "7.8..........0.752\n",
      "7.9..........0.752\n",
      "8.0..........0.752\n",
      "8.1..........0.75\n",
      "8.2..........0.75\n",
      "8.3..........0.75\n",
      "8.4..........0.749\n",
      "8.5..........0.749\n",
      "8.6..........0.749\n",
      "8.7..........0.748\n",
      "8.8..........0.748\n",
      "8.9..........0.748\n",
      "9.0..........0.748\n",
      "9.1..........0.748\n",
      "9.2..........0.748\n",
      "9.3..........0.7470000000000001\n",
      "9.4..........0.7470000000000001\n",
      "9.5..........0.7470000000000001\n",
      "9.6..........0.7470000000000001\n",
      "9.700000000000001..........0.7460000000000001\n",
      "9.8..........0.7460000000000001\n",
      "9.9..........0.7460000000000001\n",
      "10.0..........0.7460000000000001\n"
     ]
    },
    {
     "data": {
      "text/html": [
       "<div>\n",
       "<style scoped>\n",
       "    .dataframe tbody tr th:only-of-type {\n",
       "        vertical-align: middle;\n",
       "    }\n",
       "\n",
       "    .dataframe tbody tr th {\n",
       "        vertical-align: top;\n",
       "    }\n",
       "\n",
       "    .dataframe thead th {\n",
       "        text-align: right;\n",
       "    }\n",
       "</style>\n",
       "<table border=\"1\" class=\"dataframe\">\n",
       "  <thead>\n",
       "    <tr style=\"text-align: right;\">\n",
       "      <th></th>\n",
       "      <th>alpha</th>\n",
       "      <th>score</th>\n",
       "    </tr>\n",
       "  </thead>\n",
       "  <tbody>\n",
       "    <tr>\n",
       "      <td>3</td>\n",
       "      <td>0.4</td>\n",
       "      <td>0.777</td>\n",
       "    </tr>\n",
       "    <tr>\n",
       "      <td>9</td>\n",
       "      <td>1.0</td>\n",
       "      <td>0.777</td>\n",
       "    </tr>\n",
       "    <tr>\n",
       "      <td>10</td>\n",
       "      <td>1.1</td>\n",
       "      <td>0.777</td>\n",
       "    </tr>\n",
       "    <tr>\n",
       "      <td>11</td>\n",
       "      <td>1.2</td>\n",
       "      <td>0.776</td>\n",
       "    </tr>\n",
       "    <tr>\n",
       "      <td>8</td>\n",
       "      <td>0.9</td>\n",
       "      <td>0.776</td>\n",
       "    </tr>\n",
       "  </tbody>\n",
       "</table>\n",
       "</div>"
      ],
      "text/plain": [
       "    alpha  score\n",
       "3     0.4  0.777\n",
       "9     1.0  0.777\n",
       "10    1.1  0.777\n",
       "11    1.2  0.776\n",
       "8     0.9  0.776"
      ]
     },
     "execution_count": 5,
     "metadata": {},
     "output_type": "execute_result"
    }
   ],
   "source": [
    "k = 10\n",
    "y = np.array(label)\n",
    "kf = KFold(n_splits=k) #membuat model kfold sejumlah k\n",
    "kf.get_n_splits(X)\n",
    "\n",
    "\n",
    "# print(kf)\n",
    "alpah_list = np.arange(0.1, 10+.1, .1)\n",
    "rerata = list()\n",
    "for alpha in alpah_list:\n",
    "    print(str(alpha), end= \"\")\n",
    "    clf = nb.NaiveBayesClassifier(alpha = alpha)\n",
    "    sc_10 = list()\n",
    "    for train_index, test_index in kf.split(X):\n",
    "        print(\".\", end=\"\")\n",
    "    #     print(\"TRAIN:\", train_index, \"TEST:\", test_index)\n",
    "        X_train, X_test = X[train_index], X[test_index]\n",
    "        y_train, y_test = y[train_index], y[test_index]\n",
    "        clf.train(X_train, y_train)\n",
    "\n",
    "        \n",
    "        y_pred = clf.predict(X_test)\n",
    "        y_true = y_test\n",
    "        \n",
    "        sc = accuracy_score(y_true, y_pred)\n",
    "        sc_10.append(sc)\n",
    "#     print( sum(sc_10)/k, \"|\", alpha)\n",
    "    rerata.append(sum(sc_10)/k)\n",
    "    print(sum(sc_10)/k)\n",
    "dict_ = {\n",
    "    \"alpha\":alpah_list,\n",
    "    \"score\":rerata\n",
    "}\n",
    "df_hasil = pd.DataFrame.from_dict(dict_)\n",
    "sorted_ = df_hasil.sort_values(\"score\", axis = 0, ascending = False)\n",
    "sorted_.head()"
   ]
  },
  {
   "cell_type": "code",
   "execution_count": 6,
   "metadata": {},
   "outputs": [
    {
     "data": {
      "text/plain": [
       "0.4"
      ]
     },
     "execution_count": 6,
     "metadata": {},
     "output_type": "execute_result"
    }
   ],
   "source": [
    "sorted_.alpha.tolist()[0]"
   ]
  },
  {
   "cell_type": "code",
   "execution_count": 7,
   "metadata": {},
   "outputs": [
    {
     "data": {
      "text/plain": [
       "['model/naive_bayes.m']"
      ]
     },
     "execution_count": 7,
     "metadata": {},
     "output_type": "execute_result"
    }
   ],
   "source": [
    "clf = nb.NaiveBayesClassifier(alpha = sorted_.alpha.tolist()[0])\n",
    "clf.train(X, y) \n",
    "joblib.dump(clf,\"model/naive_bayes.m\")"
   ]
  },
  {
   "cell_type": "code",
   "execution_count": null,
   "metadata": {},
   "outputs": [],
   "source": []
  },
  {
   "cell_type": "code",
   "execution_count": 8,
   "metadata": {},
   "outputs": [],
   "source": [
    "x = clf.predict(X)"
   ]
  },
  {
   "cell_type": "code",
   "execution_count": 9,
   "metadata": {},
   "outputs": [
    {
     "name": "stdout",
     "output_type": "stream",
     "text": [
      "7\n",
      "negative\n",
      "label asli positive\n",
      "apa bilang pak memang benar mau bukti di ejek asing v i r a l k a n prabow apabilang bilangpak pakmemang memangbenar benarmau maubukti buktidi diejek ejekasing asingv vi ir ra al lk ka an nprabow apabilangpak bilangpakmemang pakmemangbenar memangbenarmau benarmaubukti maubuktidi buktidiejek diejekasing ejekasingv asingvi vir ira ral alk lka kan anprabow apabilangpakmemang bilangpakmemangbenar pakmemangbenarmau memangbenarmaubukti benarmaubuktidi maubuktidiejek buktidiejekasing diejekasingv ejekasingvi asingvir vira iral ralk alka lkan kanprabow apabilangpakmemangbenar bilangpakmemangbenarmau pakmemangbenarmaubukti memangbenarmaubuktidi benarmaubuktidiejek maubuktidiejekasing buktidiejekasingv diejekasingvi ejekasingvir asingvira viral iralk ralka alkan lkanprabow\n",
      "\n",
      "94\n",
      "negative\n",
      "label asli positive\n",
      "aman semua pak kendali pak radar cukup pak budaya indonesia asal bapak senang jadi mohon kaji tahan sangat penting amansemua semuapak pakkendali kendalipak pakradar radarcukup cukuppak pakbudaya budayaindonesia indonesiaasal asalbapak bapaksenang senangjadi jadimohon mohonkaji kajitahan tahansangat sangatpenting amansemuapak semuapakkendali pakkendalipak kendalipakradar pakradarcukup radarcukuppak cukuppakbudaya pakbudayaindonesia budayaindonesiaasal indonesiaasalbapak asalbapaksenang bapaksenangjadi senangjadimohon jadimohonkaji mohonkajitahan kajitahansangat tahansangatpenting amansemuapakkendali semuapakkendalipak pakkendalipakradar kendalipakradarcukup pakradarcukuppak radarcukuppakbudaya cukuppakbudayaindonesia pakbudayaindonesiaasal budayaindonesiaasalbapak indonesiaasalbapaksenang asalbapaksenangjadi bapaksenangjadimohon senangjadimohonkaji jadimohonkajitahan mohonkajitahansangat kajitahansangatpenting amansemuapakkendalipak semuapakkendalipakradar pakkendalipakradarcukup kendalipakradarcukuppak pakradarcukuppakbudaya radarcukuppakbudayaindonesia cukuppakbudayaindonesiaasal pakbudayaindonesiaasalbapak budayaindonesiaasalbapaksenang indonesiaasalbapaksenangjadi asalbapaksenangjadimohon bapaksenangjadimohonkaji senangjadimohonkajitahan jadimohonkajitahansangat mohonkajitahansangatpenting\n",
      "\n",
      "438\n",
      "negative\n",
      "label asli positive\n",
      "apresiasi saudara di papua pakde jadi percuma kalian tebar bohong papua derita apresiasisaudara saudaradi dipapua papuapakde pakdejadi jadipercuma percumakalian kaliantebar tebarbohong bohongpapua papuaderita apresiasisaudaradi saudaradipapua dipapuapakde papuapakdejadi pakdejadipercuma jadipercumakalian percumakaliantebar kaliantebarbohong tebarbohongpapua bohongpapuaderita apresiasisaudaradipapua saudaradipapuapakde dipapuapakdejadi papuapakdejadipercuma pakdejadipercumakalian jadipercumakaliantebar percumakaliantebarbohong kaliantebarbohongpapua tebarbohongpapuaderita apresiasisaudaradipapuapakde saudaradipapuapakdejadi dipapuapakdejadipercuma papuapakdejadipercumakalian pakdejadipercumakaliantebar jadipercumakaliantebarbohong percumakaliantebarbohongpapua kaliantebarbohongpapuaderita\n",
      "\n",
      "579\n",
      "negative\n",
      "label asli positive\n",
      "dulu pernah asal bapak senang asal bapak senang sujud sukur live lho tv one apa live lho asal bapak senang nya wow dulupernah pernahasal asalbapak bapaksenang senangasal asalbapak bapaksenang senangsujud sujudsukur sukurlive livelho lhotv tvone oneapa apalive livelho lhoasal asalbapak bapaksenang senangnya nyawow dulupernahasal pernahasalbapak asalbapaksenang bapaksenangasal senangasalbapak asalbapaksenang bapaksenangsujud senangsujudsukur sujudsukurlive sukurlivelho livelhotv lhotvone tvoneapa oneapalive apalivelho livelhoasal lhoasalbapak asalbapaksenang bapaksenangnya senangnyawow dulupernahasalbapak pernahasalbapaksenang asalbapaksenangasal bapaksenangasalbapak senangasalbapaksenang asalbapaksenangsujud bapaksenangsujudsukur senangsujudsukurlive sujudsukurlivelho sukurlivelhotv livelhotvone lhotvoneapa tvoneapalive oneapalivelho apalivelhoasal livelhoasalbapak lhoasalbapaksenang asalbapaksenangnya bapaksenangnyawow dulupernahasalbapaksenang pernahasalbapaksenangasal asalbapaksenangasalbapak bapaksenangasalbapaksenang senangasalbapaksenangsujud asalbapaksenangsujudsukur bapaksenangsujudsukurlive senangsujudsukurlivelho sujudsukurlivelhotv sukurlivelhotvone livelhotvoneapa lhotvoneapalive tvoneapalivelho oneapalivelhoasal apalivelhoasalbapak livelhoasalbapaksenang lhoasalbapaksenangnya asalbapaksenangnyawow\n",
      "\n",
      "581\n",
      "negative\n",
      "label asli positive\n",
      "pak trauma pecat tni begini ngomongnya justru pak sipil percaya sama tni paktrauma traumapecat pecattni tnibegini beginingomongnya ngomongnyajustru justrupak paksipil sipilpercaya percayasama samatni paktraumapecat traumapecattni pecattnibegini tnibeginingomongnya beginingomongnyajustru ngomongnyajustrupak justrupaksipil paksipilpercaya sipilpercayasama percayasamatni paktraumapecattni traumapecattnibegini pecattnibeginingomongnya tnibeginingomongnyajustru beginingomongnyajustrupak ngomongnyajustrupaksipil justrupaksipilpercaya paksipilpercayasama sipilpercayasamatni paktraumapecattnibegini traumapecattnibeginingomongnya pecattnibeginingomongnyajustru tnibeginingomongnyajustrupak beginingomongnyajustrupaksipil ngomongnyajustrupaksipilpercaya justrupaksipilpercayasama paksipilpercayasamatni\n",
      "\n",
      "830\n",
      "positive\n",
      "label asli negative\n",
      "pak all keluar debat malam semua umpan lawan lahap habis bahkan jawab kerap jadi serang balik pakall allkeluar keluardebat debatmalam malamsemua semuaumpan umpanlawan lawanlahap lahaphabis habisbahkan bahkanjawab jawabkerap kerapjadi jadiserang serangbalik pakallkeluar allkeluardebat keluardebatmalam debatmalamsemua malamsemuaumpan semuaumpanlawan umpanlawanlahap lawanlahaphabis lahaphabisbahkan habisbahkanjawab bahkanjawabkerap jawabkerapjadi kerapjadiserang jadiserangbalik pakallkeluardebat allkeluardebatmalam keluardebatmalamsemua debatmalamsemuaumpan malamsemuaumpanlawan semuaumpanlawanlahap umpanlawanlahaphabis lawanlahaphabisbahkan lahaphabisbahkanjawab habisbahkanjawabkerap bahkanjawabkerapjadi jawabkerapjadiserang kerapjadiserangbalik pakallkeluardebatmalam allkeluardebatmalamsemua keluardebatmalamsemuaumpan debatmalamsemuaumpanlawan malamsemuaumpanlawanlahap semuaumpanlawanlahaphabis umpanlawanlahaphabisbahkan lawanlahaphabisbahkanjawab lahaphabisbahkanjawabkerap habisbahkanjawabkerapjadi bahkanjawabkerapjadiserang jawabkerapjadiserangbalik\n",
      "\n",
      "882\n",
      "positive\n",
      "label asli negative\n",
      "lama kawan lalu musuh lama tetangga lalu tak saling bicara semua karena beda pilih lamakawan kawanlalu lalumusuh musuhlama lamatetangga tetanggalalu lalutak taksaling salingbicara bicarasemua semuakarena karenabeda bedapilih lamakawanlalu kawanlalumusuh lalumusuhlama musuhlamatetangga lamatetanggalalu tetanggalalutak lalutaksaling taksalingbicara salingbicarasemua bicarasemuakarena semuakarenabeda karenabedapilih lamakawanlalumusuh kawanlalumusuhlama lalumusuhlamatetangga musuhlamatetanggalalu lamatetanggalalutak tetanggalalutaksaling lalutaksalingbicara taksalingbicarasemua salingbicarasemuakarena bicarasemuakarenabeda semuakarenabedapilih lamakawanlalumusuhlama kawanlalumusuhlamatetangga lalumusuhlamatetanggalalu musuhlamatetanggalalutak lamatetanggalalutaksaling tetanggalalutaksalingbicara lalutaksalingbicarasemua taksalingbicarasemuakarena salingbicarasemuakarenabeda bicarasemuakarenabedapilih\n",
      "\n",
      "888\n",
      "positive\n",
      "label asli negative\n",
      "rantai sahabat pak pak akan putus debatpilpres 2019 dengerin tuh tkn-bpn cebong kampret rantaisahabat sahabatpak pakpak pakakan akanputus putusdebatpilpres debatpilpres2019 2019dengerin dengerintuh tuhtkn-bpn tkn-bpncebong cebongkampret rantaisahabatpak sahabatpakpak pakpakakan pakakanputus akanputusdebatpilpres putusdebatpilpres2019 debatpilpres2019dengerin 2019dengerintuh dengerintuhtkn-bpn tuhtkn-bpncebong tkn-bpncebongkampret rantaisahabatpakpak sahabatpakpakakan pakpakakanputus pakakanputusdebatpilpres akanputusdebatpilpres2019 putusdebatpilpres2019dengerin debatpilpres2019dengerintuh 2019dengerintuhtkn-bpn dengerintuhtkn-bpncebong tuhtkn-bpncebongkampret rantaisahabatpakpakakan sahabatpakpakakanputus pakpakakanputusdebatpilpres pakakanputusdebatpilpres2019 akanputusdebatpilpres2019dengerin putusdebatpilpres2019dengerintuh debatpilpres2019dengerintuhtkn-bpn 2019dengerintuhtkn-bpncebong dengerintuhtkn-bpncebongkampret\n",
      "\n",
      "893\n",
      "positive\n",
      "label asli negative\n",
      "jangan pilih pimpin bohong ingkar janji provokasi rakyat kacang lupa kulit pilih pimpin jujur janganpilih pilihpimpin pimpinbohong bohongingkar ingkarjanji janjiprovokasi provokasirakyat rakyatkacang kacanglupa lupakulit kulitpilih pilihpimpin pimpinjujur janganpilihpimpin pilihpimpinbohong pimpinbohongingkar bohongingkarjanji ingkarjanjiprovokasi janjiprovokasirakyat provokasirakyatkacang rakyatkacanglupa kacanglupakulit lupakulitpilih kulitpilihpimpin pilihpimpinjujur janganpilihpimpinbohong pilihpimpinbohongingkar pimpinbohongingkarjanji bohongingkarjanjiprovokasi ingkarjanjiprovokasirakyat janjiprovokasirakyatkacang provokasirakyatkacanglupa rakyatkacanglupakulit kacanglupakulitpilih lupakulitpilihpimpin kulitpilihpimpinjujur janganpilihpimpinbohongingkar pilihpimpinbohongingkarjanji pimpinbohongingkarjanjiprovokasi bohongingkarjanjiprovokasirakyat ingkarjanjiprovokasirakyatkacang janjiprovokasirakyatkacanglupa provokasirakyatkacanglupakulit rakyatkacanglupakulitpilih kacanglupakulitpilihpimpin lupakulitpilihpimpinjujur\n",
      "\n"
     ]
    }
   ],
   "source": [
    "ixx = 0\n",
    "labelA = list()\n",
    "labelP= list()\n",
    "\n",
    "for i, j in zip(label, x):\n",
    "    if i !=j:\n",
    "        print(ixx)\n",
    "        print(j)\n",
    "        print(\"label asli\",i)\n",
    "        print(twet[ixx])\n",
    "        print()\n",
    "    ixx+=1"
   ]
  },
  {
   "cell_type": "code",
   "execution_count": null,
   "metadata": {},
   "outputs": [],
   "source": []
  },
  {
   "cell_type": "code",
   "execution_count": null,
   "metadata": {},
   "outputs": [],
   "source": []
  }
 ],
 "metadata": {
  "kernelspec": {
   "display_name": "Python 3",
   "language": "python",
   "name": "python3"
  },
  "language_info": {
   "codemirror_mode": {
    "name": "ipython",
    "version": 3
   },
   "file_extension": ".py",
   "mimetype": "text/x-python",
   "name": "python",
   "nbconvert_exporter": "python",
   "pygments_lexer": "ipython3",
   "version": "3.7.4"
  }
 },
 "nbformat": 4,
 "nbformat_minor": 2
}
