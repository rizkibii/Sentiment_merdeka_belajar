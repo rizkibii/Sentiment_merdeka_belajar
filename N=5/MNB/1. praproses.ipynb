{
 "cells": [
  {
   "cell_type": "code",
   "execution_count": 1,
   "metadata": {},
   "outputs": [],
   "source": [
    "import sys\n",
    "\n",
    "import os\n",
    "alamat = \"/\".join(os.getcwd().split(\"\\\\\")[:-2])\n",
    "sys.path.append(alamat+'/praproses')\n",
    "import ngrams as ng\n",
    "from normalisasi import normalisasi as nrm\n",
    "import token as tkn\n",
    "import stemming as stm\n",
    "import cleansing\n",
    "import isDigit as isd\n",
    "# import stemming\n",
    "import seleksi_kata as sk\n",
    "\n",
    "import pandas as pd"
   ]
  },
  {
   "cell_type": "code",
   "execution_count": 2,
   "metadata": {},
   "outputs": [
    {
     "data": {
      "text/plain": [
       "'a b c f g h i j k ab bc cf fg gh hi ij jk abc bcf cfg fgh ghi hij ijk abcf bcfg cfgh fghi ghij hijk abcfg bcfgh cfghi fghij ghijk'"
      ]
     },
     "execution_count": 2,
     "metadata": {},
     "output_type": "execute_result"
    }
   ],
   "source": [
    "ng.ngramku(\"a b c f g h i j k\", n=5)['string'] #testing"
   ]
  },
  {
   "cell_type": "code",
   "execution_count": 3,
   "metadata": {},
   "outputs": [],
   "source": [
    "# nrm.slangword(\"gw itu\")"
   ]
  },
  {
   "cell_type": "code",
   "execution_count": 4,
   "metadata": {},
   "outputs": [],
   "source": [
    "# isd.remove_digit(\"2019 tahun baru\")"
   ]
  },
  {
   "cell_type": "code",
   "execution_count": 5,
   "metadata": {},
   "outputs": [],
   "source": [
    "df = pd.read_excel(alamat+\"/data/1000 twitt data latih pos-neg 50-50.xlsx\")\n",
    "tweet = df.message.tolist()\n",
    "label = df.label.tolist()\n",
    "#print(len(df))\n",
    "#df.head()"
   ]
  },
  {
   "cell_type": "markdown",
   "metadata": {},
   "source": [
    "# Praproses"
   ]
  },
  {
   "cell_type": "code",
   "execution_count": 6,
   "metadata": {},
   "outputs": [
    {
     "name": "stdout",
     "output_type": "stream",
     "text": [
      "...................................................................................................100\n",
      "...................................................................................................200\n",
      "...................................................................................................300\n",
      "...................................................................................................400\n",
      "...................................................................................................500\n",
      "...................................................................................................600\n",
      "...................................................................................................700\n",
      "...................................................................................................800\n",
      "...................................................................................................900\n",
      "...................................................................................................1000\n"
     ]
    }
   ],
   "source": [
    "n_tweet = list()\n",
    "for ix, twt in enumerate(tweet):\n",
    "    twt = sk.seleksi(twt)\n",
    "    twt = cleansing.cleaning(twt)\n",
    "    twt = isd.remove_digit(twt)\n",
    "    twt = nrm.slangword(twt)\n",
    "    twt = stm.stemming(twt)\n",
    "    twt = stm.StopWordRemover(twt)\n",
    "    twt = ng.ngramku(twt, n=5)['string']\n",
    "    if (ix+1) %100 == 0:\n",
    "        print(ix+1)\n",
    "    else:\n",
    "        print(\".\", end=\"\")\n",
    "    n_tweet.append(twt)"
   ]
  },
  {
   "cell_type": "code",
   "execution_count": 7,
   "metadata": {},
   "outputs": [],
   "source": [
    "dict_ = {\n",
    "    \"tweet\":n_tweet,\n",
    "    \"label\":label\n",
    "}\n",
    "df2 = pd.DataFrame.from_dict(dict_)\n",
    "df2.to_excel(\"data/tweet_bersih_100.xlsx\")"
   ]
  },
  {
   "cell_type": "code",
   "execution_count": null,
   "metadata": {},
   "outputs": [],
   "source": []
  },
  {
   "cell_type": "code",
   "execution_count": null,
   "metadata": {},
   "outputs": [],
   "source": []
  }
 ],
 "metadata": {
  "kernelspec": {
   "display_name": "Python 3",
   "language": "python",
   "name": "python3"
  },
  "language_info": {
   "codemirror_mode": {
    "name": "ipython",
    "version": 3
   },
   "file_extension": ".py",
   "mimetype": "text/x-python",
   "name": "python",
   "nbconvert_exporter": "python",
   "pygments_lexer": "ipython3",
   "version": "3.7.4"
  }
 },
 "nbformat": 4,
 "nbformat_minor": 2
}
