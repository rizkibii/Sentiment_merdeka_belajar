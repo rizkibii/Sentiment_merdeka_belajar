{
 "cells": [
  {
   "cell_type": "code",
   "execution_count": 1,
   "metadata": {},
   "outputs": [],
   "source": [
    "import pandas as pd\n",
    "import joblib"
   ]
  },
  {
   "cell_type": "code",
   "execution_count": 2,
   "metadata": {},
   "outputs": [
    {
     "data": {
      "text/html": [
       "<div>\n",
       "<style scoped>\n",
       "    .dataframe tbody tr th:only-of-type {\n",
       "        vertical-align: middle;\n",
       "    }\n",
       "\n",
       "    .dataframe tbody tr th {\n",
       "        vertical-align: top;\n",
       "    }\n",
       "\n",
       "    .dataframe thead th {\n",
       "        text-align: right;\n",
       "    }\n",
       "</style>\n",
       "<table border=\"1\" class=\"dataframe\">\n",
       "  <thead>\n",
       "    <tr style=\"text-align: right;\">\n",
       "      <th></th>\n",
       "      <th>Unnamed: 0</th>\n",
       "      <th>tweet</th>\n",
       "      <th>label</th>\n",
       "    </tr>\n",
       "  </thead>\n",
       "  <tbody>\n",
       "    <tr>\n",
       "      <th>0</th>\n",
       "      <td>0</td>\n",
       "      <td>buka visi misi begitu pukau sehingga buat pres...</td>\n",
       "      <td>positive</td>\n",
       "    </tr>\n",
       "    <tr>\n",
       "      <th>1</th>\n",
       "      <td>1</td>\n",
       "      <td>lebih baik pakai teknologi lama kaya negara in...</td>\n",
       "      <td>positive</td>\n",
       "    </tr>\n",
       "    <tr>\n",
       "      <th>2</th>\n",
       "      <td>2</td>\n",
       "      <td>kok arguing without crying</td>\n",
       "      <td>positive</td>\n",
       "    </tr>\n",
       "    <tr>\n",
       "      <th>3</th>\n",
       "      <td>3</td>\n",
       "      <td>jalan politik politik satu bukan politik pecah...</td>\n",
       "      <td>positive</td>\n",
       "    </tr>\n",
       "    <tr>\n",
       "      <th>4</th>\n",
       "      <td>4</td>\n",
       "      <td>juga fans lihat tampil serang hahaha</td>\n",
       "      <td>negative</td>\n",
       "    </tr>\n",
       "  </tbody>\n",
       "</table>\n",
       "</div>"
      ],
      "text/plain": [
       "   Unnamed: 0                                              tweet     label\n",
       "0           0  buka visi misi begitu pukau sehingga buat pres...  positive\n",
       "1           1  lebih baik pakai teknologi lama kaya negara in...  positive\n",
       "2           2                         kok arguing without crying  positive\n",
       "3           3  jalan politik politik satu bukan politik pecah...  positive\n",
       "4           4               juga fans lihat tampil serang hahaha  negative"
      ]
     },
     "execution_count": 2,
     "metadata": {},
     "output_type": "execute_result"
    }
   ],
   "source": [
    "df = pd.read_excel(\"data/tweet_bersih_108.xlsx\")\n",
    "twet = df.tweet.tolist()\n",
    "label = df.label.tolist()\n",
    "df.head()"
   ]
  },
  {
   "cell_type": "code",
   "execution_count": 3,
   "metadata": {},
   "outputs": [
    {
     "name": "stdout",
     "output_type": "stream",
     "text": [
      "positive    685\n",
      "negative    322\n",
      "Name: label, dtype: int64\n"
     ]
    }
   ],
   "source": [
    "pd.value_counts(df['label']).plot.bar(title='Data Sentimen')\n",
    "print(pd.value_counts(df['label']))"
   ]
  },
  {
   "cell_type": "markdown",
   "metadata": {},
   "source": [
    "# Pembagian data & pemodelan"
   ]
  },
  {
   "cell_type": "code",
   "execution_count": 4,
   "metadata": {},
   "outputs": [],
   "source": [
    "import numpy as np\n",
    "from sklearn.model_selection import KFold\n",
    "from sklearn import svm"
   ]
  },
  {
   "cell_type": "code",
   "execution_count": 6,
   "metadata": {},
   "outputs": [],
   "source": [
    "# clf = svm.SVC(kernel = \"rbf\", C = 1, gamma=1)\n",
    "# clf.fit(X, y)  "
   ]
  },
  {
   "cell_type": "code",
   "execution_count": 7,
   "metadata": {},
   "outputs": [],
   "source": [
    "from sklearn.feature_extraction.text import TfidfVectorizer\n",
    "corpus = twet\n",
    "vectorizer = TfidfVectorizer()\n",
    "save = vectorizer.fit(corpus)\n",
    "joblib.dump(save,\"model/tdidf.w\")\n",
    "X = vectorizer.fit_transform(corpus)"
   ]
  },
  {
   "cell_type": "code",
   "execution_count": 9,
   "metadata": {},
   "outputs": [
    {
     "ename": "KeyboardInterrupt",
     "evalue": "",
     "output_type": "error",
     "traceback": [
      "\u001b[0;31m---------------------------------------------------------------------------\u001b[0m",
      "\u001b[0;31mKeyboardInterrupt\u001b[0m                         Traceback (most recent call last)",
      "\u001b[0;32m<ipython-input-9-7cfc46954df6>\u001b[0m in \u001b[0;36m<module>\u001b[0;34m\u001b[0m\n\u001b[1;32m     18\u001b[0m             \u001b[0mX_train\u001b[0m\u001b[0;34m,\u001b[0m \u001b[0mX_test\u001b[0m \u001b[0;34m=\u001b[0m \u001b[0mX\u001b[0m\u001b[0;34m[\u001b[0m\u001b[0mtrain_index\u001b[0m\u001b[0;34m]\u001b[0m\u001b[0;34m,\u001b[0m \u001b[0mX\u001b[0m\u001b[0;34m[\u001b[0m\u001b[0mtest_index\u001b[0m\u001b[0;34m]\u001b[0m\u001b[0;34m\u001b[0m\u001b[0;34m\u001b[0m\u001b[0m\n\u001b[1;32m     19\u001b[0m             \u001b[0my_train\u001b[0m\u001b[0;34m,\u001b[0m \u001b[0my_test\u001b[0m \u001b[0;34m=\u001b[0m \u001b[0my\u001b[0m\u001b[0;34m[\u001b[0m\u001b[0mtrain_index\u001b[0m\u001b[0;34m]\u001b[0m\u001b[0;34m,\u001b[0m \u001b[0my\u001b[0m\u001b[0;34m[\u001b[0m\u001b[0mtest_index\u001b[0m\u001b[0;34m]\u001b[0m\u001b[0;34m\u001b[0m\u001b[0;34m\u001b[0m\u001b[0m\n\u001b[0;32m---> 20\u001b[0;31m             \u001b[0mclf\u001b[0m\u001b[0;34m.\u001b[0m\u001b[0mfit\u001b[0m\u001b[0;34m(\u001b[0m\u001b[0mX_train\u001b[0m\u001b[0;34m,\u001b[0m \u001b[0my_train\u001b[0m\u001b[0;34m)\u001b[0m\u001b[0;34m\u001b[0m\u001b[0;34m\u001b[0m\u001b[0m\n\u001b[0m\u001b[1;32m     21\u001b[0m     \u001b[0;31m#         clf.fit(X, y)\u001b[0m\u001b[0;34m\u001b[0m\u001b[0;34m\u001b[0m\u001b[0;34m\u001b[0m\u001b[0m\n\u001b[1;32m     22\u001b[0m             \u001b[0msc\u001b[0m \u001b[0;34m=\u001b[0m \u001b[0mclf\u001b[0m\u001b[0;34m.\u001b[0m\u001b[0mscore\u001b[0m\u001b[0;34m(\u001b[0m\u001b[0mX_test\u001b[0m\u001b[0;34m,\u001b[0m \u001b[0my_test\u001b[0m\u001b[0;34m)\u001b[0m\u001b[0;34m\u001b[0m\u001b[0;34m\u001b[0m\u001b[0m\n",
      "\u001b[0;32m~/anaconda3/lib/python3.7/site-packages/sklearn/svm/base.py\u001b[0m in \u001b[0;36mfit\u001b[0;34m(self, X, y, sample_weight)\u001b[0m\n\u001b[1;32m    207\u001b[0m \u001b[0;34m\u001b[0m\u001b[0m\n\u001b[1;32m    208\u001b[0m         \u001b[0mseed\u001b[0m \u001b[0;34m=\u001b[0m \u001b[0mrnd\u001b[0m\u001b[0;34m.\u001b[0m\u001b[0mrandint\u001b[0m\u001b[0;34m(\u001b[0m\u001b[0mnp\u001b[0m\u001b[0;34m.\u001b[0m\u001b[0miinfo\u001b[0m\u001b[0;34m(\u001b[0m\u001b[0;34m'i'\u001b[0m\u001b[0;34m)\u001b[0m\u001b[0;34m.\u001b[0m\u001b[0mmax\u001b[0m\u001b[0;34m)\u001b[0m\u001b[0;34m\u001b[0m\u001b[0;34m\u001b[0m\u001b[0m\n\u001b[0;32m--> 209\u001b[0;31m         \u001b[0mfit\u001b[0m\u001b[0;34m(\u001b[0m\u001b[0mX\u001b[0m\u001b[0;34m,\u001b[0m \u001b[0my\u001b[0m\u001b[0;34m,\u001b[0m \u001b[0msample_weight\u001b[0m\u001b[0;34m,\u001b[0m \u001b[0msolver_type\u001b[0m\u001b[0;34m,\u001b[0m \u001b[0mkernel\u001b[0m\u001b[0;34m,\u001b[0m \u001b[0mrandom_seed\u001b[0m\u001b[0;34m=\u001b[0m\u001b[0mseed\u001b[0m\u001b[0;34m)\u001b[0m\u001b[0;34m\u001b[0m\u001b[0;34m\u001b[0m\u001b[0m\n\u001b[0m\u001b[1;32m    210\u001b[0m         \u001b[0;31m# see comment on the other call to np.iinfo in this file\u001b[0m\u001b[0;34m\u001b[0m\u001b[0;34m\u001b[0m\u001b[0;34m\u001b[0m\u001b[0m\n\u001b[1;32m    211\u001b[0m \u001b[0;34m\u001b[0m\u001b[0m\n",
      "\u001b[0;32m~/anaconda3/lib/python3.7/site-packages/sklearn/svm/base.py\u001b[0m in \u001b[0;36m_sparse_fit\u001b[0;34m(self, X, y, sample_weight, solver_type, kernel, random_seed)\u001b[0m\n\u001b[1;32m    288\u001b[0m                 \u001b[0msample_weight\u001b[0m\u001b[0;34m,\u001b[0m \u001b[0mself\u001b[0m\u001b[0;34m.\u001b[0m\u001b[0mnu\u001b[0m\u001b[0;34m,\u001b[0m \u001b[0mself\u001b[0m\u001b[0;34m.\u001b[0m\u001b[0mcache_size\u001b[0m\u001b[0;34m,\u001b[0m \u001b[0mself\u001b[0m\u001b[0;34m.\u001b[0m\u001b[0mepsilon\u001b[0m\u001b[0;34m,\u001b[0m\u001b[0;34m\u001b[0m\u001b[0;34m\u001b[0m\u001b[0m\n\u001b[1;32m    289\u001b[0m                 \u001b[0mint\u001b[0m\u001b[0;34m(\u001b[0m\u001b[0mself\u001b[0m\u001b[0;34m.\u001b[0m\u001b[0mshrinking\u001b[0m\u001b[0;34m)\u001b[0m\u001b[0;34m,\u001b[0m \u001b[0mint\u001b[0m\u001b[0;34m(\u001b[0m\u001b[0mself\u001b[0m\u001b[0;34m.\u001b[0m\u001b[0mprobability\u001b[0m\u001b[0;34m)\u001b[0m\u001b[0;34m,\u001b[0m \u001b[0mself\u001b[0m\u001b[0;34m.\u001b[0m\u001b[0mmax_iter\u001b[0m\u001b[0;34m,\u001b[0m\u001b[0;34m\u001b[0m\u001b[0;34m\u001b[0m\u001b[0m\n\u001b[0;32m--> 290\u001b[0;31m                 random_seed)\n\u001b[0m\u001b[1;32m    291\u001b[0m \u001b[0;34m\u001b[0m\u001b[0m\n\u001b[1;32m    292\u001b[0m         \u001b[0mself\u001b[0m\u001b[0;34m.\u001b[0m\u001b[0m_warn_from_fit_status\u001b[0m\u001b[0;34m(\u001b[0m\u001b[0;34m)\u001b[0m\u001b[0;34m\u001b[0m\u001b[0;34m\u001b[0m\u001b[0m\n",
      "\u001b[0;32msklearn/svm/libsvm_sparse.pyx\u001b[0m in \u001b[0;36msklearn.svm.libsvm_sparse.libsvm_sparse_train\u001b[0;34m()\u001b[0m\n",
      "\u001b[0;32m~/anaconda3/lib/python3.7/site-packages/scipy/sparse/compressed.py\u001b[0m in \u001b[0;36m__init__\u001b[0;34m(self, arg1, shape, dtype, copy)\u001b[0m\n\u001b[1;32m     28\u001b[0m     \u001b[0;34m\"\"\"base matrix class for compressed row and column oriented matrices\"\"\"\u001b[0m\u001b[0;34m\u001b[0m\u001b[0;34m\u001b[0m\u001b[0m\n\u001b[1;32m     29\u001b[0m \u001b[0;34m\u001b[0m\u001b[0m\n\u001b[0;32m---> 30\u001b[0;31m     \u001b[0;32mdef\u001b[0m \u001b[0m__init__\u001b[0m\u001b[0;34m(\u001b[0m\u001b[0mself\u001b[0m\u001b[0;34m,\u001b[0m \u001b[0marg1\u001b[0m\u001b[0;34m,\u001b[0m \u001b[0mshape\u001b[0m\u001b[0;34m=\u001b[0m\u001b[0;32mNone\u001b[0m\u001b[0;34m,\u001b[0m \u001b[0mdtype\u001b[0m\u001b[0;34m=\u001b[0m\u001b[0;32mNone\u001b[0m\u001b[0;34m,\u001b[0m \u001b[0mcopy\u001b[0m\u001b[0;34m=\u001b[0m\u001b[0;32mFalse\u001b[0m\u001b[0;34m)\u001b[0m\u001b[0;34m:\u001b[0m\u001b[0;34m\u001b[0m\u001b[0;34m\u001b[0m\u001b[0m\n\u001b[0m\u001b[1;32m     31\u001b[0m         \u001b[0m_data_matrix\u001b[0m\u001b[0;34m.\u001b[0m\u001b[0m__init__\u001b[0m\u001b[0;34m(\u001b[0m\u001b[0mself\u001b[0m\u001b[0;34m)\u001b[0m\u001b[0;34m\u001b[0m\u001b[0;34m\u001b[0m\u001b[0m\n\u001b[1;32m     32\u001b[0m \u001b[0;34m\u001b[0m\u001b[0m\n",
      "\u001b[0;31mKeyboardInterrupt\u001b[0m: "
     ]
    }
   ],
   "source": [
    "k = 10\n",
    "y = np.array(label)\n",
    "kf = KFold(n_splits=k)\n",
    "kf.get_n_splits(X)\n",
    "# print(kf)\n",
    "C_list = np.arange(0.1, 1+0.1, 0.1)\n",
    "gamma_list = np.arange(0.1, 1+0.1, 0.1)\n",
    "\n",
    "C_list_ = list()\n",
    "gamma_list_ = list()\n",
    "rerata = list()\n",
    "for C in C_list:\n",
    "    for gamma in gamma_list:\n",
    "        clf = svm.SVC(kernel = \"rbf\", C = C, gamma=gamma)\n",
    "        sc_10 = list()\n",
    "        for train_index, test_index in kf.split(X):\n",
    "        #     print(\"TRAIN:\", train_index, \"TEST:\", test_index)\n",
    "            X_train, X_test = X[train_index], X[test_index]\n",
    "            y_train, y_test = y[train_index], y[test_index]\n",
    "            clf.fit(X_train, y_train)\n",
    "    #         clf.fit(X, y)\n",
    "            sc = clf.score(X_test, y_test)\n",
    "            sc_10.append(sc)\n",
    "    #     print( sum(sc_10)/k, \"|\", alpha)\n",
    "        rerata.append(sum(sc_10)/k)\n",
    "dict_ = {\n",
    "    \"C\":C_list_,\n",
    "    \"gamma\":gamma_list_,\n",
    "    \"score\":rerata\n",
    "}\n",
    "df_hasil = pd.DataFrame.from_dict(dict_)\n",
    "sorted_ = df_hasil.sort_values(\"score\", axis = 0, ascending = False)\n",
    "sorted_.head(10)"
   ]
  },
  {
   "cell_type": "code",
   "execution_count": 7,
   "metadata": {},
   "outputs": [
    {
     "data": {
      "text/plain": [
       "0.16100000000000006"
      ]
     },
     "execution_count": 7,
     "metadata": {},
     "output_type": "execute_result"
    }
   ],
   "source": [
    "sorted_.alpha.tolist()[0]"
   ]
  },
  {
   "cell_type": "code",
   "execution_count": 8,
   "metadata": {},
   "outputs": [
    {
     "data": {
      "text/plain": [
       "['model/naive_bayes.m']"
      ]
     },
     "execution_count": 8,
     "metadata": {},
     "output_type": "execute_result"
    }
   ],
   "source": [
    "clf = MultinomialNB(alpha = sorted_.alpha.tolist()[0])\n",
    "save = clf.fit(X_train, y_train)\n",
    "joblib.dump(save,\"model/svm.m\")"
   ]
  },
  {
   "cell_type": "code",
   "execution_count": 10,
   "metadata": {},
   "outputs": [
    {
     "data": {
      "text/plain": [
       "0.9503475670307845"
      ]
     },
     "execution_count": 10,
     "metadata": {},
     "output_type": "execute_result"
    }
   ],
   "source": [
    "save.score(X, y)"
   ]
  },
  {
   "cell_type": "code",
   "execution_count": 11,
   "metadata": {},
   "outputs": [],
   "source": [
    "x = save.predict(X)"
   ]
  },
  {
   "cell_type": "code",
   "execution_count": 12,
   "metadata": {},
   "outputs": [
    {
     "name": "stdout",
     "output_type": "stream",
     "text": [
      "17\n",
      "positive\n",
      "label asli negative\n",
      "debat malam bukti sama emosional emosi pikir selamat\n",
      "\n",
      "52\n",
      "negative\n",
      "label asli positive\n",
      "duh pak baik banget kalau bicara bahasa inggris arti tahu kalau pak gak bahasa inggris\n",
      "\n",
      "99\n",
      "positive\n",
      "label asli negative\n",
      "tuju sekali pak selesai soal korupsi memang benah sistem bisa potong rantai\n",
      "\n",
      "153\n",
      "negative\n",
      "label asli positive\n",
      "tertawa puas takut marah larang ingat pilih biar bebas tertawa batas\n",
      "\n",
      "173\n",
      "negative\n",
      "label asli positive\n",
      "sila kalian ketawa kaya bilang bocor 2014 lalu sekarang soal tahan klean ketawa\n",
      "\n",
      "197\n",
      "positive\n",
      "label asli negative\n",
      "silah tertawa jadi presiden kalo beliau menang ketawa larang\n",
      "\n",
      "304\n",
      "positive\n",
      "label asli negative\n",
      "lebih tni tni bagus pak aku overdosis jadi makin mudah kami pilih presiden\n",
      "\n",
      "306\n",
      "positive\n",
      "label asli negative\n",
      "satu sisi tegas bilang tdk ubah nkri jadi khilafah di sisi bpn malah janji hti hidup\n",
      "\n",
      "343\n",
      "positive\n",
      "label asli negative\n",
      "capres 02 nilai tak keluar narasi besar sendiri tak tampil istimewa\n",
      "\n",
      "360\n",
      "positive\n",
      "label asli negative\n",
      "lihat pak percaya tni 2019\n",
      "\n",
      "365\n",
      "positive\n",
      "label asli negative\n",
      "20 100 alas pilih prabowo menang debat 17 april coblos sandi\n",
      "\n",
      "378\n",
      "negative\n",
      "label asli positive\n",
      "bikin tonton ketawa saat bilang bukan salah bapak gak tau salah siapa\n",
      "\n",
      "385\n",
      "positive\n",
      "label asli negative\n",
      "rendah dukung tahana rupa bukti bila cara tak langsung sedang hukum publik\n",
      "\n",
      "443\n",
      "positive\n",
      "label asli negative\n",
      "satu yakin dngn tni yg satu pesimis jadi pemerintahandilan jutkan 01 utk indonesia maju\n",
      "\n",
      "487\n",
      "positive\n",
      "label asli negative\n",
      "tertawa tertawa larang pemerintahandilan 01dilanjutkan debatkeempatpilpres 2019\n",
      "\n",
      "516\n",
      "positive\n",
      "label asli negative\n",
      "duh jadi melow gitu akhir mas tak laku closing statement yg lebih prabowobentengnkri\n",
      "\n",
      "519\n",
      "positive\n",
      "label asli negative\n",
      "kata tni milik budaya abs asal bapak senang ini efek pernah pecat tni\n",
      "\n",
      "535\n",
      "positive\n",
      "label asli negative\n",
      "sejahtera tni lama 5 thn perintah gaji tni tdk pernah naik sejahtera tni aja kurang\n",
      "\n",
      "584\n",
      "positive\n",
      "label asli negative\n",
      "kritik solusi bagai kaca air keruh kerja beri solusi nyata tumbuh ekonomi\n",
      "\n",
      "613\n",
      "positive\n",
      "label asli negative\n",
      "harus utama tuju perintah sendiri tuju perintah jelas akan jadi gaduh\n",
      "\n",
      "627\n",
      "positive\n",
      "label asli negative\n",
      "kalau mandat akan bersih kuat lembaga perintah akan hilang korupsi indonesia\n",
      "\n",
      "630\n",
      "positive\n",
      "label asli negative\n",
      "cuma doa moga terima nyata walaupun pahit 2019 rakyat presiden ri\n",
      "\n",
      "642\n",
      "positive\n",
      "label asli negative\n",
      "perintah dil digital layan sangat perlu\n",
      "\n",
      "725\n",
      "positive\n",
      "label asli negative\n",
      "bang kalo jadi presiden siapa ibu negara apa benar kita jadi negara piatu\n",
      "\n",
      "728\n",
      "positive\n",
      "label asli negative\n",
      "lihat pak percaya tni pemerintahandilan memang nampol\n",
      "\n",
      "783\n",
      "negative\n",
      "label asli positive\n",
      "kayak pas ketawa bagi pak ngomong bukan salah bapak\n",
      "\n",
      "813\n",
      "positive\n",
      "label asli negative\n",
      "keren banget jawab pak soal tuduh\n",
      "\n",
      "853\n",
      "negative\n",
      "label asli positive\n",
      "pak tuduh khilafah pak jawab pak jae tuduh jawab aja pak prabowobentengnkri\n",
      "\n",
      "894\n",
      "positive\n",
      "label asli negative\n",
      "terus hina bangsa indonesia yg kata percaya dunia internasional\n",
      "\n",
      "898\n",
      "positive\n",
      "label asli negative\n",
      "lihat negara bagai alat maju kualitas masyrakat lihat negara bagai alat perang\n",
      "\n",
      "908\n",
      "positive\n",
      "label asli negative\n",
      "tidak hormat luar negeri utang banyak impor banyak bagaimana mau hormat\n",
      "\n",
      "910\n",
      "positive\n",
      "label asli negative\n",
      "presiden ajak keluarga makan siang rumah makan bilang jalan sabang jakarta pusat sayang dua putra hadir\n",
      "\n",
      "919\n",
      "positive\n",
      "label asli negative\n",
      "beda negara debat maaf keras tengah banyumas\n",
      "\n",
      "932\n",
      "positive\n",
      "label asli negative\n",
      "malam minggu duduk depan layar tv nonton debat empat capres semangat pak 01dilanjutkan\n",
      "\n",
      "938\n",
      "negative\n",
      "label asli positive\n",
      "tim ses 02 yg lapar haus kelak kau jabat ingat jd presoden bkn krn kau bkn krn kalian\n",
      "\n",
      "940\n",
      "negative\n",
      "label asli positive\n",
      "rip warkop tertawa tertawa larang layakdapatjempol https t co bd2es9jxwl\n",
      "\n",
      "945\n",
      "positive\n",
      "label asli negative\n",
      "cakep jendral makin kita hidup rukun tidak ajar benci mistericapjempol\n",
      "\n",
      "949\n",
      "negative\n",
      "label asli positive\n",
      "siapa marah den marah belakang lebih baik depan orang sekali baru lelaki\n",
      "\n",
      "950\n",
      "negative\n",
      "label asli positive\n",
      "memang betul pak ikut prihatin dgn sodara 2 iman di myanmar\n",
      "\n",
      "954\n",
      "positive\n",
      "label asli negative\n",
      "nama ngomong ngasal aja penting gaya dulu wkwkqk kasi babak bur hajar jendral\n",
      "\n",
      "958\n",
      "negative\n",
      "label asli positive\n",
      "alhmdlh keluarga puas saksi debat mlm hri insallah jdi presiden 2019-2024\n",
      "\n",
      "971\n",
      "negative\n",
      "label asli positive\n",
      "01 rubah gaya debat dlu suka mnyerang sekarang gk krn nyerang personal malah turun elektabilitas\n",
      "\n",
      "973\n",
      "negative\n",
      "label asli positive\n",
      "aura sumpah prajurit keluar bikin tukang dusta ciut nyali prabowomenangdebat\n",
      "\n",
      "976\n",
      "positive\n",
      "label asli negative\n",
      "komitmen nkri pancasila tak perlu ragu propaganda ubah sistem demokrasi dg sistem khilafah\n",
      "\n",
      "978\n",
      "negative\n",
      "label asli positive\n",
      "model pikir pak zon yang bikin indonesia ngga maju mental pesimis kok mau mimpin indonesia\n",
      "\n",
      "982\n",
      "positive\n",
      "label asli negative\n",
      "rasa posisi selalu posisi aman buat indonesia tak hormat asing\n",
      "\n",
      "984\n",
      "positive\n",
      "label asli negative\n",
      "02 pak yg hormat lebih baik daftar jadi tni biar paham percaya dgn kebranian\n",
      "\n",
      "993\n",
      "negative\n",
      "label asli positive\n",
      "tahan aman lemah uni bukan salah pak lantas salah siapa\n",
      "\n",
      "999\n",
      "positive\n",
      "label asli negative\n",
      "sumber foto jenderal goblok udah edit eh foto orang kamboja keren cici 2 kamboja dukung\n",
      "\n",
      "1000\n",
      "negative\n",
      "label asli positive\n",
      "pak mau indonesia hormat tp tahu cara capa tahu cara pidato\n",
      "\n"
     ]
    }
   ],
   "source": [
    "ixx = 0\n",
    "labelA = list()\n",
    "labelP= list()\n",
    "\n",
    "for i, j in zip(label, x):\n",
    "    if i !=j:\n",
    "        print(ixx)\n",
    "        print(j)\n",
    "        print(\"label asli\",i)\n",
    "        print(twet[ixx])\n",
    "        print()\n",
    "    ixx+=1"
   ]
  },
  {
   "cell_type": "code",
   "execution_count": null,
   "metadata": {},
   "outputs": [],
   "source": []
  }
 ],
 "metadata": {
  "kernelspec": {
   "display_name": "Python 3",
   "language": "python",
   "name": "python3"
  },
  "language_info": {
   "codemirror_mode": {
    "name": "ipython",
    "version": 3
   },
   "file_extension": ".py",
   "mimetype": "text/x-python",
   "name": "python",
   "nbconvert_exporter": "python",
   "pygments_lexer": "ipython3",
   "version": "3.7.3"
  }
 },
 "nbformat": 4,
 "nbformat_minor": 2
}
