{
 "cells": [
  {
   "cell_type": "code",
   "execution_count": 1,
   "metadata": {},
   "outputs": [],
   "source": [
    "import pandas as pd\n",
    "import joblib\n",
    "\n",
    "import os\n",
    "import sys\n",
    "alamat = \"/\".join(os.getcwd().split(\"\\\\\")[:-2])\n",
    "sys.path.append(alamat+'/praproses')\n",
    "from sklearn.metrics import accuracy_score"
   ]
  },
  {
   "cell_type": "code",
   "execution_count": 2,
   "metadata": {},
   "outputs": [
    {
     "data": {
      "text/html": [
       "<div>\n",
       "<style scoped>\n",
       "    .dataframe tbody tr th:only-of-type {\n",
       "        vertical-align: middle;\n",
       "    }\n",
       "\n",
       "    .dataframe tbody tr th {\n",
       "        vertical-align: top;\n",
       "    }\n",
       "\n",
       "    .dataframe thead th {\n",
       "        text-align: right;\n",
       "    }\n",
       "</style>\n",
       "<table border=\"1\" class=\"dataframe\">\n",
       "  <thead>\n",
       "    <tr style=\"text-align: right;\">\n",
       "      <th></th>\n",
       "      <th>Unnamed: 0</th>\n",
       "      <th>tweet</th>\n",
       "      <th>label</th>\n",
       "    </tr>\n",
       "  </thead>\n",
       "  <tbody>\n",
       "    <tr>\n",
       "      <td>0</td>\n",
       "      <td>0</td>\n",
       "      <td>buka visi misi begitu pukau sehingga buat pres...</td>\n",
       "      <td>positive</td>\n",
       "    </tr>\n",
       "    <tr>\n",
       "      <td>1</td>\n",
       "      <td>1</td>\n",
       "      <td>lebih baik pakai teknologi lama kaya negara in...</td>\n",
       "      <td>positive</td>\n",
       "    </tr>\n",
       "    <tr>\n",
       "      <td>2</td>\n",
       "      <td>2</td>\n",
       "      <td>kok arguing without menang kokarguing arguingw...</td>\n",
       "      <td>positive</td>\n",
       "    </tr>\n",
       "    <tr>\n",
       "      <td>3</td>\n",
       "      <td>3</td>\n",
       "      <td>jalan politik politik satu bukan politik pecah...</td>\n",
       "      <td>positive</td>\n",
       "    </tr>\n",
       "    <tr>\n",
       "      <td>4</td>\n",
       "      <td>4</td>\n",
       "      <td>juga fans lihat tampil serang hahaha jugafans ...</td>\n",
       "      <td>negative</td>\n",
       "    </tr>\n",
       "  </tbody>\n",
       "</table>\n",
       "</div>"
      ],
      "text/plain": [
       "   Unnamed: 0                                              tweet     label\n",
       "0           0  buka visi misi begitu pukau sehingga buat pres...  positive\n",
       "1           1  lebih baik pakai teknologi lama kaya negara in...  positive\n",
       "2           2  kok arguing without menang kokarguing arguingw...  positive\n",
       "3           3  jalan politik politik satu bukan politik pecah...  positive\n",
       "4           4  juga fans lihat tampil serang hahaha jugafans ...  negative"
      ]
     },
     "execution_count": 2,
     "metadata": {},
     "output_type": "execute_result"
    }
   ],
   "source": [
    "df = pd.read_excel(\"data/tweet_bersih_100.xlsx\") #data latih yang digunakan tweet_bersih_100.xlsx\n",
    "twet = df.tweet.tolist()\n",
    "label = df.label.tolist()\n",
    "df.head() #menampilkan lima teraatas dari data bersih"
   ]
  },
  {
   "cell_type": "code",
   "execution_count": 3,
   "metadata": {},
   "outputs": [
    {
     "name": "stdout",
     "output_type": "stream",
     "text": [
      "positive    719\n",
      "negative    681\n",
      "Name: label, dtype: int64\n"
     ]
    }
   ],
   "source": [
    "pd.value_counts(df['label']).plot.bar(title='Data Sentimen')\n",
    "print(pd.value_counts(df['label']))"
   ]
  },
  {
   "cell_type": "code",
   "execution_count": 4,
   "metadata": {},
   "outputs": [],
   "source": [
    "import numpy as np\n",
    "from sklearn.model_selection import KFold\n",
    "from Naive_Bayes_ import naive_bayes_ as nb\n",
    "X = np.array(twet)\n",
    "y = np.array(label)"
   ]
  },
  {
   "cell_type": "code",
   "execution_count": 5,
   "metadata": {
    "scrolled": true
   },
   "outputs": [
    {
     "name": "stdout",
     "output_type": "stream",
     "text": [
      "0.1..........0.7085714285714284\n",
      "0.2..........0.7064285714285713\n",
      "0.30000000000000004..........0.7078571428571427\n",
      "0.4..........0.7078571428571427\n",
      "0.5..........0.7057142857142856\n",
      "0.6..........0.7049999999999998\n",
      "0.7000000000000001..........0.7057142857142856\n",
      "0.8..........0.7064285714285713\n",
      "0.9..........0.7035714285714285\n",
      "1.0..........0.6992857142857142\n",
      "1.1..........0.6985714285714285\n",
      "1.2000000000000002..........0.6992857142857142\n",
      "1.3000000000000003..........0.7014285714285713\n",
      "1.4000000000000001..........0.7021428571428571\n",
      "1.5000000000000002..........0.7042857142857142\n",
      "1.6..........0.7035714285714285\n",
      "1.7000000000000002..........0.7028571428571427\n",
      "1.8000000000000003..........0.7035714285714285\n",
      "1.9000000000000001..........0.7035714285714285\n",
      "2.0..........0.7028571428571427\n",
      "2.1..........0.7049999999999998\n",
      "2.2..........0.7057142857142856\n",
      "2.3000000000000003..........0.7057142857142856\n",
      "2.4000000000000004..........0.7049999999999998\n",
      "2.5000000000000004..........0.7049999999999998\n",
      "2.6..........0.7057142857142856\n",
      "2.7..........0.7028571428571427\n",
      "2.8000000000000003..........0.7021428571428571\n",
      "2.9000000000000004..........0.7021428571428571\n",
      "3.0000000000000004..........0.7021428571428571\n",
      "3.1..........0.7014285714285713\n",
      "3.2..........0.6985714285714285\n",
      "3.3000000000000003..........0.6985714285714285\n",
      "3.4000000000000004..........0.6971428571428571\n",
      "3.5000000000000004..........0.6971428571428571\n",
      "3.6..........0.6957142857142856\n",
      "3.7..........0.6957142857142856\n",
      "3.8000000000000003..........0.6957142857142856\n",
      "3.9000000000000004..........0.6957142857142856\n",
      "4.0..........0.6964285714285714\n",
      "4.1..........0.6964285714285714\n",
      "4.2..........0.6964285714285714\n",
      "4.3..........0.6957142857142856\n",
      "4.3999999999999995..........0.695\n",
      "4.5..........0.6942857142857142\n",
      "4.6..........0.695\n",
      "4.7..........0.6942857142857142\n",
      "4.8..........0.6935714285714285\n",
      "4.9..........0.6928571428571428\n",
      "5.0..........0.6928571428571428\n",
      "5.1..........0.6921428571428571\n",
      "5.2..........0.6921428571428571\n",
      "5.3..........0.6921428571428571\n",
      "5.4..........0.6921428571428571\n",
      "5.5..........0.6921428571428571\n",
      "5.6..........0.6914285714285714\n",
      "5.7..........0.6914285714285714\n",
      "5.8..........0.69\n",
      "5.9..........0.69\n",
      "6.0..........0.69\n",
      "6.1..........0.69\n",
      "6.2..........0.6892857142857143\n",
      "6.3..........0.69\n",
      "6.4..........0.6892857142857143\n",
      "6.5..........0.6892857142857143\n",
      "6.6..........0.6892857142857143\n",
      "6.7..........0.69\n",
      "6.8..........0.6892857142857143\n",
      "6.9..........0.6885714285714285\n",
      "7.0..........0.6892857142857143\n",
      "7.1..........0.6878571428571428\n",
      "7.2..........0.687142857142857\n",
      "7.3..........0.687142857142857\n",
      "7.4..........0.6864285714285714\n",
      "7.5..........0.6857142857142857\n",
      "7.6..........0.6849999999999999\n",
      "7.7..........0.6849999999999999\n",
      "7.8..........0.6849999999999999\n",
      "7.9..........0.6849999999999999\n",
      "8.0..........0.6849999999999999\n",
      "8.1..........0.6849999999999999\n",
      "8.2..........0.6849999999999999\n",
      "8.3..........0.6849999999999999\n",
      "8.4..........0.6849999999999999\n",
      "8.5..........0.6849999999999999\n",
      "8.6..........0.6842857142857143\n",
      "8.7..........0.6835714285714285\n",
      "8.8..........0.6835714285714285\n",
      "8.9..........0.6835714285714285\n",
      "9.0..........0.6835714285714285\n",
      "9.1..........0.6835714285714285\n",
      "9.2..........0.6828571428571428\n",
      "9.3..........0.6828571428571428\n",
      "9.4..........0.6835714285714285\n",
      "9.5..........0.6842857142857143\n",
      "9.6..........0.6842857142857143\n",
      "9.700000000000001..........0.6842857142857143\n",
      "9.8..........0.6842857142857143\n",
      "9.9..........0.6835714285714285\n",
      "10.0..........0.6835714285714285\n"
     ]
    },
    {
     "data": {
      "text/html": [
       "<div>\n",
       "<style scoped>\n",
       "    .dataframe tbody tr th:only-of-type {\n",
       "        vertical-align: middle;\n",
       "    }\n",
       "\n",
       "    .dataframe tbody tr th {\n",
       "        vertical-align: top;\n",
       "    }\n",
       "\n",
       "    .dataframe thead th {\n",
       "        text-align: right;\n",
       "    }\n",
       "</style>\n",
       "<table border=\"1\" class=\"dataframe\">\n",
       "  <thead>\n",
       "    <tr style=\"text-align: right;\">\n",
       "      <th></th>\n",
       "      <th>alpha</th>\n",
       "      <th>score</th>\n",
       "    </tr>\n",
       "  </thead>\n",
       "  <tbody>\n",
       "    <tr>\n",
       "      <td>0</td>\n",
       "      <td>0.1</td>\n",
       "      <td>0.708571</td>\n",
       "    </tr>\n",
       "    <tr>\n",
       "      <td>2</td>\n",
       "      <td>0.3</td>\n",
       "      <td>0.707857</td>\n",
       "    </tr>\n",
       "    <tr>\n",
       "      <td>3</td>\n",
       "      <td>0.4</td>\n",
       "      <td>0.707857</td>\n",
       "    </tr>\n",
       "    <tr>\n",
       "      <td>7</td>\n",
       "      <td>0.8</td>\n",
       "      <td>0.706429</td>\n",
       "    </tr>\n",
       "    <tr>\n",
       "      <td>1</td>\n",
       "      <td>0.2</td>\n",
       "      <td>0.706429</td>\n",
       "    </tr>\n",
       "  </tbody>\n",
       "</table>\n",
       "</div>"
      ],
      "text/plain": [
       "   alpha     score\n",
       "0    0.1  0.708571\n",
       "2    0.3  0.707857\n",
       "3    0.4  0.707857\n",
       "7    0.8  0.706429\n",
       "1    0.2  0.706429"
      ]
     },
     "execution_count": 5,
     "metadata": {},
     "output_type": "execute_result"
    }
   ],
   "source": [
    "k = 10\n",
    "y = np.array(label)\n",
    "kf = KFold(n_splits=k) #membuat model kfold sejumlah k\n",
    "kf.get_n_splits(X)\n",
    "\n",
    "\n",
    "# print(kf)\n",
    "alpah_list = np.arange(0.1, 10+.1, .1)\n",
    "rerata = list()\n",
    "for alpha in alpah_list:\n",
    "    print(str(alpha), end= \"\")\n",
    "    clf = nb.NaiveBayesClassifier(alpha = alpha)\n",
    "    sc_10 = list()\n",
    "    for train_index, test_index in kf.split(X):\n",
    "        print(\".\", end=\"\")\n",
    "    #     print(\"TRAIN:\", train_index, \"TEST:\", test_index)\n",
    "        X_train, X_test = X[train_index], X[test_index]\n",
    "        y_train, y_test = y[train_index], y[test_index]\n",
    "        clf.train(X_train, y_train)\n",
    "\n",
    "        \n",
    "        y_pred = clf.predict(X_test)\n",
    "        y_true = y_test\n",
    "        \n",
    "        sc = accuracy_score(y_true, y_pred)\n",
    "        sc_10.append(sc)\n",
    "#     print( sum(sc_10)/k, \"|\", alpha)\n",
    "    rerata.append(sum(sc_10)/k)\n",
    "    print(sum(sc_10)/k)\n",
    "dict_ = {\n",
    "    \"alpha\":alpah_list,\n",
    "    \"score\":rerata\n",
    "}\n",
    "df_hasil = pd.DataFrame.from_dict(dict_)\n",
    "sorted_ = df_hasil.sort_values(\"score\", axis = 0, ascending = False)\n",
    "sorted_.head()"
   ]
  },
  {
   "cell_type": "code",
   "execution_count": 6,
   "metadata": {},
   "outputs": [
    {
     "data": {
      "text/plain": [
       "0.1"
      ]
     },
     "execution_count": 6,
     "metadata": {},
     "output_type": "execute_result"
    }
   ],
   "source": [
    "sorted_.alpha.tolist()[0]"
   ]
  },
  {
   "cell_type": "code",
   "execution_count": 7,
   "metadata": {},
   "outputs": [
    {
     "data": {
      "text/plain": [
       "['model/naive_bayes.m']"
      ]
     },
     "execution_count": 7,
     "metadata": {},
     "output_type": "execute_result"
    }
   ],
   "source": [
    "clf = nb.NaiveBayesClassifier(alpha = sorted_.alpha.tolist()[0])\n",
    "clf.train(X, y) \n",
    "joblib.dump(clf,\"model/naive_bayes.m\")"
   ]
  },
  {
   "cell_type": "code",
   "execution_count": null,
   "metadata": {},
   "outputs": [],
   "source": []
  },
  {
   "cell_type": "code",
   "execution_count": 8,
   "metadata": {},
   "outputs": [],
   "source": [
    "x = clf.predict(X)"
   ]
  },
  {
   "cell_type": "code",
   "execution_count": 9,
   "metadata": {},
   "outputs": [
    {
     "name": "stdout",
     "output_type": "stream",
     "text": [
      "438\n",
      "negative\n",
      "label asli positive\n",
      "apresiasi saudara di papua pakde jadi percuma kalian tebar bohong papua derita apresiasisaudara saudaradi dipapua papuapakde pakdejadi jadipercuma percumakalian kaliantebar tebarbohong bohongpapua papuaderita\n",
      "\n",
      "581\n",
      "negative\n",
      "label asli positive\n",
      "pak trauma pecat tni begini ngomongnya justru pak sipil percaya sama tni paktrauma traumapecat pecattni tnibegini beginingomongnya ngomongnyajustru justrupak paksipil sipilpercaya percayasama samatni\n",
      "\n",
      "716\n",
      "negative\n",
      "label asli positive\n",
      "rendah dukung tahana rupa bukti rupa bukti bila cara tak langsung sedang hukum publik rendahdukung dukungtahana tahanarupa rupabukti buktirupa rupabukti buktibila bilacara caratak taklangsung langsungsedang sedanghukum hukumpublik\n",
      "\n",
      "830\n",
      "positive\n",
      "label asli negative\n",
      "pak all keluar debat malam semua umpan lawan lahap habis bahkan jawab kerap jadi serang balik pakall allkeluar keluardebat debatmalam malamsemua semuaumpan umpanlawan lawanlahap lahaphabis habisbahkan bahkanjawab jawabkerap kerapjadi jadiserang serangbalik\n",
      "\n",
      "882\n",
      "positive\n",
      "label asli negative\n",
      "lama kawan lalu musuh lama tetangga lalu tak saling bicara semua karena beda pilih lamakawan kawanlalu lalumusuh musuhlama lamatetangga tetanggalalu lalutak taksaling salingbicara bicarasemua semuakarena karenabeda bedapilih\n",
      "\n",
      "888\n",
      "positive\n",
      "label asli negative\n",
      "rantai sahabat pak pak akan putus debatpilpres 2019 dengerin tuh tkn-bpn cebong kampret rantaisahabat sahabatpak pakpak pakakan akanputus putusdebatpilpres debatpilpres2019 2019dengerin dengerintuh tuhtkn-bpn tkn-bpncebong cebongkampret\n",
      "\n",
      "893\n",
      "positive\n",
      "label asli negative\n",
      "jangan pilih pimpin bohong ingkar janji provokasi rakyat kacang lupa kulit pilih pimpin jujur janganpilih pilihpimpin pimpinbohong bohongingkar ingkarjanji janjiprovokasi provokasirakyat rakyatkacang kacanglupa lupakulit kulitpilih pilihpimpin pimpinjujur\n",
      "\n",
      "1046\n",
      "negative\n",
      "label asli positive\n",
      "hapus\n",
      "\n",
      "1070\n",
      "positive\n",
      "label asli negative\n",
      "tuju\n",
      "\n",
      "1171\n",
      "positive\n",
      "label asli negative\n",
      "ajar masih bias filosofi kemdikbud era jilid empat pilar usbn un rpp zonasi letak cetus bagai merdeka ajar pilar berapa usbn konsep kti un laku di kelas xi zonasi ppdb merdekabelajar ajarmasih masihbias biasfilosofi filosofikemdikbud kemdikbudera erajilid jilidempat empatpilar pilarusbn usbnun unrpp rppzonasi zonasiletak letakcetus cetusbagai bagaimerdeka merdekaajar ajarpilar pilarberapa berapausbn usbnkonsep konsepkti ktiun unlaku lakudi dikelas kelasxi xizonasi zonasippdb ppdbmerdekabelajar\n",
      "\n",
      "1343\n",
      "positive\n",
      "label asli negative\n",
      "sebut liput uji sekolah standar nasional usbn uji nasional un rencana laksana ajar rpp atur terima didik baru ppdb zonasi hukumperusuhnegeri sebutliput liputuji ujisekolah sekolahstandar standarnasional nasionalusbn usbnuji ujinasional nasionalun unrencana rencanalaksana laksanaajar ajarrpp rppatur aturterima terimadidik didikbaru baruppdb ppdbzonasi zonasihukumperusuhnegeri\n",
      "\n",
      "1354\n",
      "positive\n",
      "label asli negative\n",
      "nan\n",
      "\n"
     ]
    }
   ],
   "source": [
    "ixx = 0\n",
    "labelA = list()\n",
    "labelP= list()\n",
    "\n",
    "for i, j in zip(label, x):\n",
    "    if i !=j:\n",
    "        print(ixx)\n",
    "        print(j)\n",
    "        print(\"label asli\",i)\n",
    "        print(twet[ixx])\n",
    "        print()\n",
    "    ixx+=1"
   ]
  },
  {
   "cell_type": "code",
   "execution_count": null,
   "metadata": {},
   "outputs": [],
   "source": []
  }
 ],
 "metadata": {
  "kernelspec": {
   "display_name": "Python 3",
   "language": "python",
   "name": "python3"
  },
  "language_info": {
   "codemirror_mode": {
    "name": "ipython",
    "version": 3
   },
   "file_extension": ".py",
   "mimetype": "text/x-python",
   "name": "python",
   "nbconvert_exporter": "python",
   "pygments_lexer": "ipython3",
   "version": "3.7.4"
  }
 },
 "nbformat": 4,
 "nbformat_minor": 2
}
