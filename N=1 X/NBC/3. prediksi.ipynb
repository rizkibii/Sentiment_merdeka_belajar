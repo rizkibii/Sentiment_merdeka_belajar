{
 "cells": [
  {
   "cell_type": "code",
   "execution_count": 1,
   "metadata": {},
   "outputs": [],
   "source": [
    "import joblib\n",
    "import sys\n",
    "import os\n",
    "alamat = \"/\".join(os.getcwd().split(\"\\\\\")[:-2])\n",
    "sys.path.append(alamat+'/praproses')\n",
    "import ngrams as ng\n",
    "from normalisasi import normalisasi as nrm\n",
    "import token as tkn\n",
    "import stemming as stm\n",
    "import cleansing\n",
    "import stemming\n",
    "import seleksi_kata as sk\n",
    "import pandas as pd\n",
    "import isDigit as isd"
   ]
  },
  {
   "cell_type": "code",
   "execution_count": 2,
   "metadata": {},
   "outputs": [],
   "source": [
    "# tdidf = joblib.load(\"model/tdidf.w\")\n",
    "naive_bayes = joblib.load(\"model/naive_bayes.m\")"
   ]
  },
  {
   "cell_type": "code",
   "execution_count": 3,
   "metadata": {},
   "outputs": [],
   "source": [
    "def praproses(twt, n=1):\n",
    "    twt = sk.seleksi(twt)\n",
    "    twt = cleansing.cleaning(twt)\n",
    "    twt = isd.remove_digit(twt)\n",
    "    twt = nrm.slangword(twt)\n",
    "    twt = stm.stemming(twt)\n",
    "    twt = stm.StopWordRemover(twt)\n",
    "    twt = ng.ngramku(twt, n=n)['string']\n",
    "    return twt"
   ]
  },
  {
   "cell_type": "code",
   "execution_count": 4,
   "metadata": {},
   "outputs": [
    {
     "data": {
      "text/plain": [
       "'tuju banget'"
      ]
     },
     "execution_count": 4,
     "metadata": {},
     "output_type": "execute_result"
    }
   ],
   "source": [
    "praproses(\"RT @hpsetyawan: @afiadi @Gerindra @prabowo setuju bgt\", n=1)"
   ]
  },
  {
   "cell_type": "code",
   "execution_count": 5,
   "metadata": {},
   "outputs": [
    {
     "data": {
      "text/plain": [
       "'positive'"
      ]
     },
     "execution_count": 5,
     "metadata": {},
     "output_type": "execute_result"
    }
   ],
   "source": [
    "kalimat = \"RT @hpsetyawan: @afiadi @Gerindra @prabowo setuju bgt\"\n",
    "# print(praproses(kalimat))\n",
    "naive_bayes.predict([praproses(kalimat)])[0]\n",
    "#memprediksi kalimat di preproses, kemudian di transform menjadi vector,diprediksi menggunakan NB"
   ]
  },
  {
   "cell_type": "markdown",
   "metadata": {},
   "source": [
    "# Prediksi data uji [MerdekaBelajar]"
   ]
  },
  {
   "cell_type": "code",
   "execution_count": 6,
   "metadata": {},
   "outputs": [
    {
     "name": "stdout",
     "output_type": "stream",
     "text": [
      "              precision    recall  f1-score   support\n",
      "\n",
      "    negative       0.93      0.91      0.92       181\n",
      "    positive       0.93      0.95      0.94       219\n",
      "\n",
      "    accuracy                           0.93       400\n",
      "   macro avg       0.93      0.93      0.93       400\n",
      "weighted avg       0.93      0.93      0.93       400\n",
      "\n"
     ]
    }
   ],
   "source": [
    "df = pd.read_excel(\"../../data_uji/PPDB ZONASI.xlsx\")\n",
    "twet_uji = df.Twit.tolist()\n",
    "label_asli = df.label.tolist()\n",
    "twet_uji_bersih = list()\n",
    "\n",
    "for ix, t in enumerate(twet_uji):\n",
    "    twet_uji_bersih.append(praproses(t))\n",
    "#     print(ix)\n",
    "prediksi = naive_bayes.predict(twet_uji_bersih)\n",
    "\n",
    "from sklearn.metrics import classification_report\n",
    "y_true = label_asli\n",
    "y_pred = prediksi\n",
    "target_names = ['negative', 'positive',]\n",
    "print(classification_report(y_true, y_pred, target_names=target_names))"
   ]
  },
  {
   "cell_type": "code",
   "execution_count": 7,
   "metadata": {
    "scrolled": true
   },
   "outputs": [
    {
     "name": "stdout",
     "output_type": "stream",
     "text": [
      "10\n",
      "Prediksi: negative\n",
      "asli    : positive\n",
      "     Setuju banget\n",
      "====================================================================================================\n",
      "16\n",
      "Prediksi: negative\n",
      "asli    : positive\n",
      "     Isi pelajarannya dikurangi pak. UN masih gpp.\n",
      "====================================================================================================\n",
      "22\n",
      "Prediksi: negative\n",
      "asli    : positive\n",
      "     Nadiem lanjutkan\n",
      "====================================================================================================\n",
      "24\n",
      "Prediksi: negative\n",
      "asli    : positive\n",
      "     Setuju Nadiem\n",
      "====================================================================================================\n",
      "29\n",
      "Prediksi: negative\n",
      "asli    : positive\n",
      "     Dukung pak mendikbud, UN bkn satu2nya tolak ukur\n",
      "====================================================================================================\n",
      "46\n",
      "Prediksi: negative\n",
      "asli    : positive\n",
      "     Setuju UN dihapus\n",
      "====================================================================================================\n",
      "47\n",
      "Prediksi: negative\n",
      "asli    : positive\n",
      "     Mereka masuk didunia kerja menggunakan skill/keterampilan dalam bidangnya masing- masing bukan dengan angka yang ada di lembar kertas\n",
      "====================================================================================================\n",
      "49\n",
      "Prediksi: negative\n",
      "asli    : positive\n",
      "     mending UN dihapus saja, unfaedah!\n",
      "====================================================================================================\n",
      "51\n",
      "Prediksi: negative\n",
      "asli    : positive\n",
      "     Jujur aja sih, blm ada org sukses sampe sekarang, yg dulu nya enggak pernah ikut ujian , even bill gates ttp ujian pas masuk kuliah meskipun akhirnya enggak kelar\n",
      "====================================================================================================\n",
      "58\n",
      "Prediksi: negative\n",
      "asli    : positive\n",
      "     Penghapusan UN malah bikin para siswa/i hemat uang Pak agar tidak pt pt beli kunci\n",
      "====================================================================================================\n",
      "61\n",
      "Prediksi: positive\n",
      "asli    : negative\n",
      "     Saya tidak setuju jika UN di hapuskan.\n",
      "====================================================================================================\n",
      "70\n",
      "Prediksi: positive\n",
      "asli    : negative\n",
      "     Sangat gak setuju\n",
      "====================================================================================================\n",
      "166\n",
      "Prediksi: positive\n",
      "asli    : negative\n",
      "     KPAI Kritik Pengurangan Kuota Jalur Zonasi PPDB http://bit.ly/2PGK85i\n",
      "====================================================================================================\n",
      "171\n",
      "Prediksi: positive\n",
      "asli    : negative\n",
      "     \"Merdeka Belajar\" saya masih bias dari filosofi Kemdikbud era Jokowi jilid 2. Ada empat pilar; USBN, UN, RPP, dan Zonasi. Letak yang dicetus sebagai Merdeka Belajar ada di pilar keberapa? USBN konsepnya KTI, UN dilakukan di kelas XI, dan Zonasi PPDB. #merdekabelajar\n",
      "====================================================================================================\n",
      "242\n",
      "Prediksi: negative\n",
      "asli    : positive\n",
      "     Suueenneeeenggg aku klo kayak gini...\n",
      "Makin banyak wktu dg keluarga\n",
      "====================================================================================================\n",
      "278\n",
      "Prediksi: positive\n",
      "asli    : negative\n",
      "     Pemerataan pendidikan aja dulu di seluruh indonesia. Dari fasilitas dan kualitas di daerah2 aja dulu pak dibenahi dan buat guru2 honorer yg udah mengabdi lbh dari 10th tlng diperhatikan kesejahteraannya.\n",
      "====================================================================================================\n",
      "280\n",
      "Prediksi: positive\n",
      "asli    : negative\n",
      "     Apa iya 3 esensi RPP tujuan, kegiatan pembelajaran, assesmen bisa 1 lembar\n",
      "====================================================================================================\n",
      "282\n",
      "Prediksi: positive\n",
      "asli    : negative\n",
      "     jika satu rpp untuk satu pertemuan mungkin bisa satu halaman, tapi jika lebih mungkin tidak dan tetap jika rpp 3 komponen belum holistik dan kaffah.\n",
      "====================================================================================================\n",
      "284\n",
      "Prediksi: positive\n",
      "asli    : negative\n",
      "     kegiatan administrasi itu selain fungsi merencanakan secara tertulis juga mengorganisasi, melaksanakan dan mengevaluasi. Mendidik mengajar ...itu sebuah kegiatan yg memerlukan administrasi.\n",
      "====================================================================================================\n",
      "299\n",
      "Prediksi: positive\n",
      "asli    : negative\n",
      "     Kita tunggu juknis dan contoh kongkritnya mas Nadiem\n",
      "====================================================================================================\n",
      "310\n",
      "Prediksi: negative\n",
      "asli    : positive\n",
      "     Alhamdulillah, tapi pasti ada pengganti nya\n",
      "====================================================================================================\n",
      "343\n",
      "Prediksi: positive\n",
      "asli    : negative\n",
      "     \"Program tersebut meliputi Ujian Sekolah Berstandar Nasional (USBN), Ujian Nasional ( UN), Rencana Pelaksanaan Pembelajaran (RPP), dan Peraturan Penerimaan Peserta Didik Baru (PPDB) Zonasi,\"\n",
      "\n",
      " #HukumPerusuhNegeri\n",
      "====================================================================================================\n",
      "360\n",
      "Prediksi: positive\n",
      "asli    : negative\n",
      "     Artinya pada tahun 2020 nanti soal-soal yg diujikan di USBN diserahkan/bisa dibuat oleh sekolah masing-masing?\n",
      "====================================================================================================\n",
      "363\n",
      "Prediksi: positive\n",
      "asli    : negative\n",
      "     Bukannya sama aja ya...UN maupun USBN?\n",
      "====================================================================================================\n",
      "365\n",
      "Prediksi: positive\n",
      "asli    : negative\n",
      "     Ujian hanya instrument alat ukur hasil belajar, bukan elemen pembangun kualitas intelegensi bung @Kemdikbud_RI.\n",
      "Mana Materi Kurikulum Program Pembinaan Moral?\n",
      "Haadeehh..\n",
      "Mas @jokowi Eyang @trahkartasura Bro @relawanperak2 Jeng @msoekarnoputri gimana nih?\n",
      "https://edukasi.kompas.com/read/2019/12/11/14433351/ini-konsep-baru-un-dan-usbn-versi-merdeka-belajar-mendikbud-makarim …\n",
      "====================================================================================================\n",
      "372\n",
      "Prediksi: positive\n",
      "asli    : negative\n",
      "     Smoga bukan sekedar wacana saja\n",
      "====================================================================================================\n",
      "385\n",
      "Prediksi: positive\n",
      "asli    : negative\n",
      "     Terus gimana ya cara penilaian survei karakter...apakah penilaiannya bisa objektif? UN yang sekarang kan tidak menentukan kelulusan...sebenarnya sudah tidak membebani...ya semoga saja UN di ganti dengan Asasmen kompetensi...tidak menurunkan semangat belajar siswa...karena tidak ada UN jadi tidak belajar...\n",
      "====================================================================================================\n",
      "388\n",
      "Prediksi: positive\n",
      "asli    : negative\n",
      "     Smoga bukan sekedar wacana saja\n",
      "====================================================================================================\n"
     ]
    }
   ],
   "source": [
    "ix = 0\n",
    "for twet, asli, pred in zip(twet_uji, label_asli,prediksi):\n",
    "    if pred!= asli:\n",
    "        print(ix)\n",
    "        print(\"Prediksi:\",pred)\n",
    "        print(\"asli    :\",asli)\n",
    "        print(\"    \",twet)\n",
    "        print(\"=\"*100)\n",
    "    ix+=1"
   ]
  },
  {
   "cell_type": "code",
   "execution_count": null,
   "metadata": {},
   "outputs": [],
   "source": []
  },
  {
   "cell_type": "code",
   "execution_count": null,
   "metadata": {},
   "outputs": [],
   "source": []
  }
 ],
 "metadata": {
  "kernelspec": {
   "display_name": "Python 3",
   "language": "python",
   "name": "python3"
  },
  "language_info": {
   "codemirror_mode": {
    "name": "ipython",
    "version": 3
   },
   "file_extension": ".py",
   "mimetype": "text/x-python",
   "name": "python",
   "nbconvert_exporter": "python",
   "pygments_lexer": "ipython3",
   "version": "3.7.4"
  }
 },
 "nbformat": 4,
 "nbformat_minor": 2
}
