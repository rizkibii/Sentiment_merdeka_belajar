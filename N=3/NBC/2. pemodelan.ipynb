{
 "cells": [
  {
   "cell_type": "code",
   "execution_count": 10,
   "metadata": {},
   "outputs": [],
   "source": [
    "import pandas as pd\n",
    "import joblib\n",
    "\n",
    "import os\n",
    "import sys\n",
    "alamat = \"/\".join(os.getcwd().split(\"\\\\\")[:-2])\n",
    "sys.path.append(alamat+'/praproses')\n",
    "from sklearn.metrics import accuracy_score"
   ]
  },
  {
   "cell_type": "code",
   "execution_count": 11,
   "metadata": {},
   "outputs": [
    {
     "data": {
      "text/html": [
       "<div>\n",
       "<style scoped>\n",
       "    .dataframe tbody tr th:only-of-type {\n",
       "        vertical-align: middle;\n",
       "    }\n",
       "\n",
       "    .dataframe tbody tr th {\n",
       "        vertical-align: top;\n",
       "    }\n",
       "\n",
       "    .dataframe thead th {\n",
       "        text-align: right;\n",
       "    }\n",
       "</style>\n",
       "<table border=\"1\" class=\"dataframe\">\n",
       "  <thead>\n",
       "    <tr style=\"text-align: right;\">\n",
       "      <th></th>\n",
       "      <th>Unnamed: 0</th>\n",
       "      <th>tweet</th>\n",
       "      <th>label</th>\n",
       "    </tr>\n",
       "  </thead>\n",
       "  <tbody>\n",
       "    <tr>\n",
       "      <td>0</td>\n",
       "      <td>0</td>\n",
       "      <td>buka visi misi begitu pukau sehingga buat pres...</td>\n",
       "      <td>positive</td>\n",
       "    </tr>\n",
       "    <tr>\n",
       "      <td>1</td>\n",
       "      <td>1</td>\n",
       "      <td>lebih baik pakai teknologi lama kaya negara in...</td>\n",
       "      <td>positive</td>\n",
       "    </tr>\n",
       "    <tr>\n",
       "      <td>2</td>\n",
       "      <td>2</td>\n",
       "      <td>kok arguing without menang kokarguing arguingw...</td>\n",
       "      <td>positive</td>\n",
       "    </tr>\n",
       "    <tr>\n",
       "      <td>3</td>\n",
       "      <td>3</td>\n",
       "      <td>jalan politik politik satu bukan politik pecah...</td>\n",
       "      <td>positive</td>\n",
       "    </tr>\n",
       "    <tr>\n",
       "      <td>4</td>\n",
       "      <td>4</td>\n",
       "      <td>juga fans lihat tampil serang hahaha jugafans ...</td>\n",
       "      <td>negative</td>\n",
       "    </tr>\n",
       "  </tbody>\n",
       "</table>\n",
       "</div>"
      ],
      "text/plain": [
       "   Unnamed: 0                                              tweet     label\n",
       "0           0  buka visi misi begitu pukau sehingga buat pres...  positive\n",
       "1           1  lebih baik pakai teknologi lama kaya negara in...  positive\n",
       "2           2  kok arguing without menang kokarguing arguingw...  positive\n",
       "3           3  jalan politik politik satu bukan politik pecah...  positive\n",
       "4           4  juga fans lihat tampil serang hahaha jugafans ...  negative"
      ]
     },
     "execution_count": 11,
     "metadata": {},
     "output_type": "execute_result"
    }
   ],
   "source": [
    "df = pd.read_excel(\"data/tweet_bersih_100.xlsx\") #data latih yang digunakan tweet_bersih_100.xlsx\n",
    "twet = df.tweet.tolist()\n",
    "label = df.label.tolist()\n",
    "df.head() #menampilkan lima teraatas dari data bersih"
   ]
  },
  {
   "cell_type": "code",
   "execution_count": 12,
   "metadata": {},
   "outputs": [
    {
     "name": "stdout",
     "output_type": "stream",
     "text": [
      "negative    500\n",
      "positive    500\n",
      "Name: label, dtype: int64\n"
     ]
    },
    {
     "data": {
      "image/png": "[encoded data removed]",
      "text/plain": [
       "<Figure size 432x288 with 1 Axes>"
      ]
     },
     "metadata": {
      "needs_background": "light"
     },
     "output_type": "display_data"
    }
   ],
   "source": [
    "pd.value_counts(df['label']).plot.bar(title='Data Sentimen')\n",
    "print(pd.value_counts(df['label']))"
   ]
  },
  {
   "cell_type": "code",
   "execution_count": 13,
   "metadata": {},
   "outputs": [],
   "source": [
    "import numpy as np\n",
    "from sklearn.model_selection import KFold\n",
    "from Naive_Bayes_ import naive_bayes_ as nb\n",
    "X = np.array(twet)\n",
    "y = np.array(label)"
   ]
  },
  {
   "cell_type": "code",
   "execution_count": null,
   "metadata": {
    "scrolled": true
   },
   "outputs": [
    {
     "name": "stdout",
     "output_type": "stream",
     "text": [
      "0.1..........0.768\n",
      "0.2..........0.7690000000000001\n",
      "0.30000000000000004..........0.7729999999999999\n",
      "0.4..........0.778\n",
      "0.5..........0.776\n",
      "0.6..........0.7739999999999999\n",
      "0.7000000000000001..........0.7739999999999999\n",
      "0.8..........0.7749999999999999\n",
      "0.9..........0.776\n",
      "1.0..........0.776\n",
      "1.1..........0.775\n",
      "1.2000000000000002..........0.774\n",
      "1.3000000000000003..........0.772\n",
      "1.4000000000000001..........0.7710000000000001\n",
      "1.5000000000000002..........0.768\n",
      "1.6..........0.767\n",
      "1.7000000000000002..........0.768\n",
      "1.8000000000000003..........0.768\n",
      "1.9000000000000001..........0.7670000000000001\n",
      "2.0..........0.7659999999999999\n",
      "2.1..........0.7649999999999999\n",
      "2.2..........0.7649999999999999\n",
      "2.3000000000000003..........0.7619999999999999\n",
      "2.4000000000000004..........0.7609999999999999\n",
      "2.5000000000000004..........0.7609999999999999\n",
      "2.6..........0.759\n",
      "2.7..........0.759\n",
      "2.8000000000000003..........0.759\n",
      "2.9000000000000004..........0.759\n",
      "3.0000000000000004..........0.759\n",
      "3.1..........0.7579999999999998\n",
      "3.2..........0.758\n",
      "3.3000000000000003..........0.758\n",
      "3.4000000000000004..........0.758\n",
      "3.5000000000000004..........0.7569999999999999\n",
      "3.6..........0.7569999999999999\n",
      "3.7..........0.756\n",
      "3.8000000000000003..........0.7549999999999999\n",
      "3.9000000000000004..........0.7539999999999999\n",
      "4.0...."
     ]
    }
   ],
   "source": [
    "k = 10\n",
    "y = np.array(label)\n",
    "kf = KFold(n_splits=k) #membuat model kfold sejumlah k\n",
    "kf.get_n_splits(X)\n",
    "\n",
    "\n",
    "# print(kf)\n",
    "alpah_list = np.arange(0.1, 10+.1, .1)\n",
    "rerata = list()\n",
    "for alpha in alpah_list:\n",
    "    print(str(alpha), end= \"\")\n",
    "    clf = nb.NaiveBayesClassifier(alpha = alpha)\n",
    "    sc_10 = list()\n",
    "    for train_index, test_index in kf.split(X):\n",
    "        print(\".\", end=\"\")\n",
    "    #     print(\"TRAIN:\", train_index, \"TEST:\", test_index)\n",
    "        X_train, X_test = X[train_index], X[test_index]\n",
    "        y_train, y_test = y[train_index], y[test_index]\n",
    "        clf.train(X_train, y_train)\n",
    "\n",
    "        \n",
    "        y_pred = clf.predict(X_test)\n",
    "        y_true = y_test\n",
    "        \n",
    "        sc = accuracy_score(y_true, y_pred)\n",
    "        sc_10.append(sc)\n",
    "#     print( sum(sc_10)/k, \"|\", alpha)\n",
    "    rerata.append(sum(sc_10)/k)\n",
    "    print(sum(sc_10)/k)\n",
    "dict_ = {\n",
    "    \"alpha\":alpah_list,\n",
    "    \"score\":rerata\n",
    "}\n",
    "df_hasil = pd.DataFrame.from_dict(dict_)\n",
    "sorted_ = df_hasil.sort_values(\"score\", axis = 0, ascending = False)\n",
    "sorted_.head()"
   ]
  },
  {
   "cell_type": "code",
   "execution_count": null,
   "metadata": {},
   "outputs": [],
   "source": [
    "sorted_.alpha.tolist()[0]"
   ]
  },
  {
   "cell_type": "code",
   "execution_count": null,
   "metadata": {},
   "outputs": [],
   "source": [
    "clf = nb.NaiveBayesClassifier(alpha = sorted_.alpha.tolist()[0])\n",
    "clf.train(X, y) \n",
    "joblib.dump(clf,\"model/naive_bayes.m\")"
   ]
  },
  {
   "cell_type": "code",
   "execution_count": null,
   "metadata": {},
   "outputs": [],
   "source": []
  },
  {
   "cell_type": "code",
   "execution_count": null,
   "metadata": {},
   "outputs": [],
   "source": [
    "x = clf.predict(X)"
   ]
  },
  {
   "cell_type": "code",
   "execution_count": null,
   "metadata": {},
   "outputs": [],
   "source": [
    "ixx = 0\n",
    "labelA = list()\n",
    "labelP= list()\n",
    "\n",
    "for i, j in zip(label, x):\n",
    "    if i !=j:\n",
    "        print(ixx)\n",
    "        print(j)\n",
    "        print(\"label asli\",i)\n",
    "        print(twet[ixx])\n",
    "        print()\n",
    "    ixx+=1"
   ]
  },
  {
   "cell_type": "code",
   "execution_count": null,
   "metadata": {},
   "outputs": [],
   "source": []
  },
  {
   "cell_type": "code",
   "execution_count": null,
   "metadata": {},
   "outputs": [],
   "source": []
  }
 ],
 "metadata": {
  "kernelspec": {
   "display_name": "Python 3",
   "language": "python",
   "name": "python3"
  },
  "language_info": {
   "codemirror_mode": {
    "name": "ipython",
    "version": 3
   },
   "file_extension": ".py",
   "mimetype": "text/x-python",
   "name": "python",
   "nbconvert_exporter": "python",
   "pygments_lexer": "ipython3",
   "version": "3.7.4"
  }
 },
 "nbformat": 4,
 "nbformat_minor": 2
}
