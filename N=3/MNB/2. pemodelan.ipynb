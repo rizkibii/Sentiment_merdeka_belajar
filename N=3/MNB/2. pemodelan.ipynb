{
 "cells": [
  {
   "cell_type": "code",
   "execution_count": 1,
   "metadata": {},
   "outputs": [],
   "source": [
    "import pandas as pd\n",
    "import joblib"
   ]
  },
  {
   "cell_type": "code",
   "execution_count": 2,
   "metadata": {},
   "outputs": [
    {
     "data": {
      "text/html": [
       "<div>\n",
       "<style scoped>\n",
       "    .dataframe tbody tr th:only-of-type {\n",
       "        vertical-align: middle;\n",
       "    }\n",
       "\n",
       "    .dataframe tbody tr th {\n",
       "        vertical-align: top;\n",
       "    }\n",
       "\n",
       "    .dataframe thead th {\n",
       "        text-align: right;\n",
       "    }\n",
       "</style>\n",
       "<table border=\"1\" class=\"dataframe\">\n",
       "  <thead>\n",
       "    <tr style=\"text-align: right;\">\n",
       "      <th></th>\n",
       "      <th>Unnamed: 0</th>\n",
       "      <th>tweet</th>\n",
       "      <th>label</th>\n",
       "    </tr>\n",
       "  </thead>\n",
       "  <tbody>\n",
       "    <tr>\n",
       "      <td>0</td>\n",
       "      <td>0</td>\n",
       "      <td>buka visi misi begitu pukau sehingga buat pres...</td>\n",
       "      <td>positive</td>\n",
       "    </tr>\n",
       "    <tr>\n",
       "      <td>1</td>\n",
       "      <td>1</td>\n",
       "      <td>lebih baik pakai teknologi lama kaya negara in...</td>\n",
       "      <td>positive</td>\n",
       "    </tr>\n",
       "    <tr>\n",
       "      <td>2</td>\n",
       "      <td>2</td>\n",
       "      <td>kok arguing without menang</td>\n",
       "      <td>positive</td>\n",
       "    </tr>\n",
       "    <tr>\n",
       "      <td>3</td>\n",
       "      <td>3</td>\n",
       "      <td>jalan politik politik satu bukan politik pecah...</td>\n",
       "      <td>positive</td>\n",
       "    </tr>\n",
       "    <tr>\n",
       "      <td>4</td>\n",
       "      <td>4</td>\n",
       "      <td>juga fans lihat tampil serang hahaha</td>\n",
       "      <td>negative</td>\n",
       "    </tr>\n",
       "  </tbody>\n",
       "</table>\n",
       "</div>"
      ],
      "text/plain": [
       "   Unnamed: 0                                              tweet     label\n",
       "0           0  buka visi misi begitu pukau sehingga buat pres...  positive\n",
       "1           1  lebih baik pakai teknologi lama kaya negara in...  positive\n",
       "2           2                         kok arguing without menang  positive\n",
       "3           3  jalan politik politik satu bukan politik pecah...  positive\n",
       "4           4               juga fans lihat tampil serang hahaha  negative"
      ]
     },
     "execution_count": 2,
     "metadata": {},
     "output_type": "execute_result"
    }
   ],
   "source": [
    "df = pd.read_excel(\"data/tweet_bersih_100.xlsx\") #data latih yang digunakan tweet_bersih_100.xlsx\n",
    "twet = df.tweet.tolist()\n",
    "label = df.label.tolist()\n",
    "df.head() #menampilkan lima teraatas dari data bersih"
   ]
  },
  {
   "cell_type": "code",
   "execution_count": 4,
   "metadata": {},
   "outputs": [
    {
     "name": "stdout",
     "output_type": "stream",
     "text": [
      "positive    500\n",
      "negative    500\n",
      "Name: label, dtype: int64\n"
     ]
    },
    {
     "data": {
      "image/png": "[encoded data removed]",
      "text/plain": [
       "<Figure size 432x288 with 1 Axes>"
      ]
     },
     "metadata": {
      "needs_background": "light"
     },
     "output_type": "display_data"
    }
   ],
   "source": [
    "pd.value_counts(df['label']).plot.bar(title='Data Sentimen')\n",
    "print(pd.value_counts(df['label']))"
   ]
  },
  {
   "cell_type": "code",
   "execution_count": 5,
   "metadata": {},
   "outputs": [],
   "source": [
    "import numpy as np\n",
    "from sklearn.model_selection import KFold\n",
    "from sklearn.naive_bayes import MultinomialNB"
   ]
  },
  {
   "cell_type": "code",
   "execution_count": 7,
   "metadata": {},
   "outputs": [
    {
     "data": {
      "text/plain": [
       "2376"
      ]
     },
     "execution_count": 7,
     "metadata": {},
     "output_type": "execute_result"
    }
   ],
   "source": [
    "from sklearn.feature_extraction.text import TfidfVectorizer\n",
    "corpus = twet\n",
    "vectorizer = TfidfVectorizer()\n",
    "save = vectorizer.fit(corpus)\n",
    "joblib.dump(save,\"model/tdidf.w\")\n",
    "X = vectorizer.fit_transform(corpus)\n",
    "len(vectorizer.get_feature_names())#jumlah line fitur"
   ]
  },
  {
   "cell_type": "code",
   "execution_count": 8,
   "metadata": {},
   "outputs": [
    {
     "data": {
      "text/html": [
       "<div>\n",
       "<style scoped>\n",
       "    .dataframe tbody tr th:only-of-type {\n",
       "        vertical-align: middle;\n",
       "    }\n",
       "\n",
       "    .dataframe tbody tr th {\n",
       "        vertical-align: top;\n",
       "    }\n",
       "\n",
       "    .dataframe thead th {\n",
       "        text-align: right;\n",
       "    }\n",
       "</style>\n",
       "<table border=\"1\" class=\"dataframe\">\n",
       "  <thead>\n",
       "    <tr style=\"text-align: right;\">\n",
       "      <th></th>\n",
       "      <th>alpha</th>\n",
       "      <th>score</th>\n",
       "    </tr>\n",
       "  </thead>\n",
       "  <tbody>\n",
       "    <tr>\n",
       "      <td>49</td>\n",
       "      <td>0.149</td>\n",
       "      <td>0.774</td>\n",
       "    </tr>\n",
       "    <tr>\n",
       "      <td>48</td>\n",
       "      <td>0.148</td>\n",
       "      <td>0.774</td>\n",
       "    </tr>\n",
       "    <tr>\n",
       "      <td>42</td>\n",
       "      <td>0.142</td>\n",
       "      <td>0.773</td>\n",
       "    </tr>\n",
       "    <tr>\n",
       "      <td>45</td>\n",
       "      <td>0.145</td>\n",
       "      <td>0.773</td>\n",
       "    </tr>\n",
       "    <tr>\n",
       "      <td>50</td>\n",
       "      <td>0.150</td>\n",
       "      <td>0.773</td>\n",
       "    </tr>\n",
       "  </tbody>\n",
       "</table>\n",
       "</div>"
      ],
      "text/plain": [
       "    alpha  score\n",
       "49  0.149  0.774\n",
       "48  0.148  0.774\n",
       "42  0.142  0.773\n",
       "45  0.145  0.773\n",
       "50  0.150  0.773"
      ]
     },
     "execution_count": 8,
     "metadata": {},
     "output_type": "execute_result"
    }
   ],
   "source": [
    "k = 10\n",
    "y = np.array(label)\n",
    "kf = KFold(n_splits=k) #membuat model kfold sejumlah k\n",
    "kf.get_n_splits(X)\n",
    "# print(kf)\n",
    "alpah_list = np.arange(0.1, 1+0.001, 0.001)\n",
    "rerata = list()\n",
    "for alpha in alpah_list:\n",
    "    clf = MultinomialNB(alpha = alpha)\n",
    "    sc_10 = list()\n",
    "    for train_index, test_index in kf.split(X):\n",
    "    #     print(\"TRAIN:\", train_index, \"TEST:\", test_index)\n",
    "        X_train, X_test = X[train_index], X[test_index]\n",
    "        y_train, y_test = y[train_index], y[test_index]\n",
    "        clf.fit(X_train, y_train)\n",
    "        sc = clf.score(X_test, y_test)\n",
    "        sc_10.append(sc)\n",
    "#     print( sum(sc_10)/k, \"|\", alpha)\n",
    "    rerata.append(sum(sc_10)/k)\n",
    "dict_ = {\n",
    "    \"alpha\":alpah_list,\n",
    "    \"score\":rerata\n",
    "}\n",
    "df_hasil = pd.DataFrame.from_dict(dict_)\n",
    "sorted_ = df_hasil.sort_values(\"score\", axis = 0, ascending = False)\n",
    "sorted_.head()"
   ]
  },
  {
   "cell_type": "code",
   "execution_count": 9,
   "metadata": {},
   "outputs": [
    {
     "data": {
      "text/plain": [
       "0.14900000000000005"
      ]
     },
     "execution_count": 9,
     "metadata": {},
     "output_type": "execute_result"
    }
   ],
   "source": [
    "sorted_.alpha.tolist()[0]"
   ]
  },
  {
   "cell_type": "code",
   "execution_count": 10,
   "metadata": {},
   "outputs": [
    {
     "data": {
      "text/plain": [
       "['model/naive_bayes.m']"
      ]
     },
     "execution_count": 10,
     "metadata": {},
     "output_type": "execute_result"
    }
   ],
   "source": [
    "clf = MultinomialNB(alpha = sorted_.alpha.tolist()[0])\n",
    "save = clf.fit(X, y) \n",
    "joblib.dump(save,\"model/naive_bayes.m\")"
   ]
  },
  {
   "cell_type": "code",
   "execution_count": 11,
   "metadata": {},
   "outputs": [
    {
     "data": {
      "text/plain": [
       "0.953"
      ]
     },
     "execution_count": 11,
     "metadata": {},
     "output_type": "execute_result"
    }
   ],
   "source": [
    "save.score(X, y)"
   ]
  },
  {
   "cell_type": "code",
   "execution_count": 12,
   "metadata": {},
   "outputs": [],
   "source": [
    "x = save.predict(X)"
   ]
  },
  {
   "cell_type": "code",
   "execution_count": 13,
   "metadata": {},
   "outputs": [
    {
     "name": "stdout",
     "output_type": "stream",
     "text": [
      "7\n",
      "negative\n",
      "label asli positive\n",
      "apa bilang pak memang benar mau bukti di ejek asing v i r a l k a n prabow\n",
      "\n",
      "10\n",
      "negative\n",
      "label asli positive\n",
      "bidang hubung internasional anut prinsip kawan terlalu sedikit musuh terlalu banyak prabowo\n",
      "\n",
      "52\n",
      "negative\n",
      "label asli positive\n",
      "duh pak baik banget kalau bicara bahasa inggris arti tahu kalau pak bisa bahasa inggris\n",
      "\n",
      "82\n",
      "negative\n",
      "label asli positive\n",
      "sorot debatpilpres 2019 kali presiden sangat jelas masa kini masa depan realita solusi masalah\n",
      "\n",
      "109\n",
      "negative\n",
      "label asli positive\n",
      "optimisindonesiamaju kalau tetap percaya sama orang walau sering tuduh itu hehe\n",
      "\n",
      "115\n",
      "negative\n",
      "label asli positive\n",
      "kalau mau jadi nice guy jadi mediator monggo kalau juang indonesia hormat indonesia kuat\n",
      "\n",
      "153\n",
      "negative\n",
      "label asli positive\n",
      "tertawa puas takut marah larang ingat pilih biar bebas tertawa batas\n",
      "\n",
      "155\n",
      "negative\n",
      "label asli positive\n",
      "pak tekan soal kecil anggar tahan pak\n",
      "\n",
      "173\n",
      "negative\n",
      "label asli positive\n",
      "sila kalian ketawa kaya bilang bocor lalu sekarang soal tahan kalian ketawa\n",
      "\n",
      "177\n",
      "negative\n",
      "label asli positive\n",
      "manusia ada kubu tuh selalu akal sehat\n",
      "\n",
      "189\n",
      "negative\n",
      "label asli positive\n",
      "tahan aman indonesia harga mati jenderal kalau dunia internasional lihat balik\n",
      "\n",
      "197\n",
      "positive\n",
      "label asli negative\n",
      "silah tertawa jadi presiden kalau beliau menang ketawa larang\n",
      "\n",
      "212\n",
      "negative\n",
      "label asli positive\n",
      "tertawa tertawa larang sama pak debatpilpres 2019\n",
      "\n",
      "221\n",
      "negative\n",
      "label asli positive\n",
      "kata pak bukan lemah kalah kuat yang lambat kalah yang cepat\n",
      "\n",
      "304\n",
      "positive\n",
      "label asli negative\n",
      "lebih tni tni bagus pak aku overdosis jadi makin mudah kami pilih presiden\n",
      "\n",
      "316\n",
      "negative\n",
      "label asli positive\n",
      "jadi keliru kalau badan menang nasional beri angin hti harap suara hti justru hti percaya demokrasi\n",
      "\n",
      "335\n",
      "negative\n",
      "label asli positive\n",
      "jangan ketawa kalian ketawa tahan indonesia rapuh kalian ketawa lucu kok lucu kata\n",
      "\n",
      "341\n",
      "positive\n",
      "label asli negative\n",
      "menang mbak sepenuh yakin pak menang\n",
      "\n",
      "348\n",
      "negative\n",
      "label asli positive\n",
      "wowo kali ingat pak bapak hati para bisik bapak kena tahan\n",
      "\n",
      "360\n",
      "positive\n",
      "label asli negative\n",
      "lihat pak percaya tni\n",
      "\n",
      "365\n",
      "positive\n",
      "label asli negative\n",
      "alas pilih prabowo menang debat april coblos sandi\n",
      "\n",
      "372\n",
      "negative\n",
      "label asli positive\n",
      "lebih tni banyak tni\n",
      "\n",
      "378\n",
      "negative\n",
      "label asli positive\n",
      "buat tonton ketawa saat bilang bukan salah bapak tidak tau salah siapa\n",
      "\n",
      "443\n",
      "positive\n",
      "label asli negative\n",
      "satu yakin tni satu pesimis jadi pemerintahandilan lanjut indonesia maju\n",
      "\n",
      "487\n",
      "positive\n",
      "label asli negative\n",
      "tertawa tertawa larang pemerintahandilan 01dilanjutkan debatkeempatpilpres 2019\n",
      "\n",
      "519\n",
      "positive\n",
      "label asli negative\n",
      "kata tni milik budaya asal bapak senang asal bapak senang ini efek pernah pecat tni\n",
      "\n",
      "541\n",
      "negative\n",
      "label asli positive\n",
      "tidak paham ekonomi investasi asing lingkup bisnis di-framing olah negara asai asing cara militan\n",
      "\n",
      "581\n",
      "negative\n",
      "label asli positive\n",
      "pak trauma pecat tni begini ngomongnya justru pak sipil percaya sama tni\n",
      "\n",
      "601\n",
      "negative\n",
      "label asli positive\n",
      "debatpilpres 2019 bagaimana mau maju tni kalau baru jadi mayor jangan udah pensiun sekarang jadi timses bapak\n",
      "\n",
      "627\n",
      "positive\n",
      "label asli negative\n",
      "kalau mandat akan bersih kuat lembaga perintah akan hilang korupsi indonesia\n",
      "\n",
      "642\n",
      "positive\n",
      "label asli negative\n",
      "perintah dil digital layan sangat perlu\n",
      "\n",
      "687\n",
      "positive\n",
      "label asli negative\n",
      "penting jangan asal bapak senang kata sindir prabowobentengnkri asal bapak senang tau kondisi riil rakyat\n",
      "\n",
      "716\n",
      "negative\n",
      "label asli positive\n",
      "rendah dukung tahana rupa bukti rupa bukti bila cara tak langsung sedang hukum publik\n",
      "\n",
      "725\n",
      "positive\n",
      "label asli negative\n",
      "bang kalau jadi presiden siapa ibu negara apa benar kita jadi negara piatu\n",
      "\n",
      "728\n",
      "positive\n",
      "label asli negative\n",
      "lihat pak percaya tni pemerintahandilan memang nampol\n",
      "\n",
      "764\n",
      "positive\n",
      "label asli negative\n",
      "maju era android ke era pecatanlebihtnidaritni\n",
      "\n",
      "795\n",
      "positive\n",
      "label asli negative\n",
      "lihat negara bagai alat maju kualitas masyarakat lihat negara bagai alat perang\n",
      "\n",
      "805\n",
      "positive\n",
      "label asli negative\n",
      "malam minggu duduk depan layar tv nonton debat empat calon presiden semangat pak 01dilanjutkan\n",
      "\n",
      "830\n",
      "positive\n",
      "label asli negative\n",
      "pak all keluar debat malam semua umpan lawan lahap habis bahkan jawab kerap jadi serang balik\n",
      "\n",
      "858\n",
      "positive\n",
      "label asli negative\n",
      "apresiasi saudara di papua pakde jadi percuma kalian tebar bohong papua derita\n",
      "\n",
      "860\n",
      "positive\n",
      "label asli negative\n",
      "satu yakin tni satu pesimis jadi pemerintahandilan lanjut indonesia maju\n",
      "\n",
      "874\n",
      "positive\n",
      "label asli negative\n",
      "nyata pak debat empat ragu tni 01dilanjutkan jokowilagi\n",
      "\n",
      "882\n",
      "positive\n",
      "label asli negative\n",
      "lama kawan lalu musuh lama tetangga lalu tak saling bicara semua karena beda pilih\n",
      "\n",
      "888\n",
      "positive\n",
      "label asli negative\n",
      "rantai sahabat pak pak akan putus debatpilpres 2019 dengerin tuh tkn-bpn cebong kampret\n",
      "\n",
      "893\n",
      "positive\n",
      "label asli negative\n",
      "jangan pilih pimpin bohong ingkar janji provokasi rakyat kacang lupa kulit pilih pimpin jujur\n",
      "\n",
      "968\n",
      "positive\n",
      "label asli negative\n",
      "mantap keren moga ikut seluruh pelosok nusantara\n",
      "\n",
      "998\n",
      "positive\n",
      "label asli negative\n",
      "bukan tidak percaya ini tni pak taruh nyawa tni lebih tni tni\n",
      "\n"
     ]
    }
   ],
   "source": [
    "ixx = 0\n",
    "labelA = list()\n",
    "labelP= list()\n",
    "\n",
    "for i, j in zip(label, x):\n",
    "    if i !=j:\n",
    "        print(ixx)\n",
    "        print(j)\n",
    "        print(\"label asli\",i)\n",
    "        print(twet[ixx])\n",
    "        print()\n",
    "    ixx+=1"
   ]
  },
  {
   "cell_type": "code",
   "execution_count": null,
   "metadata": {},
   "outputs": [],
   "source": []
  }
 ],
 "metadata": {
  "kernelspec": {
   "display_name": "Python 3",
   "language": "python",
   "name": "python3"
  },
  "language_info": {
   "codemirror_mode": {
    "name": "ipython",
    "version": 3
   },
   "file_extension": ".py",
   "mimetype": "text/x-python",
   "name": "python",
   "nbconvert_exporter": "python",
   "pygments_lexer": "ipython3",
   "version": "3.7.4"
  }
 },
 "nbformat": 4,
 "nbformat_minor": 2
}
