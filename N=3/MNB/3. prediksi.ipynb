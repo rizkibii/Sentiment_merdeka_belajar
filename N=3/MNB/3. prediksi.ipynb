{
 "cells": [
  {
   "cell_type": "code",
   "execution_count": 1,
   "metadata": {},
   "outputs": [],
   "source": [
    "import joblib\n",
    "import sys\n",
    "import os\n",
    "alamat = \"/\".join(os.getcwd().split(\"\\\\\")[:-2])\n",
    "sys.path.append(alamat+'/praproses')\n",
    "import ngrams as ng\n",
    "from normalisasi import normalisasi as nrm\n",
    "import token as tkn\n",
    "import stemming as stm\n",
    "import cleansing\n",
    "import stemming\n",
    "import seleksi_kata as sk\n",
    "import pandas as pd\n",
    "import isDigit as isd"
   ]
  },
  {
   "cell_type": "code",
   "execution_count": 2,
   "metadata": {},
   "outputs": [],
   "source": [
    "tdidf = joblib.load(\"model/tdidf.w\")\n",
    "naive_bayes = joblib.load(\"model/naive_bayes.m\")"
   ]
  },
  {
   "cell_type": "code",
   "execution_count": 3,
   "metadata": {},
   "outputs": [],
   "source": [
    "def praproses(twt, n=3):\n",
    "    twt = sk.seleksi(twt)\n",
    "    twt = cleansing.cleaning(twt)\n",
    "    twt = isd.remove_digit(twt)\n",
    "    twt = nrm.slangword(twt)\n",
    "    twt = stm.stemming(twt)\n",
    "    twt = stm.StopWordRemover(twt)\n",
    "    twt = ng.ngramku(twt, n=n)['string']\n",
    "    return twt"
   ]
  },
  {
   "cell_type": "code",
   "execution_count": 4,
   "metadata": {},
   "outputs": [
    {
     "data": {
      "text/plain": [
       "'tuju banget'"
      ]
     },
     "execution_count": 4,
     "metadata": {},
     "output_type": "execute_result"
    }
   ],
   "source": [
    "praproses(\"RT @hpsetyawan: @afiadi @Gerindra @prabowo setuju bgt\", n=1)"
   ]
  },
  {
   "cell_type": "code",
   "execution_count": 5,
   "metadata": {},
   "outputs": [
    {
     "data": {
      "text/plain": [
       "'positive'"
      ]
     },
     "execution_count": 5,
     "metadata": {},
     "output_type": "execute_result"
    }
   ],
   "source": [
    "kalimat = \"RT @hpsetyawan: @afiadi @Gerindra @prabowo setuju bgt\"\n",
    "# print(praproses(kalimat))\n",
    "naive_bayes.predict(tdidf.transform([praproses(kalimat)]))[0]\n",
    "#memprediksi kalimat di preproses, kemudian di transform menjadi vector,diprediksi menggunakan NB"
   ]
  },
  {
   "cell_type": "code",
   "execution_count": 6,
   "metadata": {},
   "outputs": [
    {
     "data": {
      "text/plain": [
       "'G:\\\\Kuliah\\\\THESIS\\\\PORGRAM_MERDEKA\\\\Sentiment_merdeka_belajar\\\\N=3\\\\MNB'"
      ]
     },
     "execution_count": 6,
     "metadata": {},
     "output_type": "execute_result"
    }
   ],
   "source": [
    "pwd"
   ]
  },
  {
   "cell_type": "markdown",
   "metadata": {},
   "source": [
    "# Prediksi data uji [Merdeka Belajar]"
   ]
  },
  {
   "cell_type": "code",
   "execution_count": 7,
   "metadata": {},
   "outputs": [
    {
     "name": "stdout",
     "output_type": "stream",
     "text": [
      "              precision    recall  f1-score   support\n",
      "\n",
      "    negative       0.72      0.87      0.79        15\n",
      "    positive       0.98      0.94      0.96        85\n",
      "\n",
      "    accuracy                           0.93       100\n",
      "   macro avg       0.85      0.90      0.87       100\n",
      "weighted avg       0.94      0.93      0.93       100\n",
      "\n"
     ]
    }
   ],
   "source": [
    "df = pd.read_excel(\"../../data_uji/PPDB ZONASI.xlsx\")\n",
    "twet_uji = df.Twit.tolist()\n",
    "label_asli = df.label.tolist()\n",
    "twet_uji_bersih = list()\n",
    "\n",
    "for ix, t in enumerate(twet_uji):\n",
    "    twet_uji_bersih.append(praproses(t))\n",
    "#     print(ix)\n",
    "prediksi = naive_bayes.predict(tdidf.transform(twet_uji_bersih))\n",
    "\n",
    "from sklearn.metrics import classification_report\n",
    "y_true = label_asli\n",
    "y_pred = prediksi\n",
    "target_names = ['negative', 'positive',]\n",
    "print(classification_report(y_true, y_pred, target_names=target_names))"
   ]
  },
  {
   "cell_type": "code",
   "execution_count": 8,
   "metadata": {
    "scrolled": true
   },
   "outputs": [
    {
     "name": "stdout",
     "output_type": "stream",
     "text": [
      "1\n",
      "Prediksi: positive\n",
      "asli    : negative\n",
      "     RT @basukids: @Gerindra @jokowi Anuuu... pemahamannya kurang eh..\n",
      "#PrabowoBentengNKRI\n",
      "====================================================================================================\n",
      "6\n",
      "Prediksi: negative\n",
      "asli    : positive\n",
      "     RT @bocahsosmed: Skor sementara 3-0 nih untuk #DebatKeempatPilpres2019 melalui berbagai sanggahan mematikan dari pakde @jokowi \n",
      "@sukangetwe…\n",
      "====================================================================================================\n",
      "9\n",
      "Prediksi: positive\n",
      "asli    : negative\n",
      "     RT @gw_eilo: Malam Pak @jokowi Pak @prabowo saya izin tidur ya Pak, ngantuk, debatnya membosankan.\n",
      "====================================================================================================\n",
      "13\n",
      "Prediksi: negative\n",
      "asli    : positive\n",
      "     RT @CNNIDdaily: Capres nomor urut 01, @jokowi: Tapi masalah tuduh-menuduh saya kan juga banyak dituduh pak.\n",
      "\n",
      "#DebatCapres2019\n",
      "#DebatKeempat…\n",
      "====================================================================================================\n",
      "44\n",
      "Prediksi: negative\n",
      "asli    : positive\n",
      "     RT @bseptian15: @TeddyGusnaidi @prabowo @Gerindra Sekarang berani tidak pak @Jokowi menolak pak Yusril masuk ke kubunya\n",
      "====================================================================================================\n",
      "81\n",
      "Prediksi: negative\n",
      "asli    : positive\n",
      "     RT @ClarissaInd: Sudah terbukti bapak @jokowi  hanya korban fitnah. Politik jangan gitu-gitu amat. Malu tau 😬😬😬\n",
      "@woelannnn @BiLLRaY_\n",
      "====================================================================================================\n",
      "97\n",
      "Prediksi: negative\n",
      "asli    : positive\n",
      "     RT @akuratco: .@jokowi ke @prabowo: Tidak saling menghujat, menghina, meremehkan, menjelekkan.Yg itu sekarang ini kita lihat.\n",
      "====================================================================================================\n"
     ]
    }
   ],
   "source": [
    "ix = 0\n",
    "for twet, asli, pred in zip(twet_uji, label_asli,prediksi):\n",
    "    if pred!= asli:\n",
    "        print(ix)\n",
    "        print(\"Prediksi:\",pred)\n",
    "        print(\"asli    :\",asli)\n",
    "        print(\"    \",twet)\n",
    "        print(\"=\"*100)\n",
    "    ix+=1"
   ]
  },
  {
   "cell_type": "code",
   "execution_count": null,
   "metadata": {},
   "outputs": [],
   "source": []
  },
  {
   "cell_type": "code",
   "execution_count": null,
   "metadata": {},
   "outputs": [],
   "source": []
  }
 ],
 "metadata": {
  "kernelspec": {
   "display_name": "Python 3",
   "language": "python",
   "name": "python3"
  },
  "language_info": {
   "codemirror_mode": {
    "name": "ipython",
    "version": 3
   },
   "file_extension": ".py",
   "mimetype": "text/x-python",
   "name": "python",
   "nbconvert_exporter": "python",
   "pygments_lexer": "ipython3",
   "version": "3.7.4"
  }
 },
 "nbformat": 4,
 "nbformat_minor": 2
}
