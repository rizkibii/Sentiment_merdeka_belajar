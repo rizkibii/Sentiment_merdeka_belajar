{
 "cells": [
  {
   "cell_type": "code",
   "execution_count": 1,
   "metadata": {},
   "outputs": [],
   "source": [
    "import pandas as pd\n",
    "import joblib"
   ]
  },
  {
   "cell_type": "code",
   "execution_count": 2,
   "metadata": {},
   "outputs": [
    {
     "data": {
      "text/html": [
       "<div>\n",
       "<style scoped>\n",
       "    .dataframe tbody tr th:only-of-type {\n",
       "        vertical-align: middle;\n",
       "    }\n",
       "\n",
       "    .dataframe tbody tr th {\n",
       "        vertical-align: top;\n",
       "    }\n",
       "\n",
       "    .dataframe thead th {\n",
       "        text-align: right;\n",
       "    }\n",
       "</style>\n",
       "<table border=\"1\" class=\"dataframe\">\n",
       "  <thead>\n",
       "    <tr style=\"text-align: right;\">\n",
       "      <th></th>\n",
       "      <th>Unnamed: 0</th>\n",
       "      <th>tweet</th>\n",
       "      <th>label</th>\n",
       "    </tr>\n",
       "  </thead>\n",
       "  <tbody>\n",
       "    <tr>\n",
       "      <td>0</td>\n",
       "      <td>0</td>\n",
       "      <td>buka visi misi begitu pukau sehingga buat pres...</td>\n",
       "      <td>positive</td>\n",
       "    </tr>\n",
       "    <tr>\n",
       "      <td>1</td>\n",
       "      <td>1</td>\n",
       "      <td>lebih baik pakai teknologi lama kaya negara in...</td>\n",
       "      <td>positive</td>\n",
       "    </tr>\n",
       "    <tr>\n",
       "      <td>2</td>\n",
       "      <td>2</td>\n",
       "      <td>kok arguing without menang kokarguing arguingw...</td>\n",
       "      <td>positive</td>\n",
       "    </tr>\n",
       "    <tr>\n",
       "      <td>3</td>\n",
       "      <td>3</td>\n",
       "      <td>jalan politik politik satu bukan politik pecah...</td>\n",
       "      <td>positive</td>\n",
       "    </tr>\n",
       "    <tr>\n",
       "      <td>4</td>\n",
       "      <td>4</td>\n",
       "      <td>juga fans lihat tampil serang hahaha jugafans ...</td>\n",
       "      <td>negative</td>\n",
       "    </tr>\n",
       "  </tbody>\n",
       "</table>\n",
       "</div>"
      ],
      "text/plain": [
       "   Unnamed: 0                                              tweet     label\n",
       "0           0  buka visi misi begitu pukau sehingga buat pres...  positive\n",
       "1           1  lebih baik pakai teknologi lama kaya negara in...  positive\n",
       "2           2  kok arguing without menang kokarguing arguingw...  positive\n",
       "3           3  jalan politik politik satu bukan politik pecah...  positive\n",
       "4           4  juga fans lihat tampil serang hahaha jugafans ...  negative"
      ]
     },
     "execution_count": 2,
     "metadata": {},
     "output_type": "execute_result"
    }
   ],
   "source": [
    "df = pd.read_excel(\"data/tweet_bersih_100.xlsx\") #data latih yang digunakan tweet_bersih_100.xlsx\n",
    "twet = df.tweet.tolist()\n",
    "label = df.label.tolist()\n",
    "df.head() #menampilkan lima teraatas dari data bersih"
   ]
  },
  {
   "cell_type": "code",
   "execution_count": 3,
   "metadata": {},
   "outputs": [
    {
     "name": "stdout",
     "output_type": "stream",
     "text": [
      "negative    500\n",
      "positive    500\n",
      "Name: label, dtype: int64\n"
     ]
    }
   ],
   "source": [
    "pd.value_counts(df['label']).plot.bar(title='Data Sentimen')\n",
    "print(pd.value_counts(df['label']))"
   ]
  },
  {
   "cell_type": "code",
   "execution_count": 4,
   "metadata": {},
   "outputs": [],
   "source": [
    "import numpy as np\n",
    "from sklearn.model_selection import KFold\n",
    "from sklearn.naive_bayes import MultinomialNB"
   ]
  },
  {
   "cell_type": "code",
   "execution_count": 5,
   "metadata": {},
   "outputs": [
    {
     "data": {
      "text/plain": [
       "35508"
      ]
     },
     "execution_count": 5,
     "metadata": {},
     "output_type": "execute_result"
    }
   ],
   "source": [
    "from sklearn.feature_extraction.text import TfidfVectorizer\n",
    "corpus = twet\n",
    "vectorizer = TfidfVectorizer()\n",
    "save = vectorizer.fit(corpus)\n",
    "joblib.dump(save,\"model/tdidf.w\")\n",
    "X = vectorizer.fit_transform(corpus)\n",
    "len(vectorizer.get_feature_names())#jumlah line fitur"
   ]
  },
  {
   "cell_type": "code",
   "execution_count": 6,
   "metadata": {},
   "outputs": [
    {
     "data": {
      "text/html": [
       "<div>\n",
       "<style scoped>\n",
       "    .dataframe tbody tr th:only-of-type {\n",
       "        vertical-align: middle;\n",
       "    }\n",
       "\n",
       "    .dataframe tbody tr th {\n",
       "        vertical-align: top;\n",
       "    }\n",
       "\n",
       "    .dataframe thead th {\n",
       "        text-align: right;\n",
       "    }\n",
       "</style>\n",
       "<table border=\"1\" class=\"dataframe\">\n",
       "  <thead>\n",
       "    <tr style=\"text-align: right;\">\n",
       "      <th></th>\n",
       "      <th>alpha</th>\n",
       "      <th>score</th>\n",
       "    </tr>\n",
       "  </thead>\n",
       "  <tbody>\n",
       "    <tr>\n",
       "      <td>0</td>\n",
       "      <td>0.100</td>\n",
       "      <td>0.814</td>\n",
       "    </tr>\n",
       "    <tr>\n",
       "      <td>8</td>\n",
       "      <td>0.108</td>\n",
       "      <td>0.814</td>\n",
       "    </tr>\n",
       "    <tr>\n",
       "      <td>11</td>\n",
       "      <td>0.111</td>\n",
       "      <td>0.814</td>\n",
       "    </tr>\n",
       "    <tr>\n",
       "      <td>10</td>\n",
       "      <td>0.110</td>\n",
       "      <td>0.814</td>\n",
       "    </tr>\n",
       "    <tr>\n",
       "      <td>9</td>\n",
       "      <td>0.109</td>\n",
       "      <td>0.814</td>\n",
       "    </tr>\n",
       "  </tbody>\n",
       "</table>\n",
       "</div>"
      ],
      "text/plain": [
       "    alpha  score\n",
       "0   0.100  0.814\n",
       "8   0.108  0.814\n",
       "11  0.111  0.814\n",
       "10  0.110  0.814\n",
       "9   0.109  0.814"
      ]
     },
     "execution_count": 6,
     "metadata": {},
     "output_type": "execute_result"
    }
   ],
   "source": [
    "k = 10\n",
    "y = np.array(label)\n",
    "kf = KFold(n_splits=k) #membuat model kfold sejumlah k\n",
    "kf.get_n_splits(X)\n",
    "# print(kf)\n",
    "alpah_list = np.arange(0.1, 1+0.001, 0.001)\n",
    "rerata = list()\n",
    "for alpha in alpah_list:\n",
    "    clf = MultinomialNB(alpha = alpha)\n",
    "    sc_10 = list()\n",
    "    for train_index, test_index in kf.split(X):\n",
    "    #     print(\"TRAIN:\", train_index, \"TEST:\", test_index)\n",
    "        X_train, X_test = X[train_index], X[test_index]\n",
    "        y_train, y_test = y[train_index], y[test_index]\n",
    "        clf.fit(X_train, y_train)\n",
    "        sc = clf.score(X_test, y_test)\n",
    "        sc_10.append(sc)\n",
    "#     print( sum(sc_10)/k, \"|\", alpha)\n",
    "    rerata.append(sum(sc_10)/k)\n",
    "dict_ = {\n",
    "    \"alpha\":alpah_list,\n",
    "    \"score\":rerata\n",
    "}\n",
    "df_hasil = pd.DataFrame.from_dict(dict_)\n",
    "sorted_ = df_hasil.sort_values(\"score\", axis = 0, ascending = False)\n",
    "sorted_.head()"
   ]
  },
  {
   "cell_type": "code",
   "execution_count": 7,
   "metadata": {},
   "outputs": [
    {
     "data": {
      "text/plain": [
       "0.1"
      ]
     },
     "execution_count": 7,
     "metadata": {},
     "output_type": "execute_result"
    }
   ],
   "source": [
    "sorted_.alpha.tolist()[0]"
   ]
  },
  {
   "cell_type": "code",
   "execution_count": 8,
   "metadata": {},
   "outputs": [
    {
     "data": {
      "text/plain": [
       "['model/naive_bayes.m']"
      ]
     },
     "execution_count": 8,
     "metadata": {},
     "output_type": "execute_result"
    }
   ],
   "source": [
    "clf = MultinomialNB(alpha = sorted_.alpha.tolist()[0])\n",
    "save = clf.fit(X, y) \n",
    "joblib.dump(save,\"model/naive_bayes.m\")"
   ]
  },
  {
   "cell_type": "code",
   "execution_count": 9,
   "metadata": {},
   "outputs": [
    {
     "data": {
      "text/plain": [
       "0.994"
      ]
     },
     "execution_count": 9,
     "metadata": {},
     "output_type": "execute_result"
    }
   ],
   "source": [
    "save.score(X, y)"
   ]
  },
  {
   "cell_type": "code",
   "execution_count": 10,
   "metadata": {},
   "outputs": [],
   "source": [
    "x = save.predict(X)"
   ]
  },
  {
   "cell_type": "code",
   "execution_count": 11,
   "metadata": {},
   "outputs": [
    {
     "name": "stdout",
     "output_type": "stream",
     "text": [
      "541\n",
      "negative\n",
      "label asli positive\n",
      "tidak paham ekonomi investasi asing lingkup bisnis di-framing olah negara asai asing cara militan tidakpaham pahamekonomi ekonomiinvestasi investasiasing asinglingkup lingkupbisnis bisnisdi-framing di-framingolah olahnegara negaraasai asaiasing asingcara caramilitan tidakpahamekonomi pahamekonomiinvestasi ekonomiinvestasiasing investasiasinglingkup asinglingkupbisnis lingkupbisnisdi-framing bisnisdi-framingolah di-framingolahnegara olahnegaraasai negaraasaiasing asaiasingcara asingcaramilitan tidakpahamekonomiinvestasi pahamekonomiinvestasiasing ekonomiinvestasiasinglingkup investasiasinglingkupbisnis asinglingkupbisnisdi-framing lingkupbisnisdi-framingolah bisnisdi-framingolahnegara di-framingolahnegaraasai olahnegaraasaiasing negaraasaiasingcara asaiasingcaramilitan tidakpahamekonomiinvestasiasing pahamekonomiinvestasiasinglingkup ekonomiinvestasiasinglingkupbisnis investasiasinglingkupbisnisdi-framing asinglingkupbisnisdi-framingolah lingkupbisnisdi-framingolahnegara bisnisdi-framingolahnegaraasai di-framingolahnegaraasaiasing olahnegaraasaiasingcara negaraasaiasingcaramilitan tidakpahamekonomiinvestasiasinglingkup pahamekonomiinvestasiasinglingkupbisnis ekonomiinvestasiasinglingkupbisnisdi-framing investasiasinglingkupbisnisdi-framingolah asinglingkupbisnisdi-framingolahnegara lingkupbisnisdi-framingolahnegaraasai bisnisdi-framingolahnegaraasaiasing di-framingolahnegaraasaiasingcara olahnegaraasaiasingcaramilitan\n",
      "\n",
      "830\n",
      "positive\n",
      "label asli negative\n",
      "pak all keluar debat malam semua umpan lawan lahap habis bahkan jawab kerap jadi serang balik pakall allkeluar keluardebat debatmalam malamsemua semuaumpan umpanlawan lawanlahap lahaphabis habisbahkan bahkanjawab jawabkerap kerapjadi jadiserang serangbalik pakallkeluar allkeluardebat keluardebatmalam debatmalamsemua malamsemuaumpan semuaumpanlawan umpanlawanlahap lawanlahaphabis lahaphabisbahkan habisbahkanjawab bahkanjawabkerap jawabkerapjadi kerapjadiserang jadiserangbalik pakallkeluardebat allkeluardebatmalam keluardebatmalamsemua debatmalamsemuaumpan malamsemuaumpanlawan semuaumpanlawanlahap umpanlawanlahaphabis lawanlahaphabisbahkan lahaphabisbahkanjawab habisbahkanjawabkerap bahkanjawabkerapjadi jawabkerapjadiserang kerapjadiserangbalik pakallkeluardebatmalam allkeluardebatmalamsemua keluardebatmalamsemuaumpan debatmalamsemuaumpanlawan malamsemuaumpanlawanlahap semuaumpanlawanlahaphabis umpanlawanlahaphabisbahkan lawanlahaphabisbahkanjawab lahaphabisbahkanjawabkerap habisbahkanjawabkerapjadi bahkanjawabkerapjadiserang jawabkerapjadiserangbalik pakallkeluardebatmalamsemua allkeluardebatmalamsemuaumpan keluardebatmalamsemuaumpanlawan debatmalamsemuaumpanlawanlahap malamsemuaumpanlawanlahaphabis semuaumpanlawanlahaphabisbahkan umpanlawanlahaphabisbahkanjawab lawanlahaphabisbahkanjawabkerap lahaphabisbahkanjawabkerapjadi habisbahkanjawabkerapjadiserang bahkanjawabkerapjadiserangbalik\n",
      "\n",
      "858\n",
      "positive\n",
      "label asli negative\n",
      "apresiasi saudara di papua pakde jadi percuma kalian tebar bohong papua derita apresiasisaudara saudaradi dipapua papuapakde pakdejadi jadipercuma percumakalian kaliantebar tebarbohong bohongpapua papuaderita apresiasisaudaradi saudaradipapua dipapuapakde papuapakdejadi pakdejadipercuma jadipercumakalian percumakaliantebar kaliantebarbohong tebarbohongpapua bohongpapuaderita apresiasisaudaradipapua saudaradipapuapakde dipapuapakdejadi papuapakdejadipercuma pakdejadipercumakalian jadipercumakaliantebar percumakaliantebarbohong kaliantebarbohongpapua tebarbohongpapuaderita apresiasisaudaradipapuapakde saudaradipapuapakdejadi dipapuapakdejadipercuma papuapakdejadipercumakalian pakdejadipercumakaliantebar jadipercumakaliantebarbohong percumakaliantebarbohongpapua kaliantebarbohongpapuaderita apresiasisaudaradipapuapakdejadi saudaradipapuapakdejadipercuma dipapuapakdejadipercumakalian papuapakdejadipercumakaliantebar pakdejadipercumakaliantebarbohong jadipercumakaliantebarbohongpapua percumakaliantebarbohongpapuaderita\n",
      "\n",
      "882\n",
      "positive\n",
      "label asli negative\n",
      "lama kawan lalu musuh lama tetangga lalu tak saling bicara semua karena beda pilih lamakawan kawanlalu lalumusuh musuhlama lamatetangga tetanggalalu lalutak taksaling salingbicara bicarasemua semuakarena karenabeda bedapilih lamakawanlalu kawanlalumusuh lalumusuhlama musuhlamatetangga lamatetanggalalu tetanggalalutak lalutaksaling taksalingbicara salingbicarasemua bicarasemuakarena semuakarenabeda karenabedapilih lamakawanlalumusuh kawanlalumusuhlama lalumusuhlamatetangga musuhlamatetanggalalu lamatetanggalalutak tetanggalalutaksaling lalutaksalingbicara taksalingbicarasemua salingbicarasemuakarena bicarasemuakarenabeda semuakarenabedapilih lamakawanlalumusuhlama kawanlalumusuhlamatetangga lalumusuhlamatetanggalalu musuhlamatetanggalalutak lamatetanggalalutaksaling tetanggalalutaksalingbicara lalutaksalingbicarasemua taksalingbicarasemuakarena salingbicarasemuakarenabeda bicarasemuakarenabedapilih lamakawanlalumusuhlamatetangga kawanlalumusuhlamatetanggalalu lalumusuhlamatetanggalalutak musuhlamatetanggalalutaksaling lamatetanggalalutaksalingbicara tetanggalalutaksalingbicarasemua lalutaksalingbicarasemuakarena taksalingbicarasemuakarenabeda salingbicarasemuakarenabedapilih\n",
      "\n",
      "888\n",
      "positive\n",
      "label asli negative\n",
      "rantai sahabat pak pak akan putus debatpilpres 2019 dengerin tuh tkn-bpn cebong kampret rantaisahabat sahabatpak pakpak pakakan akanputus putusdebatpilpres debatpilpres2019 2019dengerin dengerintuh tuhtkn-bpn tkn-bpncebong cebongkampret rantaisahabatpak sahabatpakpak pakpakakan pakakanputus akanputusdebatpilpres putusdebatpilpres2019 debatpilpres2019dengerin 2019dengerintuh dengerintuhtkn-bpn tuhtkn-bpncebong tkn-bpncebongkampret rantaisahabatpakpak sahabatpakpakakan pakpakakanputus pakakanputusdebatpilpres akanputusdebatpilpres2019 putusdebatpilpres2019dengerin debatpilpres2019dengerintuh 2019dengerintuhtkn-bpn dengerintuhtkn-bpncebong tuhtkn-bpncebongkampret rantaisahabatpakpakakan sahabatpakpakakanputus pakpakakanputusdebatpilpres pakakanputusdebatpilpres2019 akanputusdebatpilpres2019dengerin putusdebatpilpres2019dengerintuh debatpilpres2019dengerintuhtkn-bpn 2019dengerintuhtkn-bpncebong dengerintuhtkn-bpncebongkampret rantaisahabatpakpakakanputus sahabatpakpakakanputusdebatpilpres pakpakakanputusdebatpilpres2019 pakakanputusdebatpilpres2019dengerin akanputusdebatpilpres2019dengerintuh putusdebatpilpres2019dengerintuhtkn-bpn debatpilpres2019dengerintuhtkn-bpncebong 2019dengerintuhtkn-bpncebongkampret\n",
      "\n",
      "893\n",
      "positive\n",
      "label asli negative\n",
      "jangan pilih pimpin bohong ingkar janji provokasi rakyat kacang lupa kulit pilih pimpin jujur janganpilih pilihpimpin pimpinbohong bohongingkar ingkarjanji janjiprovokasi provokasirakyat rakyatkacang kacanglupa lupakulit kulitpilih pilihpimpin pimpinjujur janganpilihpimpin pilihpimpinbohong pimpinbohongingkar bohongingkarjanji ingkarjanjiprovokasi janjiprovokasirakyat provokasirakyatkacang rakyatkacanglupa kacanglupakulit lupakulitpilih kulitpilihpimpin pilihpimpinjujur janganpilihpimpinbohong pilihpimpinbohongingkar pimpinbohongingkarjanji bohongingkarjanjiprovokasi ingkarjanjiprovokasirakyat janjiprovokasirakyatkacang provokasirakyatkacanglupa rakyatkacanglupakulit kacanglupakulitpilih lupakulitpilihpimpin kulitpilihpimpinjujur janganpilihpimpinbohongingkar pilihpimpinbohongingkarjanji pimpinbohongingkarjanjiprovokasi bohongingkarjanjiprovokasirakyat ingkarjanjiprovokasirakyatkacang janjiprovokasirakyatkacanglupa provokasirakyatkacanglupakulit rakyatkacanglupakulitpilih kacanglupakulitpilihpimpin lupakulitpilihpimpinjujur janganpilihpimpinbohongingkarjanji pilihpimpinbohongingkarjanjiprovokasi pimpinbohongingkarjanjiprovokasirakyat bohongingkarjanjiprovokasirakyatkacang ingkarjanjiprovokasirakyatkacanglupa janjiprovokasirakyatkacanglupakulit provokasirakyatkacanglupakulitpilih rakyatkacanglupakulitpilihpimpin kacanglupakulitpilihpimpinjujur\n",
      "\n"
     ]
    }
   ],
   "source": [
    "ixx = 0\n",
    "labelA = list()\n",
    "labelP= list()\n",
    "\n",
    "for i, j in zip(label, x):\n",
    "    if i !=j:\n",
    "        print(ixx)\n",
    "        print(j)\n",
    "        print(\"label asli\",i)\n",
    "        print(twet[ixx])\n",
    "        print()\n",
    "    ixx+=1"
   ]
  },
  {
   "cell_type": "code",
   "execution_count": null,
   "metadata": {},
   "outputs": [],
   "source": []
  },
  {
   "cell_type": "code",
   "execution_count": null,
   "metadata": {},
   "outputs": [],
   "source": []
  }
 ],
 "metadata": {
  "kernelspec": {
   "display_name": "Python 3",
   "language": "python",
   "name": "python3"
  },
  "language_info": {
   "codemirror_mode": {
    "name": "ipython",
    "version": 3
   },
   "file_extension": ".py",
   "mimetype": "text/x-python",
   "name": "python",
   "nbconvert_exporter": "python",
   "pygments_lexer": "ipython3",
   "version": "3.7.4"
  }
 },
 "nbformat": 4,
 "nbformat_minor": 2
}
