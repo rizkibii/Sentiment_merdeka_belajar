{
 "cells": [
  {
   "cell_type": "code",
   "execution_count": 1,
   "metadata": {},
   "outputs": [],
   "source": [
    "import joblib\n",
    "import sys\n",
    "import os\n",
    "alamat = os.getcwd()\n",
    "# alamat_direktor_kerja = alamat#\"D:\\github\\python\\sentimen_pilpres\"\n",
    "sys.path.append(alamat+'/praproses')\n",
    "import ngrams as ng\n",
    "from normalisasi import normalisasi as nrm\n",
    "import token as tkn\n",
    "import stemming as stm\n",
    "import cleansing\n",
    "import stemming\n",
    "import seleksi_kata as sk\n",
    "import pandas as pd"
   ]
  },
  {
   "cell_type": "code",
   "execution_count": 2,
   "metadata": {},
   "outputs": [],
   "source": [
    "tdidf = joblib.load(\"model/tdidf.w\")\n",
    "svm = joblib.load(\"model/svm.m\")"
   ]
  },
  {
   "cell_type": "code",
   "execution_count": 3,
   "metadata": {},
   "outputs": [],
   "source": [
    "def praproses(twt, n=1):\n",
    "    twt = sk.seleksi(twt)\n",
    "    twt = cleansing.cleaning(twt)\n",
    "    twt = nrm.slangword(twt)\n",
    "    twt = stm.stemming(twt)\n",
    "    twt = stm.StopWordRemover(twt)\n",
    "    twt = ng.ngramku(twt, n=n)['string']\n",
    "    return twt"
   ]
  },
  {
   "cell_type": "markdown",
   "metadata": {},
   "source": [
    "# Prediksi 1 tweet"
   ]
  },
  {
   "cell_type": "code",
   "execution_count": 4,
   "metadata": {},
   "outputs": [
    {
     "data": {
      "text/plain": [
       "'negative'"
      ]
     },
     "execution_count": 4,
     "metadata": {},
     "output_type": "execute_result"
    }
   ],
   "source": [
    "kalimat = \"bangsat tidak tahu malu\"\n",
    "svm.predict(tdidf.transform([praproses(kalimat)]))[0]"
   ]
  },
  {
   "cell_type": "markdown",
   "metadata": {},
   "source": [
    "# Prediksi data uji Prediksi data uji [jokowi]"
   ]
  },
  {
   "cell_type": "code",
   "execution_count": 5,
   "metadata": {},
   "outputs": [
    {
     "name": "stdout",
     "output_type": "stream",
     "text": [
      "              precision    recall  f1-score   support\n",
      "\n",
      "    negative       0.56      0.67      0.61        15\n",
      "    positive       0.94      0.91      0.92        85\n",
      "\n",
      "    accuracy                           0.87       100\n",
      "   macro avg       0.75      0.79      0.76       100\n",
      "weighted avg       0.88      0.87      0.87       100\n",
      "\n"
     ]
    }
   ],
   "source": [
    "df = pd.read_excel(\"../data_uji/100 data jan-maret jokowi.xlsx\")\n",
    "twet_uji = df.message.tolist()\n",
    "label_asli = df.label.tolist()\n",
    "twet_uji_bersih = list()\n",
    "\n",
    "for ix, t in enumerate(twet_uji):\n",
    "    twet_uji_bersih.append(praproses(t))\n",
    "#     print(ix)\n",
    "prediksi = svm.predict(tdidf.transform(twet_uji_bersih))\n",
    "\n",
    "from sklearn.metrics import classification_report\n",
    "y_true = label_asli\n",
    "y_pred = prediksi\n",
    "target_names = ['negative', 'positive',]\n",
    "print(classification_report(y_true, y_pred, target_names=target_names))"
   ]
  },
  {
   "cell_type": "code",
   "execution_count": 6,
   "metadata": {
    "scrolled": true
   },
   "outputs": [
    {
     "name": "stdout",
     "output_type": "stream",
     "text": [
      "1\n",
      "Prediksi: positive\n",
      "asli    : negative\n",
      "     RT @basukids: @Gerindra @jokowi Anuuu... pemahamannya kurang eh..\n",
      "#PrabowoBentengNKRI\n",
      "====================================================================================================\n",
      "5\n",
      "Prediksi: negative\n",
      "asli    : positive\n",
      "     RT @xLoneWoIf: Inilah konsep kerjasama Indo-Pasifik. Nggak usah takut bakal makin banyak persaingan, krn @jokowi telah menyusun berbagai strategi\n",
      "====================================================================================================\n",
      "9\n",
      "Prediksi: positive\n",
      "asli    : negative\n",
      "     RT @gw_eilo: Malam Pak @jokowi Pak @prabowo saya izin tidur ya Pak, ngantuk, debatnya membosankan.\n",
      "====================================================================================================\n",
      "13\n",
      "Prediksi: negative\n",
      "asli    : positive\n",
      "     RT @CNNIDdaily: Capres nomor urut 01, @jokowi: Tapi masalah tuduh-menuduh saya kan juga banyak dituduh pak.\n",
      "\n",
      "#DebatCapres2019\n",
      "#DebatKeempat…\n",
      "====================================================================================================\n",
      "26\n",
      "Prediksi: positive\n",
      "asli    : negative\n",
      "     RT @unknownzoel_: Saya lihat pak @prabowo tidak percaya oleh TNI kita , \n",
      "\"Quotes from @jokowi 2019\"\n",
      "\n",
      "#prabowotidakpercaya\n",
      "#DebatAsyikJokowi…\n",
      "====================================================================================================\n",
      "32\n",
      "Prediksi: negative\n",
      "asli    : positive\n",
      "     RT @AdaCeuceu: emang bangsad sih kalo ada yang masih meragukan keisalaman doi, wong @jokowi masuk kdalam track 50 muslim berpengaruh.\n",
      "====================================================================================================\n",
      "39\n",
      "Prediksi: negative\n",
      "asli    : positive\n",
      "     RT @trenzsolo: \"Pak Prabowo ini tidak percaya pada TNI kita !!\" Kick telak @jokowi atas pernyataan Prabowo soal pertahananan RI\n",
      "====================================================================================================\n",
      "41\n",
      "Prediksi: positive\n",
      "asli    : negative\n",
      "     RT @milenial_kaum: @kangdede78 @jokowi #PemerintahanDILAN makin mempermudah warganya, tidak seperti bapak sombong yang selalu mengulang masa lalu\n",
      "====================================================================================================\n",
      "44\n",
      "Prediksi: negative\n",
      "asli    : positive\n",
      "     RT @bseptian15: @TeddyGusnaidi @prabowo @Gerindra Sekarang berani tidak pak @Jokowi menolak pak Yusril masuk ke kubunya\n",
      "====================================================================================================\n",
      "50\n",
      "Prediksi: negative\n",
      "asli    : positive\n",
      "     RT @densha_foxtrot: Pakdhe @jokowi kalo pakdhe punya program pengadaan rudal balistik ogut dukung pakdhe lahir batin\n",
      "====================================================================================================\n",
      "74\n",
      "Prediksi: negative\n",
      "asli    : positive\n",
      "     RT @AmandaSpotify: Dilihat dari visi misi yang di paparkan terlihat bahwa @jokowi berani untuk melihat kedepan.\n",
      "====================================================================================================\n",
      "80\n",
      "Prediksi: positive\n",
      "asli    : negative\n",
      "     RT @RigunDL: Ga akan ada Ideologi apapun selain Pancasila, dan Pakde @jokowi akan memberantas oknum2 yg mengganggu keutuhan manusia #Jokowi\n",
      "====================================================================================================\n",
      "97\n",
      "Prediksi: negative\n",
      "asli    : positive\n",
      "     RT @akuratco: .@jokowi ke @prabowo: Tidak saling menghujat, menghina, meremehkan, menjelekkan.Yg itu sekarang ini kita lihat.\n",
      "====================================================================================================\n"
     ]
    }
   ],
   "source": [
    "ix = 0\n",
    "for twet, asli, pred in zip(twet_uji, label_asli,prediksi):\n",
    "    if pred!= asli:\n",
    "        print(ix)\n",
    "        print(\"Prediksi:\",pred)\n",
    "        print(\"asli    :\",asli)\n",
    "        print(\"    \",twet)\n",
    "        print(\"=\"*100)\n",
    "    ix+=1"
   ]
  },
  {
   "cell_type": "markdown",
   "metadata": {},
   "source": [
    "# Prediksi data uji [prabowo]"
   ]
  },
  {
   "cell_type": "code",
   "execution_count": 7,
   "metadata": {},
   "outputs": [
    {
     "name": "stdout",
     "output_type": "stream",
     "text": [
      "              precision    recall  f1-score   support\n",
      "\n",
      "    negative       0.77      0.67      0.72        36\n",
      "    positive       0.83      0.89      0.86        64\n",
      "\n",
      "    accuracy                           0.81       100\n",
      "   macro avg       0.80      0.78      0.79       100\n",
      "weighted avg       0.81      0.81      0.81       100\n",
      "\n"
     ]
    }
   ],
   "source": [
    "df = pd.read_excel(\"../data_uji/100 data jan-maret prabowo.xlsx\")\n",
    "twet_uji = df.message.tolist()\n",
    "label_asli = df.label.tolist()\n",
    "twet_uji_bersih = list()\n",
    "for t in twet_uji:\n",
    "    twet_uji_bersih.append(praproses(t))\n",
    "prediksi = svm.predict(tdidf.transform(twet_uji_bersih))\n",
    "\n",
    "from sklearn.metrics import classification_report\n",
    "y_true = label_asli\n",
    "y_pred = prediksi\n",
    "target_names = ['negative', 'positive',]\n",
    "print(classification_report(y_true, y_pred, target_names=target_names))"
   ]
  },
  {
   "cell_type": "code",
   "execution_count": 8,
   "metadata": {},
   "outputs": [
    {
     "name": "stdout",
     "output_type": "stream",
     "text": [
      "3\n",
      "Prediksi: positive\n",
      "asli    : negative\n",
      "     RT @gw_eilo: Malam Pak @jokowi Pak @prabowo saya izin tidur ya Pak, ngantuk, debatnya membosankan...\n",
      "====================================================================================================\n",
      "15\n",
      "Prediksi: positive\n",
      "asli    : negative\n",
      "     RT @KasanMulyono: Prabowo: Apakah Pak Jkw tahu pendukung Bapak menuduh saya pendukung khilafah. \n",
      "\n",
      "#PrabowoBentengNKRI\n",
      "@prabowo @sandiuno\n",
      "====================================================================================================\n",
      "17\n",
      "Prediksi: positive\n",
      "asli    : negative\n",
      "     RT @unknownzoel_: Saya lihat pak @prabowo tidak percaya oleh TNI kita , \n",
      "\"Quotes from @jokowi 2019\"\n",
      "\n",
      "#prabowotidakpercaya\n",
      "#DebatAsyikJokowi…\n",
      "====================================================================================================\n",
      "21\n",
      "Prediksi: positive\n",
      "asli    : negative\n",
      "     RT @katakitatweet: Tentang ideologi tanggapan netizen 56% NEGATIF artinya meragukan apa yg disampaikan @prabowo\n",
      "====================================================================================================\n",
      "23\n",
      "Prediksi: negative\n",
      "asli    : positive\n",
      "     RT @RajaGuguk14: @JackVardan @Zumpio Lupa bilang, si cebong diam dan mlongo. Rasanya berhasil saya ngegetok kepalanya. @prabowo itu bersih!\n",
      "====================================================================================================\n",
      "24\n",
      "Prediksi: positive\n",
      "asli    : negative\n",
      "     RT @kimmy_amali: #DebatPilpres2019\n",
      "Capres 02 kok MONOTON beud...\n",
      "Apapun Pertanyaannya, Minumnya teh botol sosro. \n",
      "@prabowo CapresANALog\n",
      "====================================================================================================\n",
      "25\n",
      "Prediksi: positive\n",
      "asli    : negative\n",
      "     RT @LaskarCikeas: admin @Gerindra tolong dong dibilangin ke ketumlo @prabowo ini debat bukan lagi ngobrol di warung kopi, \n",
      "====================================================================================================\n",
      "33\n",
      "Prediksi: positive\n",
      "asli    : negative\n",
      "     RT @Prasyudyo: Sebagai pekerja digital, gw sih ogah diajakin ke teknologi lama ama pak @prabowo maaf Pak, jika tidak mampu mengikuti perkembangan gak usah ngajakin\n",
      "====================================================================================================\n",
      "38\n",
      "Prediksi: negative\n",
      "asli    : positive\n",
      "     RT @TAMPICO1994: @wendy_diana @prabowo betul👏👏berapi api,pertahankan pak @prabowo \n",
      "#01CapresPendustaAbadi\n",
      "====================================================================================================\n",
      "55\n",
      "Prediksi: positive\n",
      "asli    : negative\n",
      "     RT @joxzin_jogja: @prabowo ini cocoknya hidup di tengah pulau, piara kuda. Mosok bangga dengan teknologi kuno.\n",
      "====================================================================================================\n",
      "58\n",
      "Prediksi: negative\n",
      "asli    : positive\n",
      "     RT @AlfatihRama: Ini yg saya tunggu pak @prabowo lantang menyerang namun santun,\n",
      "\n",
      "Bring back the tiger of asia's\n",
      "\n",
      "#PrabowoBentengNKRI\n",
      "====================================================================================================\n",
      "61\n",
      "Prediksi: positive\n",
      "asli    : negative\n",
      "     RT @Lidabasah: Fixx @prabowo Jadi Capres abadi.\n",
      "\n",
      "Kenapa?\n",
      "\n",
      "Krna Ideologi dri ormas2 Pendukungnya tak sejalan dengan PANCASILA \n",
      "====================================================================================================\n",
      "69\n",
      "Prediksi: positive\n",
      "asli    : negative\n",
      "     RT @Mosthafavi: felixsiauw, bachtiar nasir, mardani ali sera kudu diberesin duluan tuh pak @prabowo \n",
      "\n",
      "mereka anti Pancasila lho pro ormas radikal\n",
      "====================================================================================================\n",
      "77\n",
      "Prediksi: negative\n",
      "asli    : positive\n",
      "     RT @PSD_313: Gw demen klo om @prabowo tegas gini 😂😂 mengkeret tuh boneka 😂\n",
      "\n",
      "#01CapresPendustaAbadi\n",
      "====================================================================================================\n",
      "79\n",
      "Prediksi: negative\n",
      "asli    : positive\n",
      "     RT @puthandini: gmn nih pak @prabowo milih metode lama? masa menolak perkembangan ekonomi untuk lebih maju lagi? dikasih yang mudah ko malah gak mau\n",
      "====================================================================================================\n",
      "81\n",
      "Prediksi: positive\n",
      "asli    : negative\n",
      "     RT @Herrreza: Semua program Prabowo ttg Ideologi Pancasila tidak Pantas dipercaya. @prabowo Tidak hapal Pancasila https://t.co/0cWlKe9i2i\n",
      "====================================================================================================\n",
      "87\n",
      "Prediksi: positive\n",
      "asli    : negative\n",
      "     RT @FandhuW89: .\n",
      "Pendukung Bapak @prabowo &amp; @sandiuno\"\n",
      "Adalah Kaum Radikal, Khilafah dan Intoleransi......\"\n",
      "\n",
      "Mana Para Jendral Pea itu ?!?\n",
      "====================================================================================================\n",
      "92\n",
      "Prediksi: negative\n",
      "asli    : positive\n",
      "     RT @Zulkifllubis71: Alhamdulillah saya sudah punya jawabanya ...\n",
      "\n",
      "Jawaban nya jelas :\n",
      "Saya ikut “IJTIMA ULAMA” Ya Allah pilih @prabowo\n",
      "====================================================================================================\n",
      "94\n",
      "Prediksi: negative\n",
      "asli    : positive\n",
      "     RT @erlyy66: @putrabanten80 Saya puas dg jawaban bapa @prabowo .. love you pa 😍😍😍\n",
      "====================================================================================================\n"
     ]
    }
   ],
   "source": [
    "ix = 0\n",
    "for twet, asli, pred in zip(twet_uji, label_asli,prediksi):\n",
    "    if pred!= asli:\n",
    "        print(ix)\n",
    "        print(\"Prediksi:\",pred)\n",
    "        print(\"asli    :\",asli)\n",
    "        print(\"    \",twet)\n",
    "        print(\"=\"*100)\n",
    "    ix+=1"
   ]
  },
  {
   "cell_type": "code",
   "execution_count": null,
   "metadata": {},
   "outputs": [],
   "source": []
  }
 ],
 "metadata": {
  "kernelspec": {
   "display_name": "Python 3",
   "language": "python",
   "name": "python3"
  },
  "language_info": {
   "codemirror_mode": {
    "name": "ipython",
    "version": 3
   },
   "file_extension": ".py",
   "mimetype": "text/x-python",
   "name": "python",
   "nbconvert_exporter": "python",
   "pygments_lexer": "ipython3",
   "version": "3.6.5"
  }
 },
 "nbformat": 4,
 "nbformat_minor": 2
}
