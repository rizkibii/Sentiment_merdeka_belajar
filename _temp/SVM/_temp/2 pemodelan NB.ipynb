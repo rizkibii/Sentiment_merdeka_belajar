{
 "cells": [
  {
   "cell_type": "code",
   "execution_count": 1,
   "metadata": {},
   "outputs": [],
   "source": [
    "import pandas as pd\n",
    "import joblib"
   ]
  },
  {
   "cell_type": "code",
   "execution_count": 14,
   "metadata": {},
   "outputs": [
    {
     "data": {
      "text/html": [
       "<div>\n",
       "<style scoped>\n",
       "    .dataframe tbody tr th:only-of-type {\n",
       "        vertical-align: middle;\n",
       "    }\n",
       "\n",
       "    .dataframe tbody tr th {\n",
       "        vertical-align: top;\n",
       "    }\n",
       "\n",
       "    .dataframe thead th {\n",
       "        text-align: right;\n",
       "    }\n",
       "</style>\n",
       "<table border=\"1\" class=\"dataframe\">\n",
       "  <thead>\n",
       "    <tr style=\"text-align: right;\">\n",
       "      <th></th>\n",
       "      <th>Unnamed: 0</th>\n",
       "      <th>tweet</th>\n",
       "      <th>label</th>\n",
       "    </tr>\n",
       "  </thead>\n",
       "  <tbody>\n",
       "    <tr>\n",
       "      <th>0</th>\n",
       "      <td>0</td>\n",
       "      <td>buka visi misi begitu pukau sehingga buat pres...</td>\n",
       "      <td>positive</td>\n",
       "    </tr>\n",
       "    <tr>\n",
       "      <th>1</th>\n",
       "      <td>1</td>\n",
       "      <td>lebih baik pakai teknologi lama kaya negara in...</td>\n",
       "      <td>positive</td>\n",
       "    </tr>\n",
       "    <tr>\n",
       "      <th>2</th>\n",
       "      <td>2</td>\n",
       "      <td>kok arguing without crying kokarguing arguingw...</td>\n",
       "      <td>positive</td>\n",
       "    </tr>\n",
       "    <tr>\n",
       "      <th>3</th>\n",
       "      <td>3</td>\n",
       "      <td>jalan politik politik satu bukan politik pecah...</td>\n",
       "      <td>positive</td>\n",
       "    </tr>\n",
       "    <tr>\n",
       "      <th>4</th>\n",
       "      <td>4</td>\n",
       "      <td>juga fans lihat tampil serang hahaha jugafans ...</td>\n",
       "      <td>negative</td>\n",
       "    </tr>\n",
       "  </tbody>\n",
       "</table>\n",
       "</div>"
      ],
      "text/plain": [
       "   Unnamed: 0                                              tweet     label\n",
       "0           0  buka visi misi begitu pukau sehingga buat pres...  positive\n",
       "1           1  lebih baik pakai teknologi lama kaya negara in...  positive\n",
       "2           2  kok arguing without crying kokarguing arguingw...  positive\n",
       "3           3  jalan politik politik satu bukan politik pecah...  positive\n",
       "4           4  juga fans lihat tampil serang hahaha jugafans ...  negative"
      ]
     },
     "execution_count": 14,
     "metadata": {},
     "output_type": "execute_result"
    }
   ],
   "source": [
    "df = pd.read_excel(\"data/tweet_bersih_100.xlsx\")\n",
    "twet = df.tweet.tolist()\n",
    "label = df.label.tolist()\n",
    "df.head()"
   ]
  },
  {
   "cell_type": "code",
   "execution_count": 15,
   "metadata": {},
   "outputs": [
    {
     "name": "stdout",
     "output_type": "stream",
     "text": [
      "negative    500\n",
      "positive    500\n",
      "Name: label, dtype: int64\n"
     ]
    },
    {
     "data": {
      "image/png": "[encoded data removed]",
      "text/plain": [
       "<Figure size 432x288 with 1 Axes>"
      ]
     },
     "metadata": {
      "needs_background": "light"
     },
     "output_type": "display_data"
    }
   ],
   "source": [
    "pd.value_counts(df['label']).plot.bar(title='Data Sentimen')\n",
    "print(pd.value_counts(df['label']))"
   ]
  },
  {
   "cell_type": "markdown",
   "metadata": {},
   "source": [
    "# Pembagian data & pemodelan"
   ]
  },
  {
   "cell_type": "code",
   "execution_count": 16,
   "metadata": {},
   "outputs": [],
   "source": [
    "import numpy as np\n",
    "from sklearn.model_selection import KFold\n",
    "from sklearn.naive_bayes import MultinomialNB"
   ]
  },
  {
   "cell_type": "code",
   "execution_count": 17,
   "metadata": {},
   "outputs": [],
   "source": [
    "from sklearn.feature_extraction.text import TfidfVectorizer\n",
    "corpus = twet\n",
    "vectorizer = TfidfVectorizer()\n",
    "save = vectorizer.fit(corpus)\n",
    "joblib.dump(save,\"model/tdidf.w\")\n",
    "X = vectorizer.fit_transform(corpus)"
   ]
  },
  {
   "cell_type": "code",
   "execution_count": 18,
   "metadata": {},
   "outputs": [
    {
     "data": {
      "text/html": [
       "<div>\n",
       "<style scoped>\n",
       "    .dataframe tbody tr th:only-of-type {\n",
       "        vertical-align: middle;\n",
       "    }\n",
       "\n",
       "    .dataframe tbody tr th {\n",
       "        vertical-align: top;\n",
       "    }\n",
       "\n",
       "    .dataframe thead th {\n",
       "        text-align: right;\n",
       "    }\n",
       "</style>\n",
       "<table border=\"1\" class=\"dataframe\">\n",
       "  <thead>\n",
       "    <tr style=\"text-align: right;\">\n",
       "      <th></th>\n",
       "      <th>alpha</th>\n",
       "      <th>score</th>\n",
       "    </tr>\n",
       "  </thead>\n",
       "  <tbody>\n",
       "    <tr>\n",
       "      <th>0</th>\n",
       "      <td>0.100</td>\n",
       "      <td>0.817</td>\n",
       "    </tr>\n",
       "    <tr>\n",
       "      <th>1</th>\n",
       "      <td>0.101</td>\n",
       "      <td>0.817</td>\n",
       "    </tr>\n",
       "    <tr>\n",
       "      <th>2</th>\n",
       "      <td>0.102</td>\n",
       "      <td>0.816</td>\n",
       "    </tr>\n",
       "    <tr>\n",
       "      <th>3</th>\n",
       "      <td>0.103</td>\n",
       "      <td>0.816</td>\n",
       "    </tr>\n",
       "    <tr>\n",
       "      <th>4</th>\n",
       "      <td>0.104</td>\n",
       "      <td>0.815</td>\n",
       "    </tr>\n",
       "    <tr>\n",
       "      <th>5</th>\n",
       "      <td>0.105</td>\n",
       "      <td>0.814</td>\n",
       "    </tr>\n",
       "    <tr>\n",
       "      <th>6</th>\n",
       "      <td>0.106</td>\n",
       "      <td>0.814</td>\n",
       "    </tr>\n",
       "    <tr>\n",
       "      <th>22</th>\n",
       "      <td>0.122</td>\n",
       "      <td>0.813</td>\n",
       "    </tr>\n",
       "    <tr>\n",
       "      <th>21</th>\n",
       "      <td>0.121</td>\n",
       "      <td>0.813</td>\n",
       "    </tr>\n",
       "    <tr>\n",
       "      <th>20</th>\n",
       "      <td>0.120</td>\n",
       "      <td>0.813</td>\n",
       "    </tr>\n",
       "  </tbody>\n",
       "</table>\n",
       "</div>"
      ],
      "text/plain": [
       "    alpha  score\n",
       "0   0.100  0.817\n",
       "1   0.101  0.817\n",
       "2   0.102  0.816\n",
       "3   0.103  0.816\n",
       "4   0.104  0.815\n",
       "5   0.105  0.814\n",
       "6   0.106  0.814\n",
       "22  0.122  0.813\n",
       "21  0.121  0.813\n",
       "20  0.120  0.813"
      ]
     },
     "execution_count": 18,
     "metadata": {},
     "output_type": "execute_result"
    }
   ],
   "source": [
    "k = 10\n",
    "y = np.array(label)\n",
    "kf = KFold(n_splits=k)\n",
    "kf.get_n_splits(X)\n",
    "# print(kf)\n",
    "alpah_list = np.arange(0.1, 1+0.001, 0.001)\n",
    "rerata = list()\n",
    "for alpha in alpah_list:\n",
    "    clf = MultinomialNB(alpha = alpha)\n",
    "    sc_10 = list()\n",
    "    for train_index, test_index in kf.split(X):\n",
    "    #     print(\"TRAIN:\", train_index, \"TEST:\", test_index)\n",
    "        X_train, X_test = X[train_index], X[test_index]\n",
    "        y_train, y_test = y[train_index], y[test_index]\n",
    "        clf.fit(X_train, y_train)\n",
    "        sc = clf.score(X_test, y_test)\n",
    "        sc_10.append(sc)\n",
    "#     print( sum(sc_10)/k, \"|\", alpha)\n",
    "    rerata.append(sum(sc_10)/k)\n",
    "dict_ = {\n",
    "    \"alpha\":alpah_list,\n",
    "    \"score\":rerata\n",
    "}\n",
    "df_hasil = pd.DataFrame.from_dict(dict_)\n",
    "sorted_ = df_hasil.sort_values(\"score\", axis = 0, ascending = False)\n",
    "sorted_.head(10)"
   ]
  },
  {
   "cell_type": "code",
   "execution_count": 19,
   "metadata": {},
   "outputs": [
    {
     "data": {
      "text/plain": [
       "0.1"
      ]
     },
     "execution_count": 19,
     "metadata": {},
     "output_type": "execute_result"
    }
   ],
   "source": [
    "sorted_.alpha.tolist()[0]"
   ]
  },
  {
   "cell_type": "code",
   "execution_count": 20,
   "metadata": {},
   "outputs": [
    {
     "data": {
      "text/plain": [
       "['model/naive_bayes.m']"
      ]
     },
     "execution_count": 20,
     "metadata": {},
     "output_type": "execute_result"
    }
   ],
   "source": [
    "clf = MultinomialNB(alpha = sorted_.alpha.tolist()[0])\n",
    "save = clf.fit(X_train, y_train)\n",
    "joblib.dump(save,\"model/naive_bayes.m\")"
   ]
  },
  {
   "cell_type": "code",
   "execution_count": 21,
   "metadata": {},
   "outputs": [
    {
     "data": {
      "text/plain": [
       "0.983"
      ]
     },
     "execution_count": 21,
     "metadata": {},
     "output_type": "execute_result"
    }
   ],
   "source": [
    "save.score(X, y)"
   ]
  },
  {
   "cell_type": "code",
   "execution_count": 22,
   "metadata": {},
   "outputs": [],
   "source": [
    "x = save.predict(X)"
   ]
  },
  {
   "cell_type": "code",
   "execution_count": 13,
   "metadata": {},
   "outputs": [
    {
     "name": "stdout",
     "output_type": "stream",
     "text": [
      "438\n",
      "negative\n",
      "label asli positive\n",
      "apresiasi saudara 2 di papua utk pakde jadi percuma kalian tebar bohong bhw papua derita apresiasisaudara saudara2 2di dipapua papuautk utkpakde pakdejadi jadipercuma percumakalian kaliantebar tebarbohong bohongbhw bhwpapua papuaderita apresiasisaudara2 saudara2di 2dipapua dipapuautk papuautkpakde utkpakdejadi pakdejadipercuma jadipercumakalian percumakaliantebar kaliantebarbohong tebarbohongbhw bohongbhwpapua bhwpapuaderita\n",
      "\n",
      "541\n",
      "negative\n",
      "label asli positive\n",
      "tidak paham ekonomi investasi asing lingkup bisnis di-framing olah negara asai asing cara militan tidakpaham pahamekonomi ekonomiinvestasi investasiasing asinglingkup lingkupbisnis bisnisdi-framing di-framingolah olahnegara negaraasai asaiasing asingcara caramilitan tidakpahamekonomi pahamekonomiinvestasi ekonomiinvestasiasing investasiasinglingkup asinglingkupbisnis lingkupbisnisdi-framing bisnisdi-framingolah di-framingolahnegara olahnegaraasai negaraasaiasing asaiasingcara asingcaramilitan\n",
      "\n",
      "830\n",
      "positive\n",
      "label asli negative\n",
      "pak all out debat malam semua umpan lawan lahap habis bahkan jawab kerap jadi serang balik pakall allout outdebat debatmalam malamsemua semuaumpan umpanlawan lawanlahap lahaphabis habisbahkan bahkanjawab jawabkerap kerapjadi jadiserang serangbalik pakallout alloutdebat outdebatmalam debatmalamsemua malamsemuaumpan semuaumpanlawan umpanlawanlahap lawanlahaphabis lahaphabisbahkan habisbahkanjawab bahkanjawabkerap jawabkerapjadi kerapjadiserang jadiserangbalik\n",
      "\n",
      "882\n",
      "positive\n",
      "label asli negative\n",
      "lama kawan lalu musuh lama tetangga lalu tak saling bicara semua karena beda pilih lamakawan kawanlalu lalumusuh musuhlama lamatetangga tetanggalalu lalutak taksaling salingbicara bicarasemua semuakarena karenabeda bedapilih lamakawanlalu kawanlalumusuh lalumusuhlama musuhlamatetangga lamatetanggalalu tetanggalalutak lalutaksaling taksalingbicara salingbicarasemua bicarasemuakarena semuakarenabeda karenabedapilih\n",
      "\n",
      "888\n",
      "positive\n",
      "label asli negative\n",
      "rantai sahabat pak pak akan putus gara 2 debatpilpres 2019 dengerin tuh tkn-bpn cebongs kampret rantaisahabat sahabatpak pakpak pakakan akanputus putusgara gara2 2debatpilpres debatpilpres2019 2019dengerin dengerintuh tuhtkn-bpn tkn-bpncebongs cebongskampret rantaisahabatpak sahabatpakpak pakpakakan pakakanputus akanputusgara putusgara2 gara2debatpilpres 2debatpilpres2019 debatpilpres2019dengerin 2019dengerintuh dengerintuhtkn-bpn tuhtkn-bpncebongs tkn-bpncebongskampret\n",
      "\n",
      "893\n",
      "positive\n",
      "label asli negative\n",
      "jng pilih pimpin bohong ingkar janji provokasi rakyat kacang lupa kulit pilih pimpin yg jujur jngpilih pilihpimpin pimpinbohong bohongingkar ingkarjanji janjiprovokasi provokasirakyat rakyatkacang kacanglupa lupakulit kulitpilih pilihpimpin pimpinyg ygjujur jngpilihpimpin pilihpimpinbohong pimpinbohongingkar bohongingkarjanji ingkarjanjiprovokasi janjiprovokasirakyat provokasirakyatkacang rakyatkacanglupa kacanglupakulit lupakulitpilih kulitpilihpimpin pilihpimpinyg pimpinygjujur\n",
      "\n",
      "966\n",
      "positive\n",
      "label asli negative\n",
      "capres nomor urut 02 khawatir kalau semua labuh bandara operate usaha asing capresnomor nomorurut urut02 02khawatir khawatirkalau kalausemua semualabuh labuhbandara bandaraoperate operateusaha usahaasing capresnomorurut nomorurut02 urut02khawatir 02khawatirkalau khawatirkalausemua kalausemualabuh semualabuhbandara labuhbandaraoperate bandaraoperateusaha operateusahaasing\n",
      "\n",
      "968\n",
      "positive\n",
      "label asli negative\n",
      "mantebb kerenn smoga bs ikut seluruh pelosok nusantara mantebbkerenn kerennsmoga smogabs bsikut ikutseluruh seluruhpelosok pelosoknusantara mantebbkerennsmoga kerennsmogabs smogabsikut bsikutseluruh ikutseluruhpelosok seluruhpelosoknusantara\n",
      "\n",
      "971\n",
      "positive\n",
      "label asli negative\n",
      "pilih sandi saya ingin bpjs puruk terus tidak optimal beri solusi awat sehat pilihsandi sandisaya sayaingin inginbpjs bpjspuruk purukterus terustidak tidakoptimal optimalberi berisolusi solusiawat awatsehat pilihsandisaya sandisayaingin sayainginbpjs inginbpjspuruk bpjspurukterus purukterustidak terustidakoptimal tidakoptimalberi optimalberisolusi berisolusiawat solusiawatsehat\n",
      "\n",
      "972\n",
      "positive\n",
      "label asli negative\n",
      "salah besar sih gak pilih pak lembaga perintah yg bebas korupsi jual beli jabat salahbesar besarsih sihgak gakpilih pilihpak paklembaga lembagaperintah perintahyg ygbebas bebaskorupsi korupsijual jualbeli belijabat salahbesarsih besarsihgak sihgakpilih gakpilihpak pilihpaklembaga paklembagaperintah lembagaperintahyg perintahygbebas ygbebaskorupsi bebaskorupsijual korupsijualbeli jualbelijabat\n",
      "\n",
      "976\n",
      "positive\n",
      "label asli negative\n",
      "kalau pasu asing masuk tentara tindak adi napitupulu dukung capres 01 kalaupasu pasuasing asingmasuk masuktentara tentaratindak tindakadi adinapitupulu napitupuludukung dukungcapres capres01 kalaupasuasing pasuasingmasuk asingmasuktentara masuktentaratindak tentaratindakadi tindakadinapitupulu adinapitupuludukung napitupuludukungcapres dukungcapres01\n",
      "\n",
      "982\n",
      "positive\n",
      "label asli negative\n",
      "mau begini acung jari telunjuk tak enak tim jokowi-maruf benci tauhid kan mereka benci tauhid maubegini beginiacung acungjari jaritelunjuk telunjuktak takenak enaktim timjokowi-maruf jokowi-marufbenci bencitauhid tauhidkan kanmereka merekabenci bencitauhid maubeginiacung beginiacungjari acungjaritelunjuk jaritelunjuktak telunjuktakenak takenaktim enaktimjokowi-maruf timjokowi-marufbenci jokowi-marufbencitauhid bencitauhidkan tauhidkanmereka kanmerekabenci merekabencitauhid\n",
      "\n",
      "987\n",
      "positive\n",
      "label asli negative\n",
      "pak emosi klo sdh bicara ttg daulat aman nkri balik rakyat lindung pakemosi emosiklo klosdh sdhbicara bicarattg ttgdaulat daulataman amannkri nkribalik balikrakyat rakyatlindung pakemosiklo emosiklosdh klosdhbicara sdhbicarattg bicarattgdaulat ttgdaulataman daulatamannkri amannkribalik nkribalikrakyat balikrakyatlindung\n",
      "\n",
      "991\n",
      "positive\n",
      "label asli negative\n",
      "oke oce bangkrut gagal tingkat daya beli masyarakat okeoce ocebangkrut bangkrutgagal gagaltingkat tingkatdaya dayabeli belimasyarakat okeocebangkrut ocebangkrutgagal bangkrutgagaltingkat gagaltingkatdaya tingkatdayabeli dayabelimasyarakat\n",
      "\n",
      "994\n",
      "positive\n",
      "label asli negative\n",
      "yang lemes nih kaya data salah ban semua pak prabowobentengnkri https t co 1yqfosvy7a yanglemes lemesnih nihkaya kayadata datasalah salahban bansemua semuapak pakprabowobentengnkri prabowobentengnkrihttps httpst tco co1yqfosvy7a yanglemesnih lemesnihkaya nihkayadata kayadatasalah datasalahban salahbansemua bansemuapak semuapakprabowobentengnkri pakprabowobentengnkrihttps prabowobentengnkrihttpst httpstco tco1yqfosvy7a\n",
      "\n",
      "997\n",
      "positive\n",
      "label asli negative\n",
      "ahahaha pancing pidato closingnya beranta ahahahapancing pancingpidato pidatoclosingnya closingnyaberanta ahahahapancingpidato pancingpidatoclosingnya pidatoclosingnyaberanta\n",
      "\n",
      "998\n",
      "positive\n",
      "label asli negative\n",
      "bukan tidak percaya ini tni pak taruh nyawa tni lebih tni tni bukantidak tidakpercaya percayaini initni tnipak paktaruh taruhnyawa nyawatni tnilebih lebihtni tnitni bukantidakpercaya tidakpercayaini percayainitni initnipak tnipaktaruh paktaruhnyawa taruhnyawatni nyawatnilebih tnilebihtni lebihtnitni\n",
      "\n"
     ]
    }
   ],
   "source": [
    "ixx = 0\n",
    "labelA = list()\n",
    "labelP= list()\n",
    "\n",
    "for i, j in zip(label, x):\n",
    "    if i !=j:\n",
    "        print(ixx)\n",
    "        print(j)\n",
    "        print(\"label asli\",i)\n",
    "        print(twet[ixx])\n",
    "        print()\n",
    "    ixx+=1"
   ]
  },
  {
   "cell_type": "code",
   "execution_count": null,
   "metadata": {},
   "outputs": [],
   "source": []
  }
 ],
 "metadata": {
  "kernelspec": {
   "display_name": "Python 3",
   "language": "python",
   "name": "python3"
  },
  "language_info": {
   "codemirror_mode": {
    "name": "ipython",
    "version": 3
   },
   "file_extension": ".py",
   "mimetype": "text/x-python",
   "name": "python",
   "nbconvert_exporter": "python",
   "pygments_lexer": "ipython3",
   "version": "3.7.3"
  }
 },
 "nbformat": 4,
 "nbformat_minor": 2
}
