{
 "cells": [
  {
   "cell_type": "code",
   "execution_count": 1,
   "metadata": {},
   "outputs": [],
   "source": [
    "import pandas as pd\n",
    "import joblib"
   ]
  },
  {
   "cell_type": "code",
   "execution_count": 2,
   "metadata": {},
   "outputs": [
    {
     "data": {
      "text/html": [
       "<div>\n",
       "<style scoped>\n",
       "    .dataframe tbody tr th:only-of-type {\n",
       "        vertical-align: middle;\n",
       "    }\n",
       "\n",
       "    .dataframe tbody tr th {\n",
       "        vertical-align: top;\n",
       "    }\n",
       "\n",
       "    .dataframe thead th {\n",
       "        text-align: right;\n",
       "    }\n",
       "</style>\n",
       "<table border=\"1\" class=\"dataframe\">\n",
       "  <thead>\n",
       "    <tr style=\"text-align: right;\">\n",
       "      <th></th>\n",
       "      <th>Unnamed: 0</th>\n",
       "      <th>tweet</th>\n",
       "      <th>label</th>\n",
       "    </tr>\n",
       "  </thead>\n",
       "  <tbody>\n",
       "    <tr>\n",
       "      <th>0</th>\n",
       "      <td>0</td>\n",
       "      <td>buka visi misi begitu pukau sehingga buat pres...</td>\n",
       "      <td>positive</td>\n",
       "    </tr>\n",
       "    <tr>\n",
       "      <th>1</th>\n",
       "      <td>1</td>\n",
       "      <td>lebih baik pakai teknologi lama kaya negara in...</td>\n",
       "      <td>positive</td>\n",
       "    </tr>\n",
       "    <tr>\n",
       "      <th>2</th>\n",
       "      <td>2</td>\n",
       "      <td>kok arguing without crying kokarguing arguingw...</td>\n",
       "      <td>positive</td>\n",
       "    </tr>\n",
       "    <tr>\n",
       "      <th>3</th>\n",
       "      <td>3</td>\n",
       "      <td>jalan politik politik satu bukan politik pecah...</td>\n",
       "      <td>positive</td>\n",
       "    </tr>\n",
       "    <tr>\n",
       "      <th>4</th>\n",
       "      <td>4</td>\n",
       "      <td>juga fans lihat tampil serang hahaha jugafans ...</td>\n",
       "      <td>negative</td>\n",
       "    </tr>\n",
       "  </tbody>\n",
       "</table>\n",
       "</div>"
      ],
      "text/plain": [
       "   Unnamed: 0                                              tweet     label\n",
       "0           0  buka visi misi begitu pukau sehingga buat pres...  positive\n",
       "1           1  lebih baik pakai teknologi lama kaya negara in...  positive\n",
       "2           2  kok arguing without crying kokarguing arguingw...  positive\n",
       "3           3  jalan politik politik satu bukan politik pecah...  positive\n",
       "4           4  juga fans lihat tampil serang hahaha jugafans ...  negative"
      ]
     },
     "execution_count": 2,
     "metadata": {},
     "output_type": "execute_result"
    }
   ],
   "source": [
    "df = pd.read_excel(\"data/tweet_bersih_100.xlsx\")\n",
    "twet = df.tweet.tolist()\n",
    "label = df.label.tolist()\n",
    "df.head()"
   ]
  },
  {
   "cell_type": "code",
   "execution_count": 3,
   "metadata": {},
   "outputs": [
    {
     "name": "stdout",
     "output_type": "stream",
     "text": [
      "negative    500\n",
      "positive    500\n",
      "Name: label, dtype: int64\n"
     ]
    }
   ],
   "source": [
    "pd.value_counts(df['label']).plot.bar(title='Data Sentimen')\n",
    "print(pd.value_counts(df['label']))"
   ]
  },
  {
   "cell_type": "markdown",
   "metadata": {},
   "source": [
    "# Pembagian data & pemodelan"
   ]
  },
  {
   "cell_type": "code",
   "execution_count": 4,
   "metadata": {},
   "outputs": [],
   "source": [
    "import numpy as np\n",
    "from sklearn.model_selection import KFold\n",
    "from sklearn import svm"
   ]
  },
  {
   "cell_type": "code",
   "execution_count": 5,
   "metadata": {},
   "outputs": [],
   "source": [
    "# clf = svm.SVC(kernel = \"rbf\", C = 1, gamma=1)\n",
    "# clf.fit(X, y)  "
   ]
  },
  {
   "cell_type": "code",
   "execution_count": 6,
   "metadata": {},
   "outputs": [],
   "source": [
    "from sklearn.feature_extraction.text import TfidfVectorizer\n",
    "corpus = twet\n",
    "vectorizer = TfidfVectorizer()\n",
    "save = vectorizer.fit(corpus)\n",
    "joblib.dump(save,\"model/tdidf.w\")\n",
    "X = vectorizer.fit_transform(corpus)"
   ]
  },
  {
   "cell_type": "code",
   "execution_count": 7,
   "metadata": {},
   "outputs": [
    {
     "name": "stdout",
     "output_type": "stream",
     "text": [
      "...................................................................................................100\n",
      "...................................................................................................200\n",
      "...................................................................................................300\n",
      "...................................................................................................400\n"
     ]
    },
    {
     "data": {
      "text/html": [
       "<div>\n",
       "<style scoped>\n",
       "    .dataframe tbody tr th:only-of-type {\n",
       "        vertical-align: middle;\n",
       "    }\n",
       "\n",
       "    .dataframe tbody tr th {\n",
       "        vertical-align: top;\n",
       "    }\n",
       "\n",
       "    .dataframe thead th {\n",
       "        text-align: right;\n",
       "    }\n",
       "</style>\n",
       "<table border=\"1\" class=\"dataframe\">\n",
       "  <thead>\n",
       "    <tr style=\"text-align: right;\">\n",
       "      <th></th>\n",
       "      <th>C</th>\n",
       "      <th>gamma</th>\n",
       "      <th>score</th>\n",
       "    </tr>\n",
       "  </thead>\n",
       "  <tbody>\n",
       "    <tr>\n",
       "      <th>384</th>\n",
       "      <td>2.0</td>\n",
       "      <td>0.5</td>\n",
       "      <td>0.765</td>\n",
       "    </tr>\n",
       "    <tr>\n",
       "      <th>383</th>\n",
       "      <td>2.0</td>\n",
       "      <td>0.4</td>\n",
       "      <td>0.764</td>\n",
       "    </tr>\n",
       "    <tr>\n",
       "      <th>385</th>\n",
       "      <td>2.0</td>\n",
       "      <td>0.6</td>\n",
       "      <td>0.764</td>\n",
       "    </tr>\n",
       "    <tr>\n",
       "      <th>364</th>\n",
       "      <td>1.9</td>\n",
       "      <td>0.5</td>\n",
       "      <td>0.763</td>\n",
       "    </tr>\n",
       "    <tr>\n",
       "      <th>365</th>\n",
       "      <td>1.9</td>\n",
       "      <td>0.6</td>\n",
       "      <td>0.762</td>\n",
       "    </tr>\n",
       "    <tr>\n",
       "      <th>345</th>\n",
       "      <td>1.8</td>\n",
       "      <td>0.6</td>\n",
       "      <td>0.761</td>\n",
       "    </tr>\n",
       "    <tr>\n",
       "      <th>325</th>\n",
       "      <td>1.7</td>\n",
       "      <td>0.6</td>\n",
       "      <td>0.760</td>\n",
       "    </tr>\n",
       "    <tr>\n",
       "      <th>344</th>\n",
       "      <td>1.8</td>\n",
       "      <td>0.5</td>\n",
       "      <td>0.760</td>\n",
       "    </tr>\n",
       "    <tr>\n",
       "      <th>386</th>\n",
       "      <td>2.0</td>\n",
       "      <td>0.7</td>\n",
       "      <td>0.759</td>\n",
       "    </tr>\n",
       "    <tr>\n",
       "      <th>326</th>\n",
       "      <td>1.7</td>\n",
       "      <td>0.7</td>\n",
       "      <td>0.759</td>\n",
       "    </tr>\n",
       "  </tbody>\n",
       "</table>\n",
       "</div>"
      ],
      "text/plain": [
       "       C  gamma  score\n",
       "384  2.0    0.5  0.765\n",
       "383  2.0    0.4  0.764\n",
       "385  2.0    0.6  0.764\n",
       "364  1.9    0.5  0.763\n",
       "365  1.9    0.6  0.762\n",
       "345  1.8    0.6  0.761\n",
       "325  1.7    0.6  0.760\n",
       "344  1.8    0.5  0.760\n",
       "386  2.0    0.7  0.759\n",
       "326  1.7    0.7  0.759"
      ]
     },
     "execution_count": 7,
     "metadata": {},
     "output_type": "execute_result"
    }
   ],
   "source": [
    "k = 10\n",
    "y = np.array(label)\n",
    "kf = KFold(n_splits=k)\n",
    "kf.get_n_splits(X)\n",
    "# print(kf)\n",
    "C_list     = np.arange(0.1, 2+0.1, 0.1)\n",
    "gamma_list = np.arange(0.1, 2+0.1, 0.1)\n",
    "\n",
    "C_list_ = list()\n",
    "gamma_list_ = list()\n",
    "rerata = list()\n",
    "ix=1\n",
    "for C in C_list:\n",
    "    for gamma in gamma_list:\n",
    "        C_list_.append(C)\n",
    "        gamma_list_.append(gamma)\n",
    "        \n",
    "        clf = svm.SVC(kernel = \"rbf\", C = C, gamma=gamma)\n",
    "        sc_10 = list()\n",
    "        for train_index, test_index in kf.split(X):\n",
    "        #     print(\"TRAIN:\", train_index, \"TEST:\", test_index)\n",
    "            X_train, X_test = X[train_index], X[test_index]\n",
    "            y_train, y_test = y[train_index], y[test_index]\n",
    "            clf.fit(X_train, y_train)\n",
    "    #         clf.fit(X, y)\n",
    "            sc = clf.score(X_test, y_test)\n",
    "            sc_10.append(sc)\n",
    "            \n",
    "        if ix%100==0:\n",
    "            print(ix)\n",
    "        else:\n",
    "            print(\".\", end=\"\")\n",
    "        ix+=1\n",
    "            \n",
    "        rerata.append(sum(sc_10)/k)\n",
    "dict_ = {\n",
    "    \"C\":C_list_,\n",
    "    \"gamma\":gamma_list_,\n",
    "    \"score\":rerata\n",
    "}\n",
    "df_hasil = pd.DataFrame.from_dict(dict_)\n",
    "sorted_ = df_hasil.sort_values(\"score\", axis = 0, ascending = False)\n",
    "sorted_.head(10)"
   ]
  },
  {
   "cell_type": "code",
   "execution_count": 14,
   "metadata": {},
   "outputs": [
    {
     "data": {
      "text/plain": [
       "400"
      ]
     },
     "execution_count": 14,
     "metadata": {},
     "output_type": "execute_result"
    }
   ],
   "source": [
    "len(C_list_)"
   ]
  },
  {
   "cell_type": "code",
   "execution_count": 15,
   "metadata": {},
   "outputs": [
    {
     "data": {
      "text/plain": [
       "0.5"
      ]
     },
     "execution_count": 15,
     "metadata": {},
     "output_type": "execute_result"
    }
   ],
   "source": [
    "sorted_.gamma.tolist()[0]"
   ]
  },
  {
   "cell_type": "code",
   "execution_count": 16,
   "metadata": {},
   "outputs": [
    {
     "data": {
      "text/plain": [
       "['model/svm.m']"
      ]
     },
     "execution_count": 16,
     "metadata": {},
     "output_type": "execute_result"
    }
   ],
   "source": [
    "clf = clf = svm.SVC(kernel = \"rbf\", C = sorted_.C.tolist()[0], gamma=sorted_.gamma.tolist()[0])\n",
    "save = clf.fit(X_train, y_train)\n",
    "joblib.dump(save,\"model/svm.m\")"
   ]
  },
  {
   "cell_type": "code",
   "execution_count": 17,
   "metadata": {},
   "outputs": [
    {
     "data": {
      "text/plain": [
       "0.958"
      ]
     },
     "execution_count": 17,
     "metadata": {},
     "output_type": "execute_result"
    }
   ],
   "source": [
    "save.score(X, y) #0.9761668321747765"
   ]
  },
  {
   "cell_type": "code",
   "execution_count": 12,
   "metadata": {},
   "outputs": [],
   "source": [
    "x = save.predict(X)"
   ]
  },
  {
   "cell_type": "code",
   "execution_count": 13,
   "metadata": {},
   "outputs": [
    {
     "name": "stdout",
     "output_type": "stream",
     "text": [
      "830\n",
      "positive\n",
      "label asli negative\n",
      "pak all out debat malam semua umpan lawan lahap habis bahkan jawab kerap jadi serang balik pakall allout outdebat debatmalam malamsemua semuaumpan umpanlawan lawanlahap lahaphabis habisbahkan bahkanjawab jawabkerap kerapjadi jadiserang serangbalik pakallout alloutdebat outdebatmalam debatmalamsemua malamsemuaumpan semuaumpanlawan umpanlawanlahap lawanlahaphabis lahaphabisbahkan habisbahkanjawab bahkanjawabkerap jawabkerapjadi kerapjadiserang jadiserangbalik pakalloutdebat alloutdebatmalam outdebatmalamsemua debatmalamsemuaumpan malamsemuaumpanlawan semuaumpanlawanlahap umpanlawanlahaphabis lawanlahaphabisbahkan lahaphabisbahkanjawab habisbahkanjawabkerap bahkanjawabkerapjadi jawabkerapjadiserang kerapjadiserangbalik pakalloutdebatmalam alloutdebatmalamsemua outdebatmalamsemuaumpan debatmalamsemuaumpanlawan malamsemuaumpanlawanlahap semuaumpanlawanlahaphabis umpanlawanlahaphabisbahkan lawanlahaphabisbahkanjawab lahaphabisbahkanjawabkerap habisbahkanjawabkerapjadi bahkanjawabkerapjadiserang jawabkerapjadiserangbalik\n",
      "\n",
      "858\n",
      "positive\n",
      "label asli negative\n",
      "apresiasi saudara 2 di papua utk pakde jadi percuma kalian tebar bohong bhw papua derita apresiasisaudara saudara2 2di dipapua papuautk utkpakde pakdejadi jadipercuma percumakalian kaliantebar tebarbohong bohongbhw bhwpapua papuaderita apresiasisaudara2 saudara2di 2dipapua dipapuautk papuautkpakde utkpakdejadi pakdejadipercuma jadipercumakalian percumakaliantebar kaliantebarbohong tebarbohongbhw bohongbhwpapua bhwpapuaderita apresiasisaudara2di saudara2dipapua 2dipapuautk dipapuautkpakde papuautkpakdejadi utkpakdejadipercuma pakdejadipercumakalian jadipercumakaliantebar percumakaliantebarbohong kaliantebarbohongbhw tebarbohongbhwpapua bohongbhwpapuaderita apresiasisaudara2dipapua saudara2dipapuautk 2dipapuautkpakde dipapuautkpakdejadi papuautkpakdejadipercuma utkpakdejadipercumakalian pakdejadipercumakaliantebar jadipercumakaliantebarbohong percumakaliantebarbohongbhw kaliantebarbohongbhwpapua tebarbohongbhwpapuaderita\n",
      "\n",
      "882\n",
      "positive\n",
      "label asli negative\n",
      "lama kawan lalu musuh lama tetangga lalu tak saling bicara semua karena beda pilih lamakawan kawanlalu lalumusuh musuhlama lamatetangga tetanggalalu lalutak taksaling salingbicara bicarasemua semuakarena karenabeda bedapilih lamakawanlalu kawanlalumusuh lalumusuhlama musuhlamatetangga lamatetanggalalu tetanggalalutak lalutaksaling taksalingbicara salingbicarasemua bicarasemuakarena semuakarenabeda karenabedapilih lamakawanlalumusuh kawanlalumusuhlama lalumusuhlamatetangga musuhlamatetanggalalu lamatetanggalalutak tetanggalalutaksaling lalutaksalingbicara taksalingbicarasemua salingbicarasemuakarena bicarasemuakarenabeda semuakarenabedapilih lamakawanlalumusuhlama kawanlalumusuhlamatetangga lalumusuhlamatetanggalalu musuhlamatetanggalalutak lamatetanggalalutaksaling tetanggalalutaksalingbicara lalutaksalingbicarasemua taksalingbicarasemuakarena salingbicarasemuakarenabeda bicarasemuakarenabedapilih\n",
      "\n",
      "888\n",
      "positive\n",
      "label asli negative\n",
      "rantai sahabat pak pak akan putus gara 2 debatpilpres 2019 dengerin tuh tkn-bpn cebongs kampret rantaisahabat sahabatpak pakpak pakakan akanputus putusgara gara2 2debatpilpres debatpilpres2019 2019dengerin dengerintuh tuhtkn-bpn tkn-bpncebongs cebongskampret rantaisahabatpak sahabatpakpak pakpakakan pakakanputus akanputusgara putusgara2 gara2debatpilpres 2debatpilpres2019 debatpilpres2019dengerin 2019dengerintuh dengerintuhtkn-bpn tuhtkn-bpncebongs tkn-bpncebongskampret rantaisahabatpakpak sahabatpakpakakan pakpakakanputus pakakanputusgara akanputusgara2 putusgara2debatpilpres gara2debatpilpres2019 2debatpilpres2019dengerin debatpilpres2019dengerintuh 2019dengerintuhtkn-bpn dengerintuhtkn-bpncebongs tuhtkn-bpncebongskampret rantaisahabatpakpakakan sahabatpakpakakanputus pakpakakanputusgara pakakanputusgara2 akanputusgara2debatpilpres putusgara2debatpilpres2019 gara2debatpilpres2019dengerin 2debatpilpres2019dengerintuh debatpilpres2019dengerintuhtkn-bpn 2019dengerintuhtkn-bpncebongs dengerintuhtkn-bpncebongskampret\n",
      "\n",
      "893\n",
      "positive\n",
      "label asli negative\n",
      "jng pilih pimpin bohong ingkar janji provokasi rakyat kacang lupa kulit pilih pimpin yg jujur jngpilih pilihpimpin pimpinbohong bohongingkar ingkarjanji janjiprovokasi provokasirakyat rakyatkacang kacanglupa lupakulit kulitpilih pilihpimpin pimpinyg ygjujur jngpilihpimpin pilihpimpinbohong pimpinbohongingkar bohongingkarjanji ingkarjanjiprovokasi janjiprovokasirakyat provokasirakyatkacang rakyatkacanglupa kacanglupakulit lupakulitpilih kulitpilihpimpin pilihpimpinyg pimpinygjujur jngpilihpimpinbohong pilihpimpinbohongingkar pimpinbohongingkarjanji bohongingkarjanjiprovokasi ingkarjanjiprovokasirakyat janjiprovokasirakyatkacang provokasirakyatkacanglupa rakyatkacanglupakulit kacanglupakulitpilih lupakulitpilihpimpin kulitpilihpimpinyg pilihpimpinygjujur jngpilihpimpinbohongingkar pilihpimpinbohongingkarjanji pimpinbohongingkarjanjiprovokasi bohongingkarjanjiprovokasirakyat ingkarjanjiprovokasirakyatkacang janjiprovokasirakyatkacanglupa provokasirakyatkacanglupakulit rakyatkacanglupakulitpilih kacanglupakulitpilihpimpin lupakulitpilihpimpinyg kulitpilihpimpinygjujur\n",
      "\n",
      "895\n",
      "positive\n",
      "label asli negative\n",
      "pak trauma pecat tni begini ngomongnya justru pak sipil percaya sama tni salut paktrauma traumapecat pecattni tnibegini beginingomongnya ngomongnyajustru justrupak paksipil sipilpercaya percayasama samatni tnisalut paktraumapecat traumapecattni pecattnibegini tnibeginingomongnya beginingomongnyajustru ngomongnyajustrupak justrupaksipil paksipilpercaya sipilpercayasama percayasamatni samatnisalut paktraumapecattni traumapecattnibegini pecattnibeginingomongnya tnibeginingomongnyajustru beginingomongnyajustrupak ngomongnyajustrupaksipil justrupaksipilpercaya paksipilpercayasama sipilpercayasamatni percayasamatnisalut paktraumapecattnibegini traumapecattnibeginingomongnya pecattnibeginingomongnyajustru tnibeginingomongnyajustrupak beginingomongnyajustrupaksipil ngomongnyajustrupaksipilpercaya justrupaksipilpercayasama paksipilpercayasamatni sipilpercayasamatnisalut\n",
      "\n",
      "931\n",
      "positive\n",
      "label asli negative\n",
      "bukan percaya dgn mampu tni tp hrs tni siap for the worst scenario lindung indonesia prabowo bukanpercaya percayadgn dgnmampu mamputni tnitp tphrs hrstni tnisiap siapfor forthe theworst worstscenario scenariolindung lindungindonesia indonesiaprabowo bukanpercayadgn percayadgnmampu dgnmamputni mamputnitp tnitphrs tphrstni hrstnisiap tnisiapfor siapforthe fortheworst theworstscenario worstscenariolindung scenariolindungindonesia lindungindonesiaprabowo bukanpercayadgnmampu percayadgnmamputni dgnmamputnitp mamputnitphrs tnitphrstni tphrstnisiap hrstnisiapfor tnisiapforthe siapfortheworst fortheworstscenario theworstscenariolindung worstscenariolindungindonesia scenariolindungindonesiaprabowo bukanpercayadgnmamputni percayadgnmamputnitp dgnmamputnitphrs mamputnitphrstni tnitphrstnisiap tphrstnisiapfor hrstnisiapforthe tnisiapfortheworst siapfortheworstscenario fortheworstscenariolindung theworstscenariolindungindonesia worstscenariolindungindonesiaprabowo\n",
      "\n",
      "932\n",
      "positive\n",
      "label asli negative\n",
      "tidak mau mati jabat bpk dulu pernah kurus he he tidakmau maumati matijabat jabatbpk bpkdulu dulupernah pernahkurus kurushe hehe tidakmaumati maumatijabat matijabatbpk jabatbpkdulu bpkdulupernah dulupernahkurus pernahkurushe kurushehe tidakmaumatijabat maumatijabatbpk matijabatbpkdulu jabatbpkdulupernah bpkdulupernahkurus dulupernahkurushe pernahkurushehe tidakmaumatijabatbpk maumatijabatbpkdulu matijabatbpkdulupernah jabatbpkdulupernahkurus bpkdulupernahkurushe dulupernahkurushehe\n",
      "\n",
      "936\n",
      "positive\n",
      "label asli negative\n",
      "baru era daulat laut nasional tega kapal kapal asing kini takut curi ikan teritori nasio baruera eradaulat daulatlaut lautnasional nasionaltega tegakapal kapalkapal kapalasing asingkini kinitakut takutcuri curiikan ikanteritori teritorinasio barueradaulat eradaulatlaut daulatlautnasional lautnasionaltega nasionaltegakapal tegakapalkapal kapalkapalasing kapalasingkini asingkinitakut kinitakutcuri takutcuriikan curiikanteritori ikanteritorinasio barueradaulatlaut eradaulatlautnasional daulatlautnasionaltega lautnasionaltegakapal nasionaltegakapalkapal tegakapalkapalasing kapalkapalasingkini kapalasingkinitakut asingkinitakutcuri kinitakutcuriikan takutcuriikanteritori curiikanteritorinasio barueradaulatlautnasional eradaulatlautnasionaltega daulatlautnasionaltegakapal lautnasionaltegakapalkapal nasionaltegakapalkapalasing tegakapalkapalasingkini kapalkapalasingkinitakut kapalasingkinitakutcuri asingkinitakutcuriikan kinitakutcuriikanteritori takutcuriikanteritorinasio\n",
      "\n",
      "944\n",
      "positive\n",
      "label asli negative\n",
      "kalau bahasa simpel jin numpang sm genderuwo kalaubahasa bahasasimpel simpeljin jinnumpang numpangsm smgenderuwo kalaubahasasimpel bahasasimpeljin simpeljinnumpang jinnumpangsm numpangsmgenderuwo kalaubahasasimpeljin bahasasimpeljinnumpang simpeljinnumpangsm jinnumpangsmgenderuwo kalaubahasasimpeljinnumpang bahasasimpeljinnumpangsm simpeljinnumpangsmgenderuwo\n",
      "\n",
      "945\n",
      "positive\n",
      "label asli negative\n",
      "ahmad tangkap polisi karna ujar benci gakda hubung ama pilpres sama bahar bin smith tangkap polisi ahmadtangkap tangkappolisi polisikarna karnaujar ujarbenci bencigakda gakdahubung hubungama amapilpres pilpressama samabahar baharbin binsmith smithtangkap tangkappolisi ahmadtangkappolisi tangkappolisikarna polisikarnaujar karnaujarbenci ujarbencigakda bencigakdahubung gakdahubungama hubungamapilpres amapilpressama pilpressamabahar samabaharbin baharbinsmith binsmithtangkap smithtangkappolisi ahmadtangkappolisikarna tangkappolisikarnaujar polisikarnaujarbenci karnaujarbencigakda ujarbencigakdahubung bencigakdahubungama gakdahubungamapilpres hubungamapilpressama amapilpressamabahar pilpressamabaharbin samabaharbinsmith baharbinsmithtangkap binsmithtangkappolisi ahmadtangkappolisikarnaujar tangkappolisikarnaujarbenci polisikarnaujarbencigakda karnaujarbencigakdahubung ujarbencigakdahubungama bencigakdahubungamapilpres gakdahubungamapilpressama hubungamapilpressamabahar amapilpressamabaharbin pilpressamabaharbinsmith samabaharbinsmithtangkap baharbinsmithtangkappolisi\n",
      "\n",
      "946\n",
      "positive\n",
      "label asli negative\n",
      "makan tuh radar prabowobentengnkri 01caprespendustaabadi makantuh tuhradar radarprabowobentengnkri prabowobentengnkri01caprespendustaabadi makantuhradar tuhradarprabowobentengnkri radarprabowobentengnkri01caprespendustaabadi makantuhradarprabowobentengnkri tuhradarprabowobentengnkri01caprespendustaabadi makantuhradarprabowobentengnkri01caprespendustaabadi\n",
      "\n",
      "948\n",
      "positive\n",
      "label asli negative\n",
      "kesi tuh si engkong gue g mo pilih kong prabowobentengnkri prabowobentengnkri kesituh tuhsi siengkong engkonggue gueg gmo mopilih pilihkong kongprabowobentengnkri prabowobentengnkriprabowobentengnkri kesituhsi tuhsiengkong siengkonggue engkonggueg guegmo gmopilih mopilihkong pilihkongprabowobentengnkri kongprabowobentengnkriprabowobentengnkri kesituhsiengkong tuhsiengkonggue siengkonggueg engkongguegmo guegmopilih gmopilihkong mopilihkongprabowobentengnkri pilihkongprabowobentengnkriprabowobentengnkri kesituhsiengkonggue tuhsiengkonggueg siengkongguegmo engkongguegmopilih guegmopilihkong gmopilihkongprabowobentengnkri mopilihkongprabowobentengnkriprabowobentengnkri\n",
      "\n",
      "953\n",
      "positive\n",
      "label asli negative\n",
      "pak upaya masyarakat sulit tarik pungli urus segala pakupaya upayamasyarakat masyarakatsulit sulittarik tarikpungli pungliurus urussegala pakupayamasyarakat upayamasyarakatsulit masyarakatsulittarik sulittarikpungli tarikpungliurus pungliurussegala pakupayamasyarakatsulit upayamasyarakatsulittarik masyarakatsulittarikpungli sulittarikpungliurus tarikpungliurussegala pakupayamasyarakatsulittarik upayamasyarakatsulittarikpungli masyarakatsulittarikpungliurus sulittarikpungliurussegala\n",
      "\n",
      "954\n",
      "positive\n",
      "label asli negative\n",
      "salah kali zo justru pak laksana clean government jadi pada gerah panas gak uang salahkali kalizo zojustru justrupak paklaksana laksanaclean cleangovernment governmentjadi jadipada padagerah gerahpanas panasgak gakuang salahkalizo kalizojustru zojustrupak justrupaklaksana paklaksanaclean laksanacleangovernment cleangovernmentjadi governmentjadipada jadipadagerah padagerahpanas gerahpanasgak panasgakuang salahkalizojustru kalizojustrupak zojustrupaklaksana justrupaklaksanaclean paklaksanacleangovernment laksanacleangovernmentjadi cleangovernmentjadipada governmentjadipadagerah jadipadagerahpanas padagerahpanasgak gerahpanasgakuang salahkalizojustrupak kalizojustrupaklaksana zojustrupaklaksanaclean justrupaklaksanacleangovernment paklaksanacleangovernmentjadi laksanacleangovernmentjadipada cleangovernmentjadipadagerah governmentjadipadagerahpanas jadipadagerahpanasgak padagerahpanasgakuang\n",
      "\n",
      "959\n",
      "positive\n",
      "label asli negative\n",
      "brangkat kerja naik taksi kepala pusing ga bawa motor jaman susah korupsi padahal bnyak yg setor brangkatkerja kerjanaik naiktaksi taksikepala kepalapusing pusingga gabawa bawamotor motorjaman jamansusah susahkorupsi korupsipadahal padahalbnyak bnyakyg ygsetor brangkatkerjanaik kerjanaiktaksi naiktaksikepala taksikepalapusing kepalapusingga pusinggabawa gabawamotor bawamotorjaman motorjamansusah jamansusahkorupsi susahkorupsipadahal korupsipadahalbnyak padahalbnyakyg bnyakygsetor brangkatkerjanaiktaksi kerjanaiktaksikepala naiktaksikepalapusing taksikepalapusingga kepalapusinggabawa pusinggabawamotor gabawamotorjaman bawamotorjamansusah motorjamansusahkorupsi jamansusahkorupsipadahal susahkorupsipadahalbnyak korupsipadahalbnyakyg padahalbnyakygsetor brangkatkerjanaiktaksikepala kerjanaiktaksikepalapusing naiktaksikepalapusingga taksikepalapusinggabawa kepalapusinggabawamotor pusinggabawamotorjaman gabawamotorjamansusah bawamotorjamansusahkorupsi motorjamansusahkorupsipadahal jamansusahkorupsipadahalbnyak susahkorupsipadahalbnyakyg korupsipadahalbnyakygsetor\n",
      "\n",
      "960\n",
      "positive\n",
      "label asli negative\n",
      "panjang debat lihat goyah argumen kokoh tak yakin panjangdebat debatlihat lihatgoyah goyahargumen argumenkokoh kokohtak takyakin panjangdebatlihat debatlihatgoyah lihatgoyahargumen goyahargumenkokoh argumenkokohtak kokohtakyakin panjangdebatlihatgoyah debatlihatgoyahargumen lihatgoyahargumenkokoh goyahargumenkokohtak argumenkokohtakyakin panjangdebatlihatgoyahargumen debatlihatgoyahargumenkokoh lihatgoyahargumenkokohtak goyahargumenkokohtakyakin\n",
      "\n",
      "966\n",
      "positive\n",
      "label asli negative\n",
      "capres nomor urut 02 khawatir kalau semua labuh bandara operate usaha asing capresnomor nomorurut urut02 02khawatir khawatirkalau kalausemua semualabuh labuhbandara bandaraoperate operateusaha usahaasing capresnomorurut nomorurut02 urut02khawatir 02khawatirkalau khawatirkalausemua kalausemualabuh semualabuhbandara labuhbandaraoperate bandaraoperateusaha operateusahaasing capresnomorurut02 nomorurut02khawatir urut02khawatirkalau 02khawatirkalausemua khawatirkalausemualabuh kalausemualabuhbandara semualabuhbandaraoperate labuhbandaraoperateusaha bandaraoperateusahaasing capresnomorurut02khawatir nomorurut02khawatirkalau urut02khawatirkalausemua 02khawatirkalausemualabuh khawatirkalausemualabuhbandara kalausemualabuhbandaraoperate semualabuhbandaraoperateusaha labuhbandaraoperateusahaasing\n",
      "\n",
      "968\n",
      "positive\n",
      "label asli negative\n",
      "mantebb kerenn smoga bs ikut seluruh pelosok nusantara mantebbkerenn kerennsmoga smogabs bsikut ikutseluruh seluruhpelosok pelosoknusantara mantebbkerennsmoga kerennsmogabs smogabsikut bsikutseluruh ikutseluruhpelosok seluruhpelosoknusantara mantebbkerennsmogabs kerennsmogabsikut smogabsikutseluruh bsikutseluruhpelosok ikutseluruhpelosoknusantara mantebbkerennsmogabsikut kerennsmogabsikutseluruh smogabsikutseluruhpelosok bsikutseluruhpelosoknusantara\n",
      "\n",
      "969\n",
      "positive\n",
      "label asli negative\n",
      "pns pilih karna sulit laku pungli anggar potong ketat anggar pnspilih pilihkarna karnasulit sulitlaku lakupungli punglianggar anggarpotong potongketat ketatanggar pnspilihkarna pilihkarnasulit karnasulitlaku sulitlakupungli lakupunglianggar punglianggarpotong anggarpotongketat potongketatanggar pnspilihkarnasulit pilihkarnasulitlaku karnasulitlakupungli sulitlakupunglianggar lakupunglianggarpotong punglianggarpotongketat anggarpotongketatanggar pnspilihkarnasulitlaku pilihkarnasulitlakupungli karnasulitlakupunglianggar sulitlakupunglianggarpotong lakupunglianggarpotongketat punglianggarpotongketatanggar\n",
      "\n",
      "971\n",
      "positive\n",
      "label asli negative\n",
      "pilih sandi saya ingin bpjs puruk terus tidak optimal beri solusi awat sehat pilihsandi sandisaya sayaingin inginbpjs bpjspuruk purukterus terustidak tidakoptimal optimalberi berisolusi solusiawat awatsehat pilihsandisaya sandisayaingin sayainginbpjs inginbpjspuruk bpjspurukterus purukterustidak terustidakoptimal tidakoptimalberi optimalberisolusi berisolusiawat solusiawatsehat pilihsandisayaingin sandisayainginbpjs sayainginbpjspuruk inginbpjspurukterus bpjspurukterustidak purukterustidakoptimal terustidakoptimalberi tidakoptimalberisolusi optimalberisolusiawat berisolusiawatsehat pilihsandisayainginbpjs sandisayainginbpjspuruk sayainginbpjspurukterus inginbpjspurukterustidak bpjspurukterustidakoptimal purukterustidakoptimalberi terustidakoptimalberisolusi tidakoptimalberisolusiawat optimalberisolusiawatsehat\n",
      "\n",
      "972\n",
      "positive\n",
      "label asli negative\n",
      "salah besar sih gak pilih pak lembaga perintah yg bebas korupsi jual beli jabat salahbesar besarsih sihgak gakpilih pilihpak paklembaga lembagaperintah perintahyg ygbebas bebaskorupsi korupsijual jualbeli belijabat salahbesarsih besarsihgak sihgakpilih gakpilihpak pilihpaklembaga paklembagaperintah lembagaperintahyg perintahygbebas ygbebaskorupsi bebaskorupsijual korupsijualbeli jualbelijabat salahbesarsihgak besarsihgakpilih sihgakpilihpak gakpilihpaklembaga pilihpaklembagaperintah paklembagaperintahyg lembagaperintahygbebas perintahygbebaskorupsi ygbebaskorupsijual bebaskorupsijualbeli korupsijualbelijabat salahbesarsihgakpilih besarsihgakpilihpak sihgakpilihpaklembaga gakpilihpaklembagaperintah pilihpaklembagaperintahyg paklembagaperintahygbebas lembagaperintahygbebaskorupsi perintahygbebaskorupsijual ygbebaskorupsijualbeli bebaskorupsijualbelijabat\n",
      "\n",
      "973\n",
      "positive\n",
      "label asli negative\n",
      "milik banyak pretasi ada 47 prestasi milik salah satu cabut subsidi bbm milikbanyak banyakpretasi pretasiada ada47 47prestasi prestasimilik miliksalah salahsatu satucabut cabutsubsidi subsidibbm milikbanyakpretasi banyakpretasiada pretasiada47 ada47prestasi 47prestasimilik prestasimiliksalah miliksalahsatu salahsatucabut satucabutsubsidi cabutsubsidibbm milikbanyakpretasiada banyakpretasiada47 pretasiada47prestasi ada47prestasimilik 47prestasimiliksalah prestasimiliksalahsatu miliksalahsatucabut salahsatucabutsubsidi satucabutsubsidibbm milikbanyakpretasiada47 banyakpretasiada47prestasi pretasiada47prestasimilik ada47prestasimiliksalah 47prestasimiliksalahsatu prestasimiliksalahsatucabut miliksalahsatucabutsubsidi salahsatucabutsubsidibbm\n",
      "\n",
      "975\n",
      "positive\n",
      "label asli negative\n",
      "bagaimana mau pulang habib rizieq kalau tidak menang jadi presiden kata subianto bagaimanamau maupulang pulanghabib habibrizieq rizieqkalau kalautidak tidakmenang menangjadi jadipresiden presidenkata katasubianto bagaimanamaupulang maupulanghabib pulanghabibrizieq habibrizieqkalau rizieqkalautidak kalautidakmenang tidakmenangjadi menangjadipresiden jadipresidenkata presidenkatasubianto bagaimanamaupulanghabib maupulanghabibrizieq pulanghabibrizieqkalau habibrizieqkalautidak rizieqkalautidakmenang kalautidakmenangjadi tidakmenangjadipresiden menangjadipresidenkata jadipresidenkatasubianto bagaimanamaupulanghabibrizieq maupulanghabibrizieqkalau pulanghabibrizieqkalautidak habibrizieqkalautidakmenang rizieqkalautidakmenangjadi kalautidakmenangjadipresiden tidakmenangjadipresidenkata menangjadipresidenkatasubianto\n",
      "\n",
      "976\n",
      "positive\n",
      "label asli negative\n",
      "kalau pasu asing masuk tentara tindak adi napitupulu dukung capres 01 kalaupasu pasuasing asingmasuk masuktentara tentaratindak tindakadi adinapitupulu napitupuludukung dukungcapres capres01 kalaupasuasing pasuasingmasuk asingmasuktentara masuktentaratindak tentaratindakadi tindakadinapitupulu adinapitupuludukung napitupuludukungcapres dukungcapres01 kalaupasuasingmasuk pasuasingmasuktentara asingmasuktentaratindak masuktentaratindakadi tentaratindakadinapitupulu tindakadinapitupuludukung adinapitupuludukungcapres napitupuludukungcapres01 kalaupasuasingmasuktentara pasuasingmasuktentaratindak asingmasuktentaratindakadi masuktentaratindakadinapitupulu tentaratindakadinapitupuludukung tindakadinapitupuludukungcapres adinapitupuludukungcapres01\n",
      "\n",
      "977\n",
      "positive\n",
      "label asli negative\n",
      "justru makna bersit nada kalah krn rasa kalah justrumakna maknabersit bersitnada nadakalah kalahkrn krnrasa rasakalah justrumaknabersit maknabersitnada bersitnadakalah nadakalahkrn kalahkrnrasa krnrasakalah justrumaknabersitnada maknabersitnadakalah bersitnadakalahkrn nadakalahkrnrasa kalahkrnrasakalah justrumaknabersitnadakalah maknabersitnadakalahkrn bersitnadakalahkrnrasa nadakalahkrnrasakalah\n",
      "\n",
      "978\n",
      "positive\n",
      "label asli negative\n",
      "rubah watak susah susah jd presiden https t co esw 5qi9add rubahwatak wataksusah susahsusah susahjd jdpresiden presidenhttps httpst tco coesw esw5qi9add rubahwataksusah wataksusahsusah susahsusahjd susahjdpresiden jdpresidenhttps presidenhttpst httpstco tcoesw coesw5qi9add rubahwataksusahsusah wataksusahsusahjd susahsusahjdpresiden susahjdpresidenhttps jdpresidenhttpst presidenhttpstco httpstcoesw tcoesw5qi9add rubahwataksusahsusahjd wataksusahsusahjdpresiden susahsusahjdpresidenhttps susahjdpresidenhttpst jdpresidenhttpstco presidenhttpstcoesw httpstcoesw5qi9add\n",
      "\n",
      "979\n",
      "positive\n",
      "label asli negative\n",
      "banyak bandara asai asing buat khawatir serang luar https t co xj1ofes136 banyakbandara bandaraasai asaiasing asingbuat buatkhawatir khawatirserang serangluar luarhttps httpst tco coxj1ofes136 banyakbandaraasai bandaraasaiasing asaiasingbuat asingbuatkhawatir buatkhawatirserang khawatirserangluar serangluarhttps luarhttpst httpstco tcoxj1ofes136 banyakbandaraasaiasing bandaraasaiasingbuat asaiasingbuatkhawatir asingbuatkhawatirserang buatkhawatirserangluar khawatirserangluarhttps serangluarhttpst luarhttpstco httpstcoxj1ofes136 banyakbandaraasaiasingbuat bandaraasaiasingbuatkhawatir asaiasingbuatkhawatirserang asingbuatkhawatirserangluar buatkhawatirserangluarhttps khawatirserangluarhttpst serangluarhttpstco luarhttpstcoxj1ofes136\n",
      "\n",
      "980\n",
      "positive\n",
      "label asli negative\n",
      "bahas pancasila udah final semntara organisasi transnasional yg ideologi radikal gk pernah singgung bahaspancasila pancasilaudah udahfinal finalsemntara semntaraorganisasi organisasitransnasional transnasionalyg ygideologi ideologiradikal radikalgk gkpernah pernahsinggung bahaspancasilaudah pancasilaudahfinal udahfinalsemntara finalsemntaraorganisasi semntaraorganisasitransnasional organisasitransnasionalyg transnasionalygideologi ygideologiradikal ideologiradikalgk radikalgkpernah gkpernahsinggung bahaspancasilaudahfinal pancasilaudahfinalsemntara udahfinalsemntaraorganisasi finalsemntaraorganisasitransnasional semntaraorganisasitransnasionalyg organisasitransnasionalygideologi transnasionalygideologiradikal ygideologiradikalgk ideologiradikalgkpernah radikalgkpernahsinggung bahaspancasilaudahfinalsemntara pancasilaudahfinalsemntaraorganisasi udahfinalsemntaraorganisasitransnasional finalsemntaraorganisasitransnasionalyg semntaraorganisasitransnasionalygideologi organisasitransnasionalygideologiradikal transnasionalygideologiradikalgk ygideologiradikalgkpernah ideologiradikalgkpernahsinggung\n",
      "\n",
      "981\n",
      "positive\n",
      "label asli negative\n",
      "hadeuh salah data oyy bong pinter dikit napah prabowobentengnkri hadeuhsalah salahdata dataoyy oyybong bongpinter pinterdikit dikitnapah napahprabowobentengnkri hadeuhsalahdata salahdataoyy dataoyybong oyybongpinter bongpinterdikit pinterdikitnapah dikitnapahprabowobentengnkri hadeuhsalahdataoyy salahdataoyybong dataoyybongpinter oyybongpinterdikit bongpinterdikitnapah pinterdikitnapahprabowobentengnkri hadeuhsalahdataoyybong salahdataoyybongpinter dataoyybongpinterdikit oyybongpinterdikitnapah bongpinterdikitnapahprabowobentengnkri\n",
      "\n",
      "982\n",
      "positive\n",
      "label asli negative\n",
      "mau begini acung jari telunjuk tak enak tim jokowi-maruf benci tauhid kan mereka benci tauhid maubegini beginiacung acungjari jaritelunjuk telunjuktak takenak enaktim timjokowi-maruf jokowi-marufbenci bencitauhid tauhidkan kanmereka merekabenci bencitauhid maubeginiacung beginiacungjari acungjaritelunjuk jaritelunjuktak telunjuktakenak takenaktim enaktimjokowi-maruf timjokowi-marufbenci jokowi-marufbencitauhid bencitauhidkan tauhidkanmereka kanmerekabenci merekabencitauhid maubeginiacungjari beginiacungjaritelunjuk acungjaritelunjuktak jaritelunjuktakenak telunjuktakenaktim takenaktimjokowi-maruf enaktimjokowi-marufbenci timjokowi-marufbencitauhid jokowi-marufbencitauhidkan bencitauhidkanmereka tauhidkanmerekabenci kanmerekabencitauhid maubeginiacungjaritelunjuk beginiacungjaritelunjuktak acungjaritelunjuktakenak jaritelunjuktakenaktim telunjuktakenaktimjokowi-maruf takenaktimjokowi-marufbenci enaktimjokowi-marufbencitauhid timjokowi-marufbencitauhidkan jokowi-marufbencitauhidkanmereka bencitauhidkanmerekabenci tauhidkanmerekabencitauhid\n",
      "\n",
      "985\n",
      "positive\n",
      "label asli negative\n",
      "narasi utama pakai debat kali adalah narasi asing narasi anti asing memang erat topik debat narasiutama utamapakai pakaidebat debatkali kaliadalah adalahnarasi narasiasing asingnarasi narasianti antiasing asingmemang memangerat erattopik topikdebat narasiutamapakai utamapakaidebat pakaidebatkali debatkaliadalah kaliadalahnarasi adalahnarasiasing narasiasingnarasi asingnarasianti narasiantiasing antiasingmemang asingmemangerat memangerattopik erattopikdebat narasiutamapakaidebat utamapakaidebatkali pakaidebatkaliadalah debatkaliadalahnarasi kaliadalahnarasiasing adalahnarasiasingnarasi narasiasingnarasianti asingnarasiantiasing narasiantiasingmemang antiasingmemangerat asingmemangerattopik memangerattopikdebat narasiutamapakaidebatkali utamapakaidebatkaliadalah pakaidebatkaliadalahnarasi debatkaliadalahnarasiasing kaliadalahnarasiasingnarasi adalahnarasiasingnarasianti narasiasingnarasiantiasing asingnarasiantiasingmemang narasiantiasingmemangerat antiasingmemangerattopik asingmemangerattopikdebat\n",
      "\n",
      "986\n",
      "positive\n",
      "label asli negative\n",
      "lama kita suguh fitnah keji hadap presiden nyata justru konon turun khianat lamakita kitasuguh suguhfitnah fitnahkeji kejihadap hadappresiden presidennyata nyatajustru justrukonon kononturun turunkhianat lamakitasuguh kitasuguhfitnah suguhfitnahkeji fitnahkejihadap kejihadappresiden hadappresidennyata presidennyatajustru nyatajustrukonon justrukononturun kononturunkhianat lamakitasuguhfitnah kitasuguhfitnahkeji suguhfitnahkejihadap fitnahkejihadappresiden kejihadappresidennyata hadappresidennyatajustru presidennyatajustrukonon nyatajustrukononturun justrukononturunkhianat lamakitasuguhfitnahkeji kitasuguhfitnahkejihadap suguhfitnahkejihadappresiden fitnahkejihadappresidennyata kejihadappresidennyatajustru hadappresidennyatajustrukonon presidennyatajustrukononturun nyatajustrukononturunkhianat\n",
      "\n",
      "987\n",
      "positive\n",
      "label asli negative\n",
      "pak emosi klo sdh bicara ttg daulat aman nkri balik rakyat lindung pakemosi emosiklo klosdh sdhbicara bicarattg ttgdaulat daulataman amannkri nkribalik balikrakyat rakyatlindung pakemosiklo emosiklosdh klosdhbicara sdhbicarattg bicarattgdaulat ttgdaulataman daulatamannkri amannkribalik nkribalikrakyat balikrakyatlindung pakemosiklosdh emosiklosdhbicara klosdhbicarattg sdhbicarattgdaulat bicarattgdaulataman ttgdaulatamannkri daulatamannkribalik amannkribalikrakyat nkribalikrakyatlindung pakemosiklosdhbicara emosiklosdhbicarattg klosdhbicarattgdaulat sdhbicarattgdaulataman bicarattgdaulatamannkri ttgdaulatamannkribalik daulatamannkribalikrakyat amannkribalikrakyatlindung\n",
      "\n",
      "988\n",
      "positive\n",
      "label asli negative\n",
      "orang masa lalu sukses masa lalu gagal sesuai ubah hari memang tolak pak orangmasa masalalu lalusukses suksesmasa masalalu lalugagal gagalsesuai sesuaiubah ubahhari harimemang memangtolak tolakpak orangmasalalu masalalusukses lalusuksesmasa suksesmasalalu masalalugagal lalugagalsesuai gagalsesuaiubah sesuaiubahhari ubahharimemang harimemangtolak memangtolakpak orangmasalalusukses masalalusuksesmasa lalusuksesmasalalu suksesmasalalugagal masalalugagalsesuai lalugagalsesuaiubah gagalsesuaiubahhari sesuaiubahharimemang ubahharimemangtolak harimemangtolakpak orangmasalalusuksesmasa masalalusuksesmasalalu lalusuksesmasalalugagal suksesmasalalugagalsesuai masalalugagalsesuaiubah lalugagalsesuaiubahhari gagalsesuaiubahharimemang sesuaiubahharimemangtolak ubahharimemangtolakpak\n",
      "\n",
      "991\n",
      "positive\n",
      "label asli negative\n",
      "oke oce bangkrut gagal tingkat daya beli masyarakat okeoce ocebangkrut bangkrutgagal gagaltingkat tingkatdaya dayabeli belimasyarakat okeocebangkrut ocebangkrutgagal bangkrutgagaltingkat gagaltingkatdaya tingkatdayabeli dayabelimasyarakat okeocebangkrutgagal ocebangkrutgagaltingkat bangkrutgagaltingkatdaya gagaltingkatdayabeli tingkatdayabelimasyarakat okeocebangkrutgagaltingkat ocebangkrutgagaltingkatdaya bangkrutgagaltingkatdayabeli gagaltingkatdayabelimasyarakat\n",
      "\n",
      "992\n",
      "positive\n",
      "label asli negative\n",
      "gagal paham cuma percaya bisik yg ngaco masa daulat kira kira prabowobentengnkri jok gagalpaham pahamcuma cumapercaya percayabisik bisikyg ygngaco ngacomasa masadaulat daulatkira kirakira kiraprabowobentengnkri prabowobentengnkrijok gagalpahamcuma pahamcumapercaya cumapercayabisik percayabisikyg bisikygngaco ygngacomasa ngacomasadaulat masadaulatkira daulatkirakira kirakiraprabowobentengnkri kiraprabowobentengnkrijok gagalpahamcumapercaya pahamcumapercayabisik cumapercayabisikyg percayabisikygngaco bisikygngacomasa ygngacomasadaulat ngacomasadaulatkira masadaulatkirakira daulatkirakiraprabowobentengnkri kirakiraprabowobentengnkrijok gagalpahamcumapercayabisik pahamcumapercayabisikyg cumapercayabisikygngaco percayabisikygngacomasa bisikygngacomasadaulat ygngacomasadaulatkira ngacomasadaulatkirakira masadaulatkirakiraprabowobentengnkri daulatkirakiraprabowobentengnkrijok\n",
      "\n",
      "994\n",
      "positive\n",
      "label asli negative\n",
      "yang lemes nih kaya data salah ban semua pak prabowobentengnkri https t co 1yqfosvy7a yanglemes lemesnih nihkaya kayadata datasalah salahban bansemua semuapak pakprabowobentengnkri prabowobentengnkrihttps httpst tco co1yqfosvy7a yanglemesnih lemesnihkaya nihkayadata kayadatasalah datasalahban salahbansemua bansemuapak semuapakprabowobentengnkri pakprabowobentengnkrihttps prabowobentengnkrihttpst httpstco tco1yqfosvy7a yanglemesnihkaya lemesnihkayadata nihkayadatasalah kayadatasalahban datasalahbansemua salahbansemuapak bansemuapakprabowobentengnkri semuapakprabowobentengnkrihttps pakprabowobentengnkrihttpst prabowobentengnkrihttpstco httpstco1yqfosvy7a yanglemesnihkayadata lemesnihkayadatasalah nihkayadatasalahban kayadatasalahbansemua datasalahbansemuapak salahbansemuapakprabowobentengnkri bansemuapakprabowobentengnkrihttps semuapakprabowobentengnkrihttpst pakprabowobentengnkrihttpstco prabowobentengnkrihttpstco1yqfosvy7a\n",
      "\n",
      "996\n",
      "positive\n",
      "label asli negative\n",
      "pikir pak ga tau masalah myanmar pikirpak pakga gatau taumasalah masalahmyanmar pikirpakga pakgatau gataumasalah taumasalahmyanmar pikirpakgatau pakgataumasalah gataumasalahmyanmar pikirpakgataumasalah pakgataumasalahmyanmar\n",
      "\n",
      "997\n",
      "positive\n",
      "label asli negative\n",
      "ahahaha pancing pidato closingnya beranta ahahahapancing pancingpidato pidatoclosingnya closingnyaberanta ahahahapancingpidato pancingpidatoclosingnya pidatoclosingnyaberanta ahahahapancingpidatoclosingnya pancingpidatoclosingnyaberanta ahahahapancingpidatoclosingnyaberanta\n",
      "\n",
      "998\n",
      "positive\n",
      "label asli negative\n",
      "bukan tidak percaya ini tni pak taruh nyawa tni lebih tni tni bukantidak tidakpercaya percayaini initni tnipak paktaruh taruhnyawa nyawatni tnilebih lebihtni tnitni bukantidakpercaya tidakpercayaini percayainitni initnipak tnipaktaruh paktaruhnyawa taruhnyawatni nyawatnilebih tnilebihtni lebihtnitni bukantidakpercayaini tidakpercayainitni percayainitnipak initnipaktaruh tnipaktaruhnyawa paktaruhnyawatni taruhnyawatnilebih nyawatnilebihtni tnilebihtnitni bukantidakpercayainitni tidakpercayainitnipak percayainitnipaktaruh initnipaktaruhnyawa tnipaktaruhnyawatni paktaruhnyawatnilebih taruhnyawatnilebihtni nyawatnilebihtnitni\n",
      "\n",
      "999\n",
      "positive\n",
      "label asli negative\n",
      "gemetar apes malam kata gue bentak 2 jendral prabowobentengnkri gemetarapes apesmalam malamkata katague guebentak bentak2 2jendral jendralprabowobentengnkri gemetarapesmalam apesmalamkata malamkatague kataguebentak guebentak2 bentak2jendral 2jendralprabowobentengnkri gemetarapesmalamkata apesmalamkatague malamkataguebentak kataguebentak2 guebentak2jendral bentak2jendralprabowobentengnkri gemetarapesmalamkatague apesmalamkataguebentak malamkataguebentak2 kataguebentak2jendral guebentak2jendralprabowobentengnkri\n",
      "\n"
     ]
    }
   ],
   "source": [
    "ixx = 0\n",
    "labelA = list()\n",
    "labelP= list()\n",
    "\n",
    "for i, j in zip(label, x):\n",
    "    if i !=j:\n",
    "        print(ixx)\n",
    "        print(j)\n",
    "        print(\"label asli\",i)\n",
    "        print(twet[ixx])\n",
    "        print()\n",
    "    ixx+=1"
   ]
  },
  {
   "cell_type": "code",
   "execution_count": null,
   "metadata": {},
   "outputs": [],
   "source": []
  }
 ],
 "metadata": {
  "kernelspec": {
   "display_name": "Python 3",
   "language": "python",
   "name": "python3"
  },
  "language_info": {
   "codemirror_mode": {
    "name": "ipython",
    "version": 3
   },
   "file_extension": ".py",
   "mimetype": "text/x-python",
   "name": "python",
   "nbconvert_exporter": "python",
   "pygments_lexer": "ipython3",
   "version": "3.7.3"
  }
 },
 "nbformat": 4,
 "nbformat_minor": 2
}
