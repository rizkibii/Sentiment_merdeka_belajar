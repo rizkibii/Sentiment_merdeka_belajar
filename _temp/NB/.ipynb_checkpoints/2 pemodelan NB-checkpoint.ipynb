{
 "cells": [
  {
   "cell_type": "code",
   "execution_count": 1,
   "metadata": {},
   "outputs": [],
   "source": [
    "import pandas as pd\n",
    "import joblib"
   ]
  },
  {
   "cell_type": "code",
   "execution_count": 2,
   "metadata": {},
   "outputs": [
    {
     "data": {
      "text/html": [
       "<div>\n",
       "<style scoped>\n",
       "    .dataframe tbody tr th:only-of-type {\n",
       "        vertical-align: middle;\n",
       "    }\n",
       "\n",
       "    .dataframe tbody tr th {\n",
       "        vertical-align: top;\n",
       "    }\n",
       "\n",
       "    .dataframe thead th {\n",
       "        text-align: right;\n",
       "    }\n",
       "</style>\n",
       "<table border=\"1\" class=\"dataframe\">\n",
       "  <thead>\n",
       "    <tr style=\"text-align: right;\">\n",
       "      <th></th>\n",
       "      <th>Unnamed: 0</th>\n",
       "      <th>tweet</th>\n",
       "      <th>label</th>\n",
       "    </tr>\n",
       "  </thead>\n",
       "  <tbody>\n",
       "    <tr>\n",
       "      <th>0</th>\n",
       "      <td>0</td>\n",
       "      <td>buka visi misi begitu pukau sehingga buat pres...</td>\n",
       "      <td>positive</td>\n",
       "    </tr>\n",
       "    <tr>\n",
       "      <th>1</th>\n",
       "      <td>1</td>\n",
       "      <td>lebih baik pakai teknologi lama kaya negara in...</td>\n",
       "      <td>positive</td>\n",
       "    </tr>\n",
       "    <tr>\n",
       "      <th>2</th>\n",
       "      <td>2</td>\n",
       "      <td>kok arguing without menang kokarguing arguingw...</td>\n",
       "      <td>positive</td>\n",
       "    </tr>\n",
       "    <tr>\n",
       "      <th>3</th>\n",
       "      <td>3</td>\n",
       "      <td>jalan politik politik satu bukan politik pecah...</td>\n",
       "      <td>positive</td>\n",
       "    </tr>\n",
       "    <tr>\n",
       "      <th>4</th>\n",
       "      <td>4</td>\n",
       "      <td>juga fans lihat tampil serang hahaha jugafans ...</td>\n",
       "      <td>negative</td>\n",
       "    </tr>\n",
       "  </tbody>\n",
       "</table>\n",
       "</div>"
      ],
      "text/plain": [
       "   Unnamed: 0                                              tweet     label\n",
       "0           0  buka visi misi begitu pukau sehingga buat pres...  positive\n",
       "1           1  lebih baik pakai teknologi lama kaya negara in...  positive\n",
       "2           2  kok arguing without menang kokarguing arguingw...  positive\n",
       "3           3  jalan politik politik satu bukan politik pecah...  positive\n",
       "4           4  juga fans lihat tampil serang hahaha jugafans ...  negative"
      ]
     },
     "execution_count": 2,
     "metadata": {},
     "output_type": "execute_result"
    }
   ],
   "source": [
    "df = pd.read_excel(\"data/tweet_bersih_100.xlsx\")\n",
    "twet = df.tweet.tolist()\n",
    "label = df.label.tolist()\n",
    "df.head()"
   ]
  },
  {
   "cell_type": "code",
   "execution_count": 3,
   "metadata": {},
   "outputs": [
    {
     "name": "stdout",
     "output_type": "stream",
     "text": [
      "positive    500\n",
      "negative    500\n",
      "Name: label, dtype: int64\n"
     ]
    }
   ],
   "source": [
    "pd.value_counts(df['label']).plot.bar(title='Data Sentimen')\n",
    "print(pd.value_counts(df['label']))"
   ]
  },
  {
   "cell_type": "markdown",
   "metadata": {},
   "source": [
    "# Pembagian data & pemodelan"
   ]
  },
  {
   "cell_type": "code",
   "execution_count": 4,
   "metadata": {},
   "outputs": [],
   "source": [
    "import numpy as np\n",
    "from sklearn.model_selection import KFold\n",
    "from sklearn.naive_bayes import MultinomialNB"
   ]
  },
  {
   "cell_type": "code",
   "execution_count": 5,
   "metadata": {},
   "outputs": [],
   "source": [
    "from sklearn.feature_extraction.text import TfidfVectorizer\n",
    "corpus = twet\n",
    "vectorizer = TfidfVectorizer()\n",
    "save = vectorizer.fit(corpus)\n",
    "joblib.dump(save,\"model/tdidf.w\")\n",
    "X = vectorizer.fit_transform(corpus)"
   ]
  },
  {
   "cell_type": "code",
   "execution_count": 6,
   "metadata": {},
   "outputs": [
    {
     "data": {
      "text/html": [
       "<div>\n",
       "<style scoped>\n",
       "    .dataframe tbody tr th:only-of-type {\n",
       "        vertical-align: middle;\n",
       "    }\n",
       "\n",
       "    .dataframe tbody tr th {\n",
       "        vertical-align: top;\n",
       "    }\n",
       "\n",
       "    .dataframe thead th {\n",
       "        text-align: right;\n",
       "    }\n",
       "</style>\n",
       "<table border=\"1\" class=\"dataframe\">\n",
       "  <thead>\n",
       "    <tr style=\"text-align: right;\">\n",
       "      <th></th>\n",
       "      <th>alpha</th>\n",
       "      <th>score</th>\n",
       "    </tr>\n",
       "  </thead>\n",
       "  <tbody>\n",
       "    <tr>\n",
       "      <th>8</th>\n",
       "      <td>0.108</td>\n",
       "      <td>0.816</td>\n",
       "    </tr>\n",
       "    <tr>\n",
       "      <th>6</th>\n",
       "      <td>0.106</td>\n",
       "      <td>0.816</td>\n",
       "    </tr>\n",
       "    <tr>\n",
       "      <th>10</th>\n",
       "      <td>0.110</td>\n",
       "      <td>0.816</td>\n",
       "    </tr>\n",
       "    <tr>\n",
       "      <th>9</th>\n",
       "      <td>0.109</td>\n",
       "      <td>0.816</td>\n",
       "    </tr>\n",
       "    <tr>\n",
       "      <th>7</th>\n",
       "      <td>0.107</td>\n",
       "      <td>0.816</td>\n",
       "    </tr>\n",
       "    <tr>\n",
       "      <th>0</th>\n",
       "      <td>0.100</td>\n",
       "      <td>0.815</td>\n",
       "    </tr>\n",
       "    <tr>\n",
       "      <th>5</th>\n",
       "      <td>0.105</td>\n",
       "      <td>0.815</td>\n",
       "    </tr>\n",
       "    <tr>\n",
       "      <th>4</th>\n",
       "      <td>0.104</td>\n",
       "      <td>0.815</td>\n",
       "    </tr>\n",
       "    <tr>\n",
       "      <th>2</th>\n",
       "      <td>0.102</td>\n",
       "      <td>0.815</td>\n",
       "    </tr>\n",
       "    <tr>\n",
       "      <th>1</th>\n",
       "      <td>0.101</td>\n",
       "      <td>0.815</td>\n",
       "    </tr>\n",
       "  </tbody>\n",
       "</table>\n",
       "</div>"
      ],
      "text/plain": [
       "    alpha  score\n",
       "8   0.108  0.816\n",
       "6   0.106  0.816\n",
       "10  0.110  0.816\n",
       "9   0.109  0.816\n",
       "7   0.107  0.816\n",
       "0   0.100  0.815\n",
       "5   0.105  0.815\n",
       "4   0.104  0.815\n",
       "2   0.102  0.815\n",
       "1   0.101  0.815"
      ]
     },
     "execution_count": 6,
     "metadata": {},
     "output_type": "execute_result"
    }
   ],
   "source": [
    "k = 10\n",
    "y = np.array(label)\n",
    "kf = KFold(n_splits=k)\n",
    "kf.get_n_splits(X)\n",
    "# print(kf)\n",
    "alpah_list = np.arange(0.1, 1+0.001, 0.001)\n",
    "rerata = list()\n",
    "for alpha in alpah_list:\n",
    "    clf = MultinomialNB(alpha = alpha)\n",
    "    sc_10 = list()\n",
    "    for train_index, test_index in kf.split(X):\n",
    "    #     print(\"TRAIN:\", train_index, \"TEST:\", test_index)\n",
    "        X_train, X_test = X[train_index], X[test_index]\n",
    "        y_train, y_test = y[train_index], y[test_index]\n",
    "        clf.fit(X_train, y_train)\n",
    "        sc = clf.score(X_test, y_test)\n",
    "        sc_10.append(sc)\n",
    "#     print( sum(sc_10)/k, \"|\", alpha)\n",
    "    rerata.append(sum(sc_10)/k)\n",
    "dict_ = {\n",
    "    \"alpha\":alpah_list,\n",
    "    \"score\":rerata\n",
    "}\n",
    "df_hasil = pd.DataFrame.from_dict(dict_)\n",
    "sorted_ = df_hasil.sort_values(\"score\", axis = 0, ascending = False)\n",
    "sorted_.head(10)"
   ]
  },
  {
   "cell_type": "code",
   "execution_count": 7,
   "metadata": {},
   "outputs": [
    {
     "data": {
      "text/plain": [
       "0.10800000000000001"
      ]
     },
     "execution_count": 7,
     "metadata": {},
     "output_type": "execute_result"
    }
   ],
   "source": [
    "sorted_.alpha.tolist()[0]"
   ]
  },
  {
   "cell_type": "code",
   "execution_count": 8,
   "metadata": {},
   "outputs": [
    {
     "data": {
      "text/plain": [
       "['model/naive_bayes.m']"
      ]
     },
     "execution_count": 8,
     "metadata": {},
     "output_type": "execute_result"
    }
   ],
   "source": [
    "clf = MultinomialNB(alpha = sorted_.alpha.tolist()[0])\n",
    "save = clf.fit(X_train, y_train)\n",
    "joblib.dump(save,\"model/naive_bayes.m\")"
   ]
  },
  {
   "cell_type": "code",
   "execution_count": 9,
   "metadata": {},
   "outputs": [
    {
     "data": {
      "text/plain": [
       "0.984"
      ]
     },
     "execution_count": 9,
     "metadata": {},
     "output_type": "execute_result"
    }
   ],
   "source": [
    "save.score(X, y)"
   ]
  },
  {
   "cell_type": "code",
   "execution_count": 10,
   "metadata": {},
   "outputs": [],
   "source": [
    "x = save.predict(X)"
   ]
  },
  {
   "cell_type": "code",
   "execution_count": 11,
   "metadata": {},
   "outputs": [
    {
     "name": "stdout",
     "output_type": "stream",
     "text": [
      "438\n",
      "negative\n",
      "label asli positive\n",
      "apresiasi saudara 2 di papua pakde jadi percuma kalian tebar bohong papua derita apresiasisaudara saudara2 2di dipapua papuapakde pakdejadi jadipercuma percumakalian kaliantebar tebarbohong bohongpapua papuaderita apresiasisaudara2 saudara2di 2dipapua dipapuapakde papuapakdejadi pakdejadipercuma jadipercumakalian percumakaliantebar kaliantebarbohong tebarbohongpapua bohongpapuaderita apresiasisaudara2di saudara2dipapua 2dipapuapakde dipapuapakdejadi papuapakdejadipercuma pakdejadipercumakalian jadipercumakaliantebar percumakaliantebarbohong kaliantebarbohongpapua tebarbohongpapuaderita apresiasisaudara2dipapua saudara2dipapuapakde 2dipapuapakdejadi dipapuapakdejadipercuma papuapakdejadipercumakalian pakdejadipercumakaliantebar jadipercumakaliantebarbohong percumakaliantebarbohongpapua kaliantebarbohongpapuaderita\n",
      "\n",
      "541\n",
      "negative\n",
      "label asli positive\n",
      "tidak paham ekonomi investasi asing lingkup bisnis di-framing olah negara asai asing cara militan tidakpaham pahamekonomi ekonomiinvestasi investasiasing asinglingkup lingkupbisnis bisnisdi-framing di-framingolah olahnegara negaraasai asaiasing asingcara caramilitan tidakpahamekonomi pahamekonomiinvestasi ekonomiinvestasiasing investasiasinglingkup asinglingkupbisnis lingkupbisnisdi-framing bisnisdi-framingolah di-framingolahnegara olahnegaraasai negaraasaiasing asaiasingcara asingcaramilitan tidakpahamekonomiinvestasi pahamekonomiinvestasiasing ekonomiinvestasiasinglingkup investasiasinglingkupbisnis asinglingkupbisnisdi-framing lingkupbisnisdi-framingolah bisnisdi-framingolahnegara di-framingolahnegaraasai olahnegaraasaiasing negaraasaiasingcara asaiasingcaramilitan tidakpahamekonomiinvestasiasing pahamekonomiinvestasiasinglingkup ekonomiinvestasiasinglingkupbisnis investasiasinglingkupbisnisdi-framing asinglingkupbisnisdi-framingolah lingkupbisnisdi-framingolahnegara bisnisdi-framingolahnegaraasai di-framingolahnegaraasaiasing olahnegaraasaiasingcara negaraasaiasingcaramilitan\n",
      "\n",
      "830\n",
      "positive\n",
      "label asli negative\n",
      "pak all keluar debat malam semua umpan lawan lahap habis bahkan jawab kerap jadi serang balik pakall allkeluar keluardebat debatmalam malamsemua semuaumpan umpanlawan lawanlahap lahaphabis habisbahkan bahkanjawab jawabkerap kerapjadi jadiserang serangbalik pakallkeluar allkeluardebat keluardebatmalam debatmalamsemua malamsemuaumpan semuaumpanlawan umpanlawanlahap lawanlahaphabis lahaphabisbahkan habisbahkanjawab bahkanjawabkerap jawabkerapjadi kerapjadiserang jadiserangbalik pakallkeluardebat allkeluardebatmalam keluardebatmalamsemua debatmalamsemuaumpan malamsemuaumpanlawan semuaumpanlawanlahap umpanlawanlahaphabis lawanlahaphabisbahkan lahaphabisbahkanjawab habisbahkanjawabkerap bahkanjawabkerapjadi jawabkerapjadiserang kerapjadiserangbalik pakallkeluardebatmalam allkeluardebatmalamsemua keluardebatmalamsemuaumpan debatmalamsemuaumpanlawan malamsemuaumpanlawanlahap semuaumpanlawanlahaphabis umpanlawanlahaphabisbahkan lawanlahaphabisbahkanjawab lahaphabisbahkanjawabkerap habisbahkanjawabkerapjadi bahkanjawabkerapjadiserang jawabkerapjadiserangbalik\n",
      "\n",
      "882\n",
      "positive\n",
      "label asli negative\n",
      "lama kawan lalu musuh lama tetangga lalu tak saling bicara semua karena beda pilih lamakawan kawanlalu lalumusuh musuhlama lamatetangga tetanggalalu lalutak taksaling salingbicara bicarasemua semuakarena karenabeda bedapilih lamakawanlalu kawanlalumusuh lalumusuhlama musuhlamatetangga lamatetanggalalu tetanggalalutak lalutaksaling taksalingbicara salingbicarasemua bicarasemuakarena semuakarenabeda karenabedapilih lamakawanlalumusuh kawanlalumusuhlama lalumusuhlamatetangga musuhlamatetanggalalu lamatetanggalalutak tetanggalalutaksaling lalutaksalingbicara taksalingbicarasemua salingbicarasemuakarena bicarasemuakarenabeda semuakarenabedapilih lamakawanlalumusuhlama kawanlalumusuhlamatetangga lalumusuhlamatetanggalalu musuhlamatetanggalalutak lamatetanggalalutaksaling tetanggalalutaksalingbicara lalutaksalingbicarasemua taksalingbicarasemuakarena salingbicarasemuakarenabeda bicarasemuakarenabedapilih\n",
      "\n",
      "888\n",
      "positive\n",
      "label asli negative\n",
      "rantai sahabat pak pak akan putus 2 debatpilpres 2019 dengerin tuh tkn-bpn cebong kampret rantaisahabat sahabatpak pakpak pakakan akanputus putus2 2debatpilpres debatpilpres2019 2019dengerin dengerintuh tuhtkn-bpn tkn-bpncebong cebongkampret rantaisahabatpak sahabatpakpak pakpakakan pakakanputus akanputus2 putus2debatpilpres 2debatpilpres2019 debatpilpres2019dengerin 2019dengerintuh dengerintuhtkn-bpn tuhtkn-bpncebong tkn-bpncebongkampret rantaisahabatpakpak sahabatpakpakakan pakpakakanputus pakakanputus2 akanputus2debatpilpres putus2debatpilpres2019 2debatpilpres2019dengerin debatpilpres2019dengerintuh 2019dengerintuhtkn-bpn dengerintuhtkn-bpncebong tuhtkn-bpncebongkampret rantaisahabatpakpakakan sahabatpakpakakanputus pakpakakanputus2 pakakanputus2debatpilpres akanputus2debatpilpres2019 putus2debatpilpres2019dengerin 2debatpilpres2019dengerintuh debatpilpres2019dengerintuhtkn-bpn 2019dengerintuhtkn-bpncebong dengerintuhtkn-bpncebongkampret\n",
      "\n",
      "893\n",
      "positive\n",
      "label asli negative\n",
      "jangan pilih pimpin bohong ingkar janji provokasi rakyat kacang lupa kulit pilih pimpin jujur janganpilih pilihpimpin pimpinbohong bohongingkar ingkarjanji janjiprovokasi provokasirakyat rakyatkacang kacanglupa lupakulit kulitpilih pilihpimpin pimpinjujur janganpilihpimpin pilihpimpinbohong pimpinbohongingkar bohongingkarjanji ingkarjanjiprovokasi janjiprovokasirakyat provokasirakyatkacang rakyatkacanglupa kacanglupakulit lupakulitpilih kulitpilihpimpin pilihpimpinjujur janganpilihpimpinbohong pilihpimpinbohongingkar pimpinbohongingkarjanji bohongingkarjanjiprovokasi ingkarjanjiprovokasirakyat janjiprovokasirakyatkacang provokasirakyatkacanglupa rakyatkacanglupakulit kacanglupakulitpilih lupakulitpilihpimpin kulitpilihpimpinjujur janganpilihpimpinbohongingkar pilihpimpinbohongingkarjanji pimpinbohongingkarjanjiprovokasi bohongingkarjanjiprovokasirakyat ingkarjanjiprovokasirakyatkacang janjiprovokasirakyatkacanglupa provokasirakyatkacanglupakulit rakyatkacanglupakulitpilih kacanglupakulitpilihpimpin lupakulitpilihpimpinjujur\n",
      "\n",
      "966\n",
      "positive\n",
      "label asli negative\n",
      "calon presiden nomor urut 02 khawatir kalau semua labuh bandara operate usaha asing calonpresiden presidennomor nomorurut urut02 02khawatir khawatirkalau kalausemua semualabuh labuhbandara bandaraoperate operateusaha usahaasing calonpresidennomor presidennomorurut nomorurut02 urut02khawatir 02khawatirkalau khawatirkalausemua kalausemualabuh semualabuhbandara labuhbandaraoperate bandaraoperateusaha operateusahaasing calonpresidennomorurut presidennomorurut02 nomorurut02khawatir urut02khawatirkalau 02khawatirkalausemua khawatirkalausemualabuh kalausemualabuhbandara semualabuhbandaraoperate labuhbandaraoperateusaha bandaraoperateusahaasing calonpresidennomorurut02 presidennomorurut02khawatir nomorurut02khawatirkalau urut02khawatirkalausemua 02khawatirkalausemualabuh khawatirkalausemualabuhbandara kalausemualabuhbandaraoperate semualabuhbandaraoperateusaha labuhbandaraoperateusahaasing\n",
      "\n",
      "968\n",
      "positive\n",
      "label asli negative\n",
      "mantap keren moga ikut seluruh pelosok nusantara mantapkeren kerenmoga mogaikut ikutseluruh seluruhpelosok pelosoknusantara mantapkerenmoga kerenmogaikut mogaikutseluruh ikutseluruhpelosok seluruhpelosoknusantara mantapkerenmogaikut kerenmogaikutseluruh mogaikutseluruhpelosok ikutseluruhpelosoknusantara mantapkerenmogaikutseluruh kerenmogaikutseluruhpelosok mogaikutseluruhpelosoknusantara\n",
      "\n",
      "971\n",
      "positive\n",
      "label asli negative\n",
      "pilih sandi saya ingin bpjs puruk terus tidak optimal beri solusi awat sehat pilihsandi sandisaya sayaingin inginbpjs bpjspuruk purukterus terustidak tidakoptimal optimalberi berisolusi solusiawat awatsehat pilihsandisaya sandisayaingin sayainginbpjs inginbpjspuruk bpjspurukterus purukterustidak terustidakoptimal tidakoptimalberi optimalberisolusi berisolusiawat solusiawatsehat pilihsandisayaingin sandisayainginbpjs sayainginbpjspuruk inginbpjspurukterus bpjspurukterustidak purukterustidakoptimal terustidakoptimalberi tidakoptimalberisolusi optimalberisolusiawat berisolusiawatsehat pilihsandisayainginbpjs sandisayainginbpjspuruk sayainginbpjspurukterus inginbpjspurukterustidak bpjspurukterustidakoptimal purukterustidakoptimalberi terustidakoptimalberisolusi tidakoptimalberisolusiawat optimalberisolusiawatsehat\n",
      "\n",
      "972\n",
      "positive\n",
      "label asli negative\n",
      "salah besar sih pilih pak lembaga perintah bebas korupsi jual beli jabat salahbesar besarsih sihpilih pilihpak paklembaga lembagaperintah perintahbebas bebaskorupsi korupsijual jualbeli belijabat salahbesarsih besarsihpilih sihpilihpak pilihpaklembaga paklembagaperintah lembagaperintahbebas perintahbebaskorupsi bebaskorupsijual korupsijualbeli jualbelijabat salahbesarsihpilih besarsihpilihpak sihpilihpaklembaga pilihpaklembagaperintah paklembagaperintahbebas lembagaperintahbebaskorupsi perintahbebaskorupsijual bebaskorupsijualbeli korupsijualbelijabat salahbesarsihpilihpak besarsihpilihpaklembaga sihpilihpaklembagaperintah pilihpaklembagaperintahbebas paklembagaperintahbebaskorupsi lembagaperintahbebaskorupsijual perintahbebaskorupsijualbeli bebaskorupsijualbelijabat\n",
      "\n",
      "976\n",
      "positive\n",
      "label asli negative\n",
      "kalau pasu asing masuk tentara tindak adi napitupulu dukung calon presiden 01 kalaupasu pasuasing asingmasuk masuktentara tentaratindak tindakadi adinapitupulu napitupuludukung dukungcalon calonpresiden presiden01 kalaupasuasing pasuasingmasuk asingmasuktentara masuktentaratindak tentaratindakadi tindakadinapitupulu adinapitupuludukung napitupuludukungcalon dukungcalonpresiden calonpresiden01 kalaupasuasingmasuk pasuasingmasuktentara asingmasuktentaratindak masuktentaratindakadi tentaratindakadinapitupulu tindakadinapitupuludukung adinapitupuludukungcalon napitupuludukungcalonpresiden dukungcalonpresiden01 kalaupasuasingmasuktentara pasuasingmasuktentaratindak asingmasuktentaratindakadi masuktentaratindakadinapitupulu tentaratindakadinapitupuludukung tindakadinapitupuludukungcalon adinapitupuludukungcalonpresiden napitupuludukungcalonpresiden01\n",
      "\n",
      "982\n",
      "positive\n",
      "label asli negative\n",
      "mau begini acung jari telunjuk tak enak tim jokowi-maruf benci tauhid kan mereka benci tauhid maubegini beginiacung acungjari jaritelunjuk telunjuktak takenak enaktim timjokowi-maruf jokowi-marufbenci bencitauhid tauhidkan kanmereka merekabenci bencitauhid maubeginiacung beginiacungjari acungjaritelunjuk jaritelunjuktak telunjuktakenak takenaktim enaktimjokowi-maruf timjokowi-marufbenci jokowi-marufbencitauhid bencitauhidkan tauhidkanmereka kanmerekabenci merekabencitauhid maubeginiacungjari beginiacungjaritelunjuk acungjaritelunjuktak jaritelunjuktakenak telunjuktakenaktim takenaktimjokowi-maruf enaktimjokowi-marufbenci timjokowi-marufbencitauhid jokowi-marufbencitauhidkan bencitauhidkanmereka tauhidkanmerekabenci kanmerekabencitauhid maubeginiacungjaritelunjuk beginiacungjaritelunjuktak acungjaritelunjuktakenak jaritelunjuktakenaktim telunjuktakenaktimjokowi-maruf takenaktimjokowi-marufbenci enaktimjokowi-marufbencitauhid timjokowi-marufbencitauhidkan jokowi-marufbencitauhidkanmereka bencitauhidkanmerekabenci tauhidkanmerekabencitauhid\n",
      "\n",
      "987\n",
      "positive\n",
      "label asli negative\n",
      "pak emosi kalau bicara daulat aman nkri balik rakyat lindung pakemosi emosikalau kalaubicara bicaradaulat daulataman amannkri nkribalik balikrakyat rakyatlindung pakemosikalau emosikalaubicara kalaubicaradaulat bicaradaulataman daulatamannkri amannkribalik nkribalikrakyat balikrakyatlindung pakemosikalaubicara emosikalaubicaradaulat kalaubicaradaulataman bicaradaulatamannkri daulatamannkribalik amannkribalikrakyat nkribalikrakyatlindung pakemosikalaubicaradaulat emosikalaubicaradaulataman kalaubicaradaulatamannkri bicaradaulatamannkribalik daulatamannkribalikrakyat amannkribalikrakyatlindung\n",
      "\n",
      "994\n",
      "positive\n",
      "label asli negative\n",
      "yang lemes nih kaya data salah ban semua pak prabowobentengnkri https t co 1yqfosvy7a yanglemes lemesnih nihkaya kayadata datasalah salahban bansemua semuapak pakprabowobentengnkri prabowobentengnkrihttps httpst tco co1yqfosvy7a yanglemesnih lemesnihkaya nihkayadata kayadatasalah datasalahban salahbansemua bansemuapak semuapakprabowobentengnkri pakprabowobentengnkrihttps prabowobentengnkrihttpst httpstco tco1yqfosvy7a yanglemesnihkaya lemesnihkayadata nihkayadatasalah kayadatasalahban datasalahbansemua salahbansemuapak bansemuapakprabowobentengnkri semuapakprabowobentengnkrihttps pakprabowobentengnkrihttpst prabowobentengnkrihttpstco httpstco1yqfosvy7a yanglemesnihkayadata lemesnihkayadatasalah nihkayadatasalahban kayadatasalahbansemua datasalahbansemuapak salahbansemuapakprabowobentengnkri bansemuapakprabowobentengnkrihttps semuapakprabowobentengnkrihttpst pakprabowobentengnkrihttpstco prabowobentengnkrihttpstco1yqfosvy7a\n",
      "\n",
      "997\n",
      "positive\n",
      "label asli negative\n",
      "tertawa pancing pidato closingnya beranta tertawapancing pancingpidato pidatoclosingnya closingnyaberanta tertawapancingpidato pancingpidatoclosingnya pidatoclosingnyaberanta tertawapancingpidatoclosingnya pancingpidatoclosingnyaberanta tertawapancingpidatoclosingnyaberanta\n",
      "\n",
      "998\n",
      "positive\n",
      "label asli negative\n",
      "bukan tidak percaya ini tni pak taruh nyawa tni lebih tni tni bukantidak tidakpercaya percayaini initni tnipak paktaruh taruhnyawa nyawatni tnilebih lebihtni tnitni bukantidakpercaya tidakpercayaini percayainitni initnipak tnipaktaruh paktaruhnyawa taruhnyawatni nyawatnilebih tnilebihtni lebihtnitni bukantidakpercayaini tidakpercayainitni percayainitnipak initnipaktaruh tnipaktaruhnyawa paktaruhnyawatni taruhnyawatnilebih nyawatnilebihtni tnilebihtnitni bukantidakpercayainitni tidakpercayainitnipak percayainitnipaktaruh initnipaktaruhnyawa tnipaktaruhnyawatni paktaruhnyawatnilebih taruhnyawatnilebihtni nyawatnilebihtnitni\n",
      "\n"
     ]
    }
   ],
   "source": [
    "ixx = 0\n",
    "labelA = list()\n",
    "labelP= list()\n",
    "\n",
    "for i, j in zip(label, x):\n",
    "    if i !=j:\n",
    "        print(ixx)\n",
    "        print(j)\n",
    "        print(\"label asli\",i)\n",
    "        print(twet[ixx])\n",
    "        print()\n",
    "    ixx+=1"
   ]
  },
  {
   "cell_type": "code",
   "execution_count": null,
   "metadata": {},
   "outputs": [],
   "source": []
  }
 ],
 "metadata": {
  "kernelspec": {
   "display_name": "Python 3",
   "language": "python",
   "name": "python3"
  },
  "language_info": {
   "codemirror_mode": {
    "name": "ipython",
    "version": 3
   },
   "file_extension": ".py",
   "mimetype": "text/x-python",
   "name": "python",
   "nbconvert_exporter": "python",
   "pygments_lexer": "ipython3",
   "version": "3.7.3"
  }
 },
 "nbformat": 4,
 "nbformat_minor": 2
}
