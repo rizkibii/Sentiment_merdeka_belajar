{
 "cells": [
  {
   "cell_type": "code",
   "execution_count": 1,
   "metadata": {},
   "outputs": [],
   "source": [
    "import joblib\n",
    "import sys\n",
    "import os\n",
    "alamat = os.getcwd()\n",
    "# alamat_direktor_kerja = alamat#\"D:\\github\\python\\sentimen_pilpres\"\n",
    "sys.path.append(alamat+'/praproses')\n",
    "import ngrams as ng\n",
    "from normalisasi import normalisasi as nrm\n",
    "import token as tkn\n",
    "import stemming as stm\n",
    "import cleansing\n",
    "import stemming\n",
    "import seleksi_kata as sk\n",
    "import pandas as pd"
   ]
  },
  {
   "cell_type": "code",
   "execution_count": 2,
   "metadata": {},
   "outputs": [
    {
     "name": "stderr",
     "output_type": "stream",
     "text": [
      "C:\\Users\\Rizki\\Anaconda3\\lib\\site-packages\\sklearn\\base.py:311: UserWarning: Trying to unpickle estimator MultinomialNB from version 0.21.2 when using version 0.19.1. This might lead to breaking code or invalid results. Use at your own risk.\n",
      "  UserWarning)\n"
     ]
    }
   ],
   "source": [
    "tdidf = joblib.load(\"model/tdidf.w\")\n",
    "naive_bayes = joblib.load(\"model/naive_bayes.m\")"
   ]
  },
  {
   "cell_type": "code",
   "execution_count": 3,
   "metadata": {},
   "outputs": [],
   "source": [
    "def praproses(twt, n=3):\n",
    "    twt = sk.seleksi(twt)\n",
    "    twt = cleansing.cleaning(twt)\n",
    "    twt = nrm.slangword(twt)\n",
    "    twt = stm.stemming(twt)\n",
    "    twt = stm.StopWordRemover(twt)\n",
    "    twt = ng.ngramku(twt, n=n)['string']\n",
    "    return twt"
   ]
  },
  {
   "cell_type": "code",
   "execution_count": 4,
   "metadata": {},
   "outputs": [
    {
     "data": {
      "text/plain": [
       "'tuju banget'"
      ]
     },
     "execution_count": 4,
     "metadata": {},
     "output_type": "execute_result"
    }
   ],
   "source": [
    "praproses(\"RT @hpsetyawan: @afiadi @Gerindra @prabowo setuju bgt\", n=1)"
   ]
  },
  {
   "cell_type": "markdown",
   "metadata": {},
   "source": [
    "# Prediksi 1 tweet"
   ]
  },
  {
   "cell_type": "code",
   "execution_count": 5,
   "metadata": {},
   "outputs": [
    {
     "name": "stdout",
     "output_type": "stream",
     "text": [
      "tuju banget tujubanget\n"
     ]
    },
    {
     "data": {
      "text/plain": [
       "'positive'"
      ]
     },
     "execution_count": 5,
     "metadata": {},
     "output_type": "execute_result"
    }
   ],
   "source": [
    "kalimat = \"RT @hpsetyawan: @afiadi @Gerindra @prabowo setuju bgt\"\n",
    "print(praproses(kalimat))\n",
    "naive_bayes.predict(tdidf.transform([praproses(kalimat)]))[0]"
   ]
  },
  {
   "cell_type": "markdown",
   "metadata": {},
   "source": [
    "# Prediksi data uji [jokowi]"
   ]
  },
  {
   "cell_type": "code",
   "execution_count": 6,
   "metadata": {},
   "outputs": [
    {
     "name": "stdout",
     "output_type": "stream",
     "text": [
      "             precision    recall  f1-score   support\n",
      "\n",
      "   negative       0.92      0.80      0.86        15\n",
      "   positive       0.97      0.99      0.98        85\n",
      "\n",
      "avg / total       0.96      0.96      0.96       100\n",
      "\n"
     ]
    }
   ],
   "source": [
    "df = pd.read_excel(\"../data_uji/100 data jan-maret jokowi.xlsx\")\n",
    "twet_uji = df.message.tolist()\n",
    "label_asli = df.label.tolist()\n",
    "twet_uji_bersih = list()\n",
    "\n",
    "for ix, t in enumerate(twet_uji):\n",
    "    twet_uji_bersih.append(praproses(t))\n",
    "#     print(ix)\n",
    "prediksi = naive_bayes.predict(tdidf.transform(twet_uji_bersih))\n",
    "\n",
    "from sklearn.metrics import classification_report\n",
    "y_true = label_asli\n",
    "y_pred = prediksi\n",
    "target_names = ['negative', 'positive',]\n",
    "print(classification_report(y_true, y_pred, target_names=target_names))"
   ]
  },
  {
   "cell_type": "code",
   "execution_count": null,
   "metadata": {},
   "outputs": [],
   "source": []
  },
  {
   "cell_type": "code",
   "execution_count": 10,
   "metadata": {
    "scrolled": true
   },
   "outputs": [
    {
     "name": "stdout",
     "output_type": "stream",
     "text": [
      "1\n",
      "Prediksi: positive\n",
      "asli    : negative\n",
      "     RT @basukids: @Gerindra @jokowi Anuuu... pemahamannya kurang eh..\n",
      "#PrabowoBentengNKRI\n",
      "====================================================================================================\n",
      "9\n",
      "Prediksi: positive\n",
      "asli    : negative\n",
      "     RT @gw_eilo: Malam Pak @jokowi Pak @prabowo saya izin tidur ya Pak, ngantuk, debatnya membosankan.\n",
      "====================================================================================================\n",
      "36\n",
      "Prediksi: positive\n",
      "asli    : negative\n",
      "     RT @Bungkus_Boneka: Kapal selam chanbogo kelas itu di pesan di era @SBYudhoyono bukan di era mu hey @jokowi malu dong anda \n",
      "====================================================================================================\n",
      "44\n",
      "Prediksi: negative\n",
      "asli    : positive\n",
      "     RT @bseptian15: @TeddyGusnaidi @prabowo @Gerindra Sekarang berani tidak pak @Jokowi menolak pak Yusril masuk ke kubunya\n",
      "====================================================================================================\n"
     ]
    }
   ],
   "source": [
    "ix = 0\n",
    "for twet, asli, pred in zip(twet_uji, label_asli,prediksi):\n",
    "    if pred!= asli:\n",
    "        print(ix)\n",
    "        print(\"Prediksi:\",pred)\n",
    "        print(\"asli    :\",asli)\n",
    "        print(\"    \",twet)\n",
    "        print(\"=\"*100)\n",
    "    ix+=1"
   ]
  },
  {
   "cell_type": "markdown",
   "metadata": {},
   "source": [
    "# Prediksi data uji [prabowo]"
   ]
  },
  {
   "cell_type": "code",
   "execution_count": 11,
   "metadata": {},
   "outputs": [
    {
     "name": "stdout",
     "output_type": "stream",
     "text": [
      "              precision    recall  f1-score   support\n",
      "\n",
      "    negative       0.77      0.75      0.76        36\n",
      "    positive       0.86      0.88      0.87        64\n",
      "\n",
      "    accuracy                           0.83       100\n",
      "   macro avg       0.82      0.81      0.81       100\n",
      "weighted avg       0.83      0.83      0.83       100\n",
      "\n"
     ]
    }
   ],
   "source": [
    "df = pd.read_excel(\"../data_uji/100 data jan-maret prabowo.xlsx\")\n",
    "twet_uji = df.message.tolist()\n",
    "label_asli = df.label.tolist()\n",
    "twet_uji_bersih = list()\n",
    "for t in twet_uji:\n",
    "    twet_uji_bersih.append(praproses(t))\n",
    "prediksi = naive_bayes.predict(tdidf.transform(twet_uji_bersih))\n",
    "\n",
    "from sklearn.metrics import classification_report\n",
    "y_true = label_asli\n",
    "y_pred = prediksi\n",
    "target_names = ['negative', 'positive',]\n",
    "print(classification_report(y_true, y_pred, target_names=target_names))"
   ]
  },
  {
   "cell_type": "code",
   "execution_count": 12,
   "metadata": {
    "scrolled": true
   },
   "outputs": [
    {
     "name": "stdout",
     "output_type": "stream",
     "text": [
      "0\n",
      "Prediksi: positive\n",
      "asli    : negative\n",
      "     RT @manan_rusiana: @_54TRIYA_ @prabowo Bawaan emosi😀😀😀\n",
      "====================================================================================================\n",
      "3\n",
      "Prediksi: positive\n",
      "asli    : negative\n",
      "     RT @gw_eilo: Malam Pak @jokowi Pak @prabowo saya izin tidur ya Pak, ngantuk, debatnya membosankan...\n",
      "====================================================================================================\n",
      "5\n",
      "Prediksi: positive\n",
      "asli    : negative\n",
      "     RT @teresaracel: WAKAKAKAKAK gagal moveon di malam minggu nih si @prabowo #DebatPilpres2019 #DebatKeempatPilpres2019 #PemerintahanDILAN\n",
      "====================================================================================================\n",
      "7\n",
      "Prediksi: negative\n",
      "asli    : positive\n",
      "     RT @AudiiK__: Pak @prabowo seneng banget ngomongin kekayaan Indonesia banyak mengalir ke luar negeri dan dengan bangganya ingin menaikan pajak\n",
      "====================================================================================================\n",
      "21\n",
      "Prediksi: positive\n",
      "asli    : negative\n",
      "     RT @katakitatweet: Tentang ideologi tanggapan netizen 56% NEGATIF artinya meragukan apa yg disampaikan @prabowo\n",
      "====================================================================================================\n",
      "23\n",
      "Prediksi: negative\n",
      "asli    : positive\n",
      "     RT @RajaGuguk14: @JackVardan @Zumpio Lupa bilang, si cebong diam dan mlongo. Rasanya berhasil saya ngegetok kepalanya. @prabowo itu bersih!\n",
      "====================================================================================================\n",
      "33\n",
      "Prediksi: positive\n",
      "asli    : negative\n",
      "     RT @Prasyudyo: Sebagai pekerja digital, gw sih ogah diajakin ke teknologi lama ama pak @prabowo maaf Pak, jika tidak mampu mengikuti perkembangan gak usah ngajakin\n",
      "====================================================================================================\n",
      "38\n",
      "Prediksi: negative\n",
      "asli    : positive\n",
      "     RT @TAMPICO1994: @wendy_diana @prabowo betul👏👏berapi api,pertahankan pak @prabowo \n",
      "#01CapresPendustaAbadi\n",
      "====================================================================================================\n",
      "55\n",
      "Prediksi: positive\n",
      "asli    : negative\n",
      "     RT @joxzin_jogja: @prabowo ini cocoknya hidup di tengah pulau, piara kuda. Mosok bangga dengan teknologi kuno.\n",
      "====================================================================================================\n",
      "57\n",
      "Prediksi: negative\n",
      "asli    : positive\n",
      "     RT @AnomAnomsuratno: @JackVardan Betul pak @prabowo, teknologi tinggi uangnya hilang, mending simpen di bawah bantal. Aman.\n",
      "====================================================================================================\n",
      "58\n",
      "Prediksi: negative\n",
      "asli    : positive\n",
      "     RT @AlfatihRama: Ini yg saya tunggu pak @prabowo lantang menyerang namun santun,\n",
      "\n",
      "Bring back the tiger of asia's\n",
      "\n",
      "#PrabowoBentengNKRI\n",
      "====================================================================================================\n",
      "61\n",
      "Prediksi: positive\n",
      "asli    : negative\n",
      "     RT @Lidabasah: Fixx @prabowo Jadi Capres abadi.\n",
      "\n",
      "Kenapa?\n",
      "\n",
      "Krna Ideologi dri ormas2 Pendukungnya tak sejalan dengan PANCASILA \n",
      "====================================================================================================\n",
      "71\n",
      "Prediksi: negative\n",
      "asli    : positive\n",
      "     RT @NurlelySiregar: Pak @Prabowo terus2an membahas pemberantasan korupsi dan juga peningkatan kesejahteraan rakyat.\n",
      "====================================================================================================\n",
      "72\n",
      "Prediksi: positive\n",
      "asli    : negative\n",
      "     RT @Lidabasah: sementara Pak Jokowi memaparkan Visi Misi @prabowo malah ngaku2 Nasrani!!\n",
      "\n",
      "Ya Kan\n",
      "@GesuriID @jokowi @R_GUN4W4N \n",
      "====================================================================================================\n",
      "77\n",
      "Prediksi: negative\n",
      "asli    : positive\n",
      "     RT @PSD_313: Gw demen klo om @prabowo tegas gini 😂😂 mengkeret tuh boneka 😂\n",
      "\n",
      "#01CapresPendustaAbadi\n",
      "====================================================================================================\n",
      "81\n",
      "Prediksi: positive\n",
      "asli    : negative\n",
      "     RT @Herrreza: Semua program Prabowo ttg Ideologi Pancasila tidak Pantas dipercaya. @prabowo Tidak hapal Pancasila https://t.co/0cWlKe9i2i\n",
      "====================================================================================================\n",
      "97\n",
      "Prediksi: negative\n",
      "asli    : positive\n",
      "     RT @hartantowelas: Bendera sudah berkibar dengan beberapa warna. Inilah tanda bahwa kemenangan @prabowo @sandiuno sudah terbuka. \n",
      "====================================================================================================\n"
     ]
    }
   ],
   "source": [
    "ix = 0\n",
    "for twet, asli, pred in zip(twet_uji, label_asli,prediksi):\n",
    "    if pred!= asli:\n",
    "        print(ix)\n",
    "        print(\"Prediksi:\",pred)\n",
    "        print(\"asli    :\",asli)\n",
    "        print(\"    \",twet)\n",
    "        print(\"=\"*100)\n",
    "    ix+=1"
   ]
  },
  {
   "cell_type": "code",
   "execution_count": null,
   "metadata": {},
   "outputs": [],
   "source": []
  },
  {
   "cell_type": "code",
   "execution_count": null,
   "metadata": {},
   "outputs": [],
   "source": []
  }
 ],
 "metadata": {
  "kernelspec": {
   "display_name": "Python 3",
   "language": "python",
   "name": "python3"
  },
  "language_info": {
   "codemirror_mode": {
    "name": "ipython",
    "version": 3
   },
   "file_extension": ".py",
   "mimetype": "text/x-python",
   "name": "python",
   "nbconvert_exporter": "python",
   "pygments_lexer": "ipython3",
   "version": "3.6.5"
  }
 },
 "nbformat": 4,
 "nbformat_minor": 2
}
